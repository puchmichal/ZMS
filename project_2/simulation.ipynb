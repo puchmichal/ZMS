{
 "cells": [
  {
   "cell_type": "markdown",
   "metadata": {},
   "source": [
    "# ZMS LAB 043 - case GWINTEX\n",
    "\n",
    "kontakt: annaszczurek2@gmail.com\n",
    "\n",
    "\n",
    "## Opis zajęć\n",
    "\n",
    "\n",
    "Firma GWINTEX S.A. jest międzynarodowym potentatem w dziedzinie produkcji korkociągów. Korkociągi są wytwarzane na bardzo nowoczesnych maszynach metalurgicznych. W związku ze znacznym wzrostem zamówień firma planuje uruchomienie nowej hali produkcyjnej, w której znajdzie się **n=6 maszyn**. Do każdej maszyny jest przypisany operator, który jest odpowiedzialny za jej obsługę oraz usuwanie awarii. Na podstawie pomiarów historycznych wiadomo, że **czas bezawaryjnej pracy maszyny ma rozkład wykładniczy ze średnią 75 minut**. W przypadku wystąpienia awarii operator dzwoni do warsztatu z prośbą o dostarczenie pakietu narzędzi naprawczych. Pakiet narzędzi jest bardzo ciężki i w związku z tym musi być transportowany za pomocą przenośnika taśmowego (taśmociągu). **Czas transportu zestawu narzędzi do maszyny wynosi *ti*, i=1..6. Czas naprawy jest zmienną losową z rozkładu Erlanga k=3 i średnio wynosi 15 minut**. Po ukończeniu naprawy narzędzia są powtórnie umieszczane na taśmociągu i wracają w komplecie do warsztatu celem ich uzupełnienia. Ze względu na specyfikę specjalistycznych narzędzi nie jest możliwe dokonywanie kolejnych napraw przed powrotem narzędzi do warsztatu. Ze względu na bardzo wysoką cenę jednego pakietu narzędzi naprawczych ich liczba ***m* jest mniejsza od liczby maszyn w hali produkcyjnej**. Gdy w danej chwili pakiet narzędzi nie jest dostępny operator czeka aż inny pakiet wróci do warsztatu i zostanie mu wysłany.\n",
    "\n",
    "Zarząd firmy GWINTEX zastanawia się **jakie powinno być rozmieszczenie urządzeń na hali produkcyjnej** oraz **ile pakietów narzędziowych do obsługi maszyn należy zakupić**. Rozważane są dwie organizacje hali produkcyjnej – układ liniowy oraz układ gniazdowy. **W układzie liniowym czas transportu narzędzi z warsztatu do maszyny wynosi ***ti=i*2***, natomiast **w układzie gniazdowym czas ten jest stały i wynosi 3 minuty**. Czas transportu narzędzi do warsztatu jest taki sam jak czas transportu do maszyny. Wprowadzenie układu gniazdowego wiąże się z wyższymi kosztami instalacyjnymi związanymi z uruchomieniem sześciu niezależnych taśmociągów.\n",
    "\n",
    "\n",
    "\n",
    "\n",
    "## ROZWIĄZANIE\n",
    "\n",
    "*author: P*\n",
    "\n",
    "### 1. Stałe i zmienne wykorzystane w modelu"
   ]
  },
  {
   "cell_type": "code",
   "execution_count": 1,
   "metadata": {},
   "outputs": [],
   "source": [
    "import numpy as np"
   ]
  },
  {
   "cell_type": "code",
   "execution_count": 2,
   "metadata": {},
   "outputs": [],
   "source": [
    "# liczba maszyn\n",
    "n = 6 \n",
    "\n",
    "# średni czas pracy bez usterki\n",
    "avg_working_time = 75 # minut\n",
    "\n",
    "# średni czas naprawy\n",
    "avg_repair_time = 15 # minut\n",
    "\n",
    "# ilość zestawów narzędzi\n",
    "m = 6\n",
    "\n",
    "# horyzont analizy\n",
    "horizon = 30 # dni\n",
    "\n",
    "# liczba uruchomień symulacji\n",
    "iterations = 1000   "
   ]
  },
  {
   "cell_type": "code",
   "execution_count": 3,
   "metadata": {},
   "outputs": [],
   "source": [
    "# Toolset transport times for all considered setups - this should facilitate easier handling of new\n",
    "# setups\n",
    "transport_times = {'L': {i:2*(i+1) for i in range(6)}, 'G': {i:3 for i in range(6)},\n",
    "                   'L2': {0:6, 1:4, 2:2, 3:2, 4:4, 5:6}}"
   ]
  },
  {
   "cell_type": "markdown",
   "metadata": {},
   "source": [
    "### 2. Model\n",
    "\n",
    "Wektory, które mają za zadanie kontrolować stan symulacji:\n",
    "\n",
    "- momenty wystąpienia kolejnych zdarzeń\n",
    "- status narzędzi i maszyn \n",
    "    - `W` - pracuje \n",
    "    - `Q` - czeka na narzedzia \n",
    "    - `R` - jest naprawiona\n",
    "- czas ich bezczynności\n",
    "- events --> wektor zdarzeń, które zmieniają stan symulacji (np. zepsucie się maszyny, czas naprawy, itp.)"
   ]
  },
  {
   "cell_type": "code",
   "execution_count": 5,
   "metadata": {
    "scrolled": true
   },
   "outputs": [],
   "source": [
    "def model(horizon, avg_working_time, avg_repair_time, n, m, setup):\n",
    "    # setup - układ liniowy \"L\" lub gniazdowy \"G\"\n",
    "    \n",
    "    # horyzont działania w minutach\n",
    "    horizon = horizon * 24 * 60 \n",
    "    \n",
    "    # wektor zdarzeń, który zmienia stan symulacji\n",
    "    events = list(np.random.exponential(avg_working_time, n))\n",
    "    \n",
    "    # status - określa aktualny stan maszyny \n",
    "    status = [\"W\"] * n\n",
    "\n",
    "    # t_start - określa początek bezczynności maszyny\n",
    "    t_start = [0] * n\n",
    "\n",
    "    # t_cum - skumulowany czas bezczynności maszyny\n",
    "    t_cum = [0] * n\n",
    "\n",
    "    # tools_loc lokalizacja narzedzi - albo numer maszyny albo -1 czyli warsztat\n",
    "    tools_loc = [-1] * m\n",
    "\n",
    "    # tools_occupied czas zajecia zestawu przez naprawianą maszynę\n",
    "    tools_occupied = [0] * m\n",
    "    \n",
    "    # zegar symulacji- najblizsze zadanie, które ma być wykonane\n",
    "    t = min(events)\n",
    "    \n",
    "    # rozpoczynamy symulacje \"skacząc\" po kolejnych zdarzeniach  \n",
    "    while t <= horizon:\n",
    "        \n",
    "        # jeżeli zestawy nie są aktualnie zajęte to przenosimy je z powrotem do warsztatu\n",
    "        for i in range(m):\n",
    "            if tools_occupied[i] <= t:\n",
    "                tools_loc[i] = -1\n",
    "\n",
    "        # wybieramy maszynę, której dotyczy zdarzenie\n",
    "        machine = events.index(t)\n",
    "        \n",
    "        \"\"\"\n",
    "        Gdy maszyna, której dotyczy zdarzenie ma status \"W\":\n",
    "            - to najpierw zaktualizuj wektor t_start dla tej maszyny jako początek jej bezczynności = t.\n",
    "            - następnie sprawdź czy dostępny jest jakiś zestaw naprawczy. Jezeli nie:\n",
    "                - to ustaw status maszyny na \"Q\" \n",
    "                - zaktualizuj wektor events podajac mu najkrótszy czas oczekiwania na wolny zestaw.\n",
    "              Jeżeli tak:\n",
    "                - ustaw status maszyny na \"R\"\n",
    "                - wyznacz czas  potrzebny na naprawę maszyny w zależności od ukladu taśmociągu \n",
    "                (czas transportu + czas naprawy)\n",
    "                - ustaw koniec naprawy jako zdarzenie dla danej maszyny\n",
    "                - zaktualizuj wektor tools_loc dla odpowiedniego zestawu podając numer maszyny, którą on obsługuje\n",
    "                - zaktualizuj wektor tools_occupied czasem jaki mu to zajmie (2* transport + naprawa)\n",
    "        \"\"\"\n",
    "        if status[machine] == \"W\":\n",
    "            t_start[machine] = t\n",
    "            tools = - 1\n",
    "            for i in range(m):\n",
    "                if tools_loc[i] == -1:\n",
    "                    tools = i\n",
    "                    break\n",
    "            if tools == -1 :\n",
    "                status[machine] = \"Q\"\n",
    "                events[machine] = min(tools_occupied)\n",
    "            else:\n",
    "                status[machine] = \"R\"\n",
    "                transport_time = transport_times[setup][machine]\n",
    "                repair_time = np.random.gamma(3, avg_repair_time/3)\n",
    "                events[machine] += repair_time + transport_time\n",
    "                tools_loc[tools] = machine\n",
    "                tools_occupied[tools] += repair_time + 2 * transport_time\n",
    "                \n",
    "                \"\"\"\n",
    "                Gdy maszyna ma status \"Q\":\n",
    "                    - wybierz dostępny zestaw naprawczy\n",
    "                    - ustal status maszyny na \"R\"\n",
    "                    - zaktualizuj wektor tools_loc lokalizacją narzedzi i tools_occupied \n",
    "                    czasem jaki zajmie ich transport (w dwie strony) i naprawa maszyny\n",
    "                    -zaktualizuj wektor zdarzeń czasem potrzebnym na naprawę maszyny i transport narzedzi\n",
    "                \"\"\"\n",
    "                \n",
    "        elif status[machine] == \"Q\":\n",
    "            for i in range(m):\n",
    "                if tools_loc[i] == -1:\n",
    "                    tools = i\n",
    "                    break\n",
    "            status[machine] = \"R\"\n",
    "            transport_time = transport_times[setup][machine]\n",
    "            repair_time = np.random.gamma(3, avg_repair_time/3)\n",
    "            events[machine] += repair_time + transport_time\n",
    "            tools_loc[tools] = machine\n",
    "            tools_occupied[tools] += repair_time + 2 * transport_time \n",
    "            \"\"\"\n",
    "            Gdy maszyna ma status \"R\":\n",
    "                - ustal jej status na \"W\"\n",
    "                - wyznacz czas kolejnej awarii i zaktualizuj wektor events\n",
    "                - wylicz czas bezczynnosci i uzupelnij o niego liste t_cum\n",
    "            \"\"\"\n",
    "            \n",
    "        else:\n",
    "            status[machine] = \"W\"\n",
    "            events[machine] += np.random.exponential(avg_working_time)\n",
    "            t_cum[machine] += t - t_start[machine]\n",
    "        \n",
    "        # ustalamy nowe t\n",
    "        t = min(events)\n",
    "        \n",
    "    # wynik - liste skumulowanych bezczynnosci dla kazdej z maszyn\n",
    "    return (t_cum)"
   ]
  },
  {
   "cell_type": "markdown",
   "metadata": {},
   "source": [
    "### 3. Funkcja do uruchomienia symulacji"
   ]
  },
  {
   "cell_type": "markdown",
   "metadata": {},
   "source": [
    "Added seed to provide reproducibility of results"
   ]
  },
  {
   "cell_type": "code",
   "execution_count": 9,
   "metadata": {},
   "outputs": [],
   "source": [
    "def run_model (iterations, horizon, avg_working_time, avg_repair_time, n, m, setup):\n",
    "    avg_t_cum = []\n",
    "    for i in range (iterations):\n",
    "        np.random.seed(i)\n",
    "        avg_t_cum.append(model( horizon, avg_working_time, avg_repair_time, n, m, setup))\n",
    "    return list(map(np.mean, np.transpose(avg_t_cum)))\n"
   ]
  },
  {
   "cell_type": "markdown",
   "metadata": {},
   "source": [
    "### 3. Symulacja"
   ]
  },
  {
   "cell_type": "code",
   "execution_count": 7,
   "metadata": {
    "scrolled": true
   },
   "outputs": [
    {
     "data": {
      "text/plain": [
       "[7974.3852002945396,\n",
       " 8730.3138986444428,\n",
       " 9451.6315973996261,\n",
       " 10128.150628311123,\n",
       " 10818.61986875565,\n",
       " 11450.562571701917]"
      ]
     },
     "execution_count": 7,
     "metadata": {},
     "output_type": "execute_result"
    }
   ],
   "source": [
    "run_model(iterations, horizon, avg_working_time, avg_repair_time, n, m, \"L\")"
   ]
  },
  {
   "cell_type": "code",
   "execution_count": 8,
   "metadata": {
    "scrolled": true
   },
   "outputs": [
    {
     "data": {
      "text/plain": [
       "[7963.7787671263422,\n",
       " 8726.912115948162,\n",
       " 9451.1463341973431,\n",
       " 10127.195944205723,\n",
       " 10778.285911584057,\n",
       " 11453.647507362011]"
      ]
     },
     "execution_count": 8,
     "metadata": {},
     "output_type": "execute_result"
    }
   ],
   "source": [
    "run_model(iterations, horizon, avg_working_time, avg_repair_time, n, m, \"L\")"
   ]
  },
  {
   "cell_type": "code",
   "execution_count": 18,
   "metadata": {
    "scrolled": true
   },
   "outputs": [
    {
     "data": {
      "text/plain": [
       "[8313.5019853223403,\n",
       " 8287.4807087069039,\n",
       " 8525.7107725203095,\n",
       " 8654.0727393056532,\n",
       " 8425.2484168141636,\n",
       " 8483.1339937925459]"
      ]
     },
     "execution_count": 18,
     "metadata": {},
     "output_type": "execute_result"
    }
   ],
   "source": [
    "run_model(iterations, horizon, avg_working_time, avg_repair_time, n, m, \"G\")"
   ]
  },
  {
   "cell_type": "code",
   "execution_count": 21,
   "metadata": {
    "scrolled": true
   },
   "outputs": [
    {
     "data": {
      "text/plain": [
       "[9425.0862005853669,\n",
       " 8776.1980700145123,\n",
       " 8018.6077757133562,\n",
       " 8340.5776848787864,\n",
       " 8561.0899056974868,\n",
       " 9440.1565673060777]"
      ]
     },
     "execution_count": 21,
     "metadata": {},
     "output_type": "execute_result"
    }
   ],
   "source": [
    "run_model(iterations, horizon, avg_working_time, avg_repair_time, n, m, \"L2\")"
   ]
  },
  {
   "cell_type": "markdown",
   "metadata": {},
   "source": [
    "### 4. Simplest comparison"
   ]
  },
  {
   "cell_type": "code",
   "execution_count": 10,
   "metadata": {},
   "outputs": [],
   "source": [
    "import time"
   ]
  },
  {
   "cell_type": "code",
   "execution_count": 11,
   "metadata": {},
   "outputs": [
    {
     "name": "stdout",
     "output_type": "stream",
     "text": [
      "Entire simulation duration time: 1204.5s\n"
     ]
    }
   ],
   "source": [
    "t0 = time.clock()\n",
    "results = {}\n",
    "for setup in ['L', 'G', 'L2']:\n",
    "    for m in range(5):\n",
    "        results[(setup, m+1)] = run_model(iterations, horizon, avg_working_time, avg_repair_time, n, m+1, setup)\n",
    "print('Entire simulation duration time: {:.1f}s'.format(time.clock() - t0))"
   ]
  },
  {
   "cell_type": "code",
   "execution_count": 12,
   "metadata": {},
   "outputs": [],
   "source": [
    "from pandas import DataFrame"
   ]
  },
  {
   "cell_type": "code",
   "execution_count": 13,
   "metadata": {},
   "outputs": [],
   "source": [
    "df = DataFrame.from_dict(results).T"
   ]
  },
  {
   "cell_type": "code",
   "execution_count": 14,
   "metadata": {},
   "outputs": [],
   "source": [
    "from matplotlib import pyplot as plt"
   ]
  },
  {
   "cell_type": "code",
   "execution_count": 15,
   "metadata": {},
   "outputs": [
    {
     "data": {
      "text/plain": [
       "<matplotlib.axes._subplots.AxesSubplot at 0x1c0c15f5c88>"
      ]
     },
     "execution_count": 15,
     "metadata": {},
     "output_type": "execute_result"
    },
    {
     "data": {
      "image/png": "[encoded data removed]",
      "text/plain": [
       "<matplotlib.figure.Figure at 0x1c0c1690d68>"
      ]
     },
     "metadata": {
      "needs_background": "light"
     },
     "output_type": "display_data"
    }
   ],
   "source": [
    "df.loc[('G', slice(None)),:].plot()"
   ]
  },
  {
   "cell_type": "code",
   "execution_count": 16,
   "metadata": {},
   "outputs": [
    {
     "data": {
      "text/plain": [
       "<matplotlib.axes._subplots.AxesSubplot at 0x1c0c15093c8>"
      ]
     },
     "execution_count": 16,
     "metadata": {},
     "output_type": "execute_result"
    },
    {
     "data": {
      "image/png": "[encoded data removed]",
      "text/plain": [
       "<matplotlib.figure.Figure at 0x1c0c15f51d0>"
      ]
     },
     "metadata": {
      "needs_background": "light"
     },
     "output_type": "display_data"
    }
   ],
   "source": [
    "df.loc[('L', slice(None)),:].plot()"
   ]
  },
  {
   "cell_type": "code",
   "execution_count": 17,
   "metadata": {},
   "outputs": [
    {
     "data": {
      "text/plain": [
       "<matplotlib.axes._subplots.AxesSubplot at 0x1c0c0e24da0>"
      ]
     },
     "execution_count": 17,
     "metadata": {},
     "output_type": "execute_result"
    },
    {
     "data": {
      "image/png": "[encoded data removed]",
      "text/plain": [
       "<matplotlib.figure.Figure at 0x1c0c181f1d0>"
      ]
     },
     "metadata": {
      "needs_background": "light"
     },
     "output_type": "display_data"
    }
   ],
   "source": [
    "df.loc[('L2', slice(None)),:].plot()"
   ]
  },
  {
   "cell_type": "markdown",
   "metadata": {},
   "source": [
    "Interestingly, either the simulation code contains some mistakes or buying more than 2 toolkits doesn't materially improve the efficiency."
   ]
  },
  {
   "cell_type": "code",
   "execution_count": 19,
   "metadata": {},
   "outputs": [],
   "source": [
    "df2 = df.mean(axis=1).unstack()"
   ]
  },
  {
   "cell_type": "markdown",
   "metadata": {},
   "source": [
    "Basing on the table above we can approximate various intervals of machine downtime cost at which each solution would be optimal"
   ]
  },
  {
   "cell_type": "code",
   "execution_count": 20,
   "metadata": {},
   "outputs": [
    {
     "data": {
      "text/html": [
       "<div>\n",
       "<style>\n",
       "    .dataframe thead tr:only-child th {\n",
       "        text-align: right;\n",
       "    }\n",
       "\n",
       "    .dataframe thead th {\n",
       "        text-align: left;\n",
       "    }\n",
       "\n",
       "    .dataframe tbody tr th {\n",
       "        vertical-align: top;\n",
       "    }\n",
       "</style>\n",
       "<table border=\"1\" class=\"dataframe\">\n",
       "  <thead>\n",
       "    <tr style=\"text-align: right;\">\n",
       "      <th></th>\n",
       "      <th>1</th>\n",
       "      <th>2</th>\n",
       "      <th>3</th>\n",
       "      <th>4</th>\n",
       "      <th>5</th>\n",
       "    </tr>\n",
       "  </thead>\n",
       "  <tbody>\n",
       "    <tr>\n",
       "      <th>G</th>\n",
       "      <td>17464.526793</td>\n",
       "      <td>8360.691080</td>\n",
       "      <td>8357.604714</td>\n",
       "      <td>8357.481145</td>\n",
       "      <td>8357.481145</td>\n",
       "    </tr>\n",
       "    <tr>\n",
       "      <th>L</th>\n",
       "      <td>24467.989674</td>\n",
       "      <td>9770.147599</td>\n",
       "      <td>9757.190036</td>\n",
       "      <td>9757.330314</td>\n",
       "      <td>9757.089707</td>\n",
       "    </tr>\n",
       "    <tr>\n",
       "      <th>L2</th>\n",
       "      <td>19641.057846</td>\n",
       "      <td>8724.301445</td>\n",
       "      <td>8721.910920</td>\n",
       "      <td>8721.458366</td>\n",
       "      <td>8722.070405</td>\n",
       "    </tr>\n",
       "  </tbody>\n",
       "</table>\n",
       "</div>"
      ],
      "text/plain": [
       "               1            2            3            4            5\n",
       "G   17464.526793  8360.691080  8357.604714  8357.481145  8357.481145\n",
       "L   24467.989674  9770.147599  9757.190036  9757.330314  9757.089707\n",
       "L2  19641.057846  8724.301445  8721.910920  8721.458366  8722.070405"
      ]
     },
     "execution_count": 20,
     "metadata": {},
     "output_type": "execute_result"
    }
   ],
   "source": [
    "df2 "
   ]
  },
  {
   "cell_type": "code",
   "execution_count": 23,
   "metadata": {},
   "outputs": [
    {
     "data": {
      "text/plain": [
       "1    0.802725\n",
       "2    0.892955\n",
       "3    0.893896\n",
       "4    0.893837\n",
       "5    0.893921\n",
       "dtype: float64"
      ]
     },
     "execution_count": 23,
     "metadata": {},
     "output_type": "execute_result"
    }
   ],
   "source": [
    "df2.loc[\"L2\",:] / df2.loc['L',:]"
   ]
  },
  {
   "cell_type": "markdown",
   "metadata": {},
   "source": [
    "First observation is that for the initial parametrization, the proposed rearrangement of the linear setup provides at least 10% less machine downtime on average."
   ]
  },
  {
   "cell_type": "code",
   "execution_count": 29,
   "metadata": {},
   "outputs": [
    {
     "data": {
      "text/plain": [
       "array([[ 0.47872417,  0.99963085,  0.99998521,  1.        ],\n",
       "       [ 0.39930324,  0.99867376,  1.00001438,  0.99997534],\n",
       "       [ 0.44418694,  0.99972599,  0.99994811,  1.00007018]])"
      ]
     },
     "execution_count": 29,
     "metadata": {},
     "output_type": "execute_result"
    }
   ],
   "source": [
    "df2.loc[:,2:5].values / df2.loc[:,1:4].values"
   ]
  },
  {
   "cell_type": "markdown",
   "metadata": {},
   "source": [
    "The table above shows that while buying a second toolkit reduces machine downtime by more than 50%, purchasing more toolkits has almost no impact on total downtime. This will be most likely dependent on average time between failures as well as average repair time - do we want to analyse this relationship?"
   ]
  },
  {
   "cell_type": "code",
   "execution_count": 39,
   "metadata": {},
   "outputs": [
    {
     "data": {
      "text/plain": [
       "array([ 151.73059523,  244.96403459,  181.94594001])"
      ]
     },
     "execution_count": 39,
     "metadata": {},
     "output_type": "execute_result"
    }
   ],
   "source": [
    "(df2.loc[:,1].values - df2.loc[:,2].values) / 60"
   ]
  },
  {
   "cell_type": "code",
   "execution_count": 41,
   "metadata": {},
   "outputs": [
    {
     "data": {
      "text/plain": [
       "array([ 23.49094198,   6.06017276])"
      ]
     },
     "execution_count": 41,
     "metadata": {},
     "output_type": "execute_result"
    }
   ],
   "source": [
    "(df2.loc['L':'L2',2].values - df2.loc['G',2]) / 60"
   ]
  },
  {
   "cell_type": "markdown",
   "metadata": {},
   "source": [
    "<b>Key findings:</b>\n",
    "- In the current setting, a most-likely optimal scenario would be to purchase 2 toolkits.\n",
    "- Notably, buying a second toolkit is much more important than changing the setup from linear to spherical/radial (or whatever the proper English name would be). This pays off as long as the cost of a single toolkit is no higher than 245 hours of monthly downtime per machine (181 hours if the modified linear setup can be accommodated).\n",
    "- Any further improvement would require implementing radial setup instead of the linear one. This is reasonable when the extra cost of implementing this setup doesn't exceed the costs associated with an average of 23.5 hours of downtime per machine (6 if the modified linear setup is feasible).\n",
    "- Thus, if machine downtime costs is moderate, the recommended solution is to implement the modified linear setup and purchase 2 toolkits. Profits from any further investments will be negligible, unless the cost difference between the spherical and the linear setup is also small.</li>\n",
    "<br><b>TBA: sensitivity analysis (suggested variables: average time between failures, average repair time, perhaps variance of the repair time)</b>"
   ]
  },
  {
   "cell_type": "markdown",
   "metadata": {},
   "source": [
    "<b>Issues:</b>\n",
    "- Since df2.loc['G',4] == df2.loc['G',5] should we be worried about proper seed setting?"
   ]
  },
  {
   "cell_type": "markdown",
   "metadata": {},
   "source": [
    "<b>Data export</b><br>\n",
    "<i>So that it is not necessary to run the simulation over and over again to modify a few plots</i>"
   ]
  },
  {
   "cell_type": "code",
   "execution_count": 43,
   "metadata": {},
   "outputs": [],
   "source": [
    "df.to_hdf('results.hdf', key = 'full_results')\n",
    "df2.to_hdf('results.hdf', key = 'machine_means')"
   ]
  },
  {
   "cell_type": "code",
   "execution_count": 45,
   "metadata": {},
   "outputs": [
    {
     "name": "stdout",
     "output_type": "stream",
     "text": [
      "All DataFrames saved correctly\n"
     ]
    }
   ],
   "source": [
    "# Check\n",
    "from pandas import read_hdf\n",
    "if df.equals(read_hdf('results.hdf', key = 'full_results')):\n",
    "    if df2.equals(read_hdf('results.hdf', key = 'machine_means')):\n",
    "        print('All DataFrames saved correctly')\n",
    "    else:\n",
    "        print('df2 saved/read incorrectly')\n",
    "else: print('df saved/read incorrectly')"
   ]
  }
 ],
 "metadata": {
  "kernelspec": {
   "display_name": "Python 3",
   "language": "python",
   "name": "python3"
  },
  "language_info": {
   "codemirror_mode": {
    "name": "ipython",
    "version": 3
   },
   "file_extension": ".py",
   "mimetype": "text/x-python",
   "name": "python",
   "nbconvert_exporter": "python",
   "pygments_lexer": "ipython3",
   "version": "3.6.6"
  }
 },
 "nbformat": 4,
 "nbformat_minor": 2
}
