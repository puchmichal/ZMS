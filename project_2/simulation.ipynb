{
 "cells": [
  {
   "cell_type": "markdown",
   "metadata": {},
   "source": [
    "# ZMS LAB 043 - case GWINTEX\n",
    "\n",
    "kontakt: annaszczurek2@gmail.com\n",
    "\n",
    "\n",
    "## Opis zajęć\n",
    "\n",
    "\n",
    "Firma GWINTEX S.A. jest międzynarodowym potentatem w dziedzinie produkcji korkociągów. Korkociągi są wytwarzane na bardzo nowoczesnych maszynach metalurgicznych. W związku ze znacznym wzrostem zamówień firma planuje uruchomienie nowej hali produkcyjnej, w której znajdzie się **n=6 maszyn**. Do każdej maszyny jest przypisany operator, który jest odpowiedzialny za jej obsługę oraz usuwanie awarii. Na podstawie pomiarów historycznych wiadomo, że **czas bezawaryjnej pracy maszyny ma rozkład wykładniczy ze średnią 75 minut**. W przypadku wystąpienia awarii operator dzwoni do warsztatu z prośbą o dostarczenie pakietu narzędzi naprawczych. Pakiet narzędzi jest bardzo ciężki i w związku z tym musi być transportowany za pomocą przenośnika taśmowego (taśmociągu). **Czas transportu zestawu narzędzi do maszyny wynosi *ti*, i=1..6. Czas naprawy jest zmienną losową z rozkładu Erlanga k=3 i średnio wynosi 15 minut**. Po ukończeniu naprawy narzędzia są powtórnie umieszczane na taśmociągu i wracają w komplecie do warsztatu celem ich uzupełnienia. Ze względu na specyfikę specjalistycznych narzędzi nie jest możliwe dokonywanie kolejnych napraw przed powrotem narzędzi do warsztatu. Ze względu na bardzo wysoką cenę jednego pakietu narzędzi naprawczych ich liczba ***m* jest mniejsza od liczby maszyn w hali produkcyjnej**. Gdy w danej chwili pakiet narzędzi nie jest dostępny operator czeka aż inny pakiet wróci do warsztatu i zostanie mu wysłany.\n",
    "\n",
    "Zarząd firmy GWINTEX zastanawia się **jakie powinno być rozmieszczenie urządzeń na hali produkcyjnej** oraz **ile pakietów narzędziowych do obsługi maszyn należy zakupić**. Rozważane są dwie organizacje hali produkcyjnej – układ liniowy oraz układ gniazdowy. **W układzie liniowym czas transportu narzędzi z warsztatu do maszyny wynosi ***ti=i*2***, natomiast **w układzie gniazdowym czas ten jest stały i wynosi 3 minuty**. Czas transportu narzędzi do warsztatu jest taki sam jak czas transportu do maszyny. Wprowadzenie układu gniazdowego wiąże się z wyższymi kosztami instalacyjnymi związanymi z uruchomieniem sześciu niezależnych taśmociągów.\n",
    "\n",
    "\n",
    "\n",
    "\n",
    "## ROZWIĄZANIE\n",
    "\n",
    "*author: P*\n",
    "\n",
    "### 1. Stałe i zmienne wykorzystane w modelu"
   ]
  },
  {
   "cell_type": "code",
   "execution_count": 1,
   "metadata": {},
   "outputs": [],
   "source": [
    "import numpy as np\n",
    "import pandas as pd\n",
    "import matplotlib.pyplot as plt\n",
    "\n",
    "%matplotlib inline"
   ]
  },
  {
   "cell_type": "code",
   "execution_count": 2,
   "metadata": {},
   "outputs": [],
   "source": [
    "# liczba maszyn\n",
    "n = 6 \n",
    "\n",
    "# średni czas pracy bez usterki\n",
    "avg_working_time = 75 # minut\n",
    "\n",
    "# średni czas naprawy\n",
    "avg_repair_time = 15 # minut\n",
    "\n",
    "# ilość zestawów narzędzi\n",
    "m = 2\n",
    "\n",
    "# horyzont analizy\n",
    "horizon = 30 # dni\n",
    "\n",
    "# liczba uruchomień symulacji\n",
    "iterations = 1000   "
   ]
  },
  {
   "cell_type": "code",
   "execution_count": 3,
   "metadata": {},
   "outputs": [],
   "source": [
    "# Toolset transport times for all considered setups - this should facilitate easier handling of new\n",
    "# setups\n",
    "transport_times = {'L': {i:2*(i+1) for i in range(6)}, 'G': {i:3 for i in range(6)},\n",
    "                   'L2': {0:2, 1:2, 2:4, 3:4, 4:6, 5:6}}"
   ]
  },
  {
   "cell_type": "markdown",
   "metadata": {},
   "source": [
    "### 2. Model\n",
    "\n",
    "Wektory, które mają za zadanie kontrolować stan symulacji:\n",
    "\n",
    "- momenty wystąpienia kolejnych zdarzeń\n",
    "- status narzędzi i maszyn \n",
    "    - `W` - pracuje \n",
    "    - `Q` - czeka na narzedzia \n",
    "    - `R` - jest naprawiona\n",
    "- czas ich bezczynności\n",
    "- events --> wektor zdarzeń, które zmieniają stan symulacji (np. zepsucie się maszyny, czas naprawy, itp.)"
   ]
  },
  {
   "cell_type": "code",
   "execution_count": 4,
   "metadata": {
    "scrolled": true
   },
   "outputs": [],
   "source": [
    "def model(horizon, avg_working_time, avg_repair_time, n, m, setup):\n",
    "    # setup - układ liniowy \"L\" lub gniazdowy \"G\"\n",
    "    \n",
    "    # horyzont działania w minutach\n",
    "    horizon = horizon * 24 * 60 \n",
    "    \n",
    "    # wektor zdarzeń, który zmienia stan symulacji\n",
    "    events = list(np.random.exponential(avg_working_time, n))\n",
    "    \n",
    "    # status - określa aktualny stan maszyny \n",
    "    status = [\"W\"] * n\n",
    "\n",
    "    # t_start - określa początek bezczynności maszyny\n",
    "    t_start = [0] * n\n",
    "\n",
    "    # t_cum - skumulowany czas bezczynności maszyny\n",
    "    t_cum = [0] * n\n",
    "\n",
    "    # tools_loc lokalizacja narzedzi - albo numer maszyny albo -1 czyli warsztat\n",
    "    tools_loc = [-1] * m\n",
    "\n",
    "    # tools_occupied czas zajecia zestawu przez naprawianą maszynę\n",
    "    tools_occupied = [0] * m\n",
    "    \n",
    "    # zegar symulacji- najblizsze zadanie, które ma być wykonane\n",
    "    t = min(events)\n",
    "    \n",
    "    # rozpoczynamy symulacje \"skacząc\" po kolejnych zdarzeniach  \n",
    "    while t <= horizon:\n",
    "        \n",
    "        # jeżeli zestawy nie są aktualnie zajęte to przenosimy je z powrotem do warsztatu\n",
    "        for i in range(m):\n",
    "            if tools_occupied[i] <= t:\n",
    "                tools_loc[i] = -1\n",
    "\n",
    "        # wybieramy maszynę, której dotyczy zdarzenie\n",
    "        machine = events.index(t)\n",
    "        \n",
    "        \"\"\"\n",
    "        Gdy maszyna, której dotyczy zdarzenie ma status \"W\":\n",
    "            - to najpierw zaktualizuj wektor t_start dla tej maszyny jako początek jej bezczynności = t.\n",
    "            - następnie sprawdź czy dostępny jest jakiś zestaw naprawczy. Jezeli nie:\n",
    "                - to ustaw status maszyny na \"Q\" \n",
    "                - zaktualizuj wektor events podajac mu najkrótszy czas oczekiwania na wolny zestaw.\n",
    "              Jeżeli tak:\n",
    "                - ustaw status maszyny na \"R\"\n",
    "                - wyznacz czas  potrzebny na naprawę maszyny w zależności od ukladu taśmociągu \n",
    "                (czas transportu + czas naprawy)\n",
    "                - ustaw koniec naprawy jako zdarzenie dla danej maszyny\n",
    "                - zaktualizuj wektor tools_loc dla odpowiedniego zestawu podając numer maszyny, którą on obsługuje\n",
    "                - zaktualizuj wektor tools_occupied czasem jaki mu to zajmie (2* transport + naprawa)\n",
    "        \"\"\"\n",
    "        if status[machine] == \"W\":\n",
    "            t_start[machine] = t\n",
    "            tools = - 1\n",
    "            for i in range(m):\n",
    "                if tools_loc[i] == -1:\n",
    "                    tools = i\n",
    "                    break\n",
    "            if tools == -1 :\n",
    "                status[machine] = \"Q\"\n",
    "                events[machine] = min(tools_occupied)\n",
    "            else:\n",
    "                status[machine] = \"R\"\n",
    "                transport_time = transport_times[setup][machine]\n",
    "                repair_time = np.random.gamma(3, avg_repair_time/3)\n",
    "                events[machine] += repair_time + transport_time\n",
    "                tools_loc[tools] = machine\n",
    "                tools_occupied[tools] += repair_time + 2 * transport_time\n",
    "                \n",
    "                \"\"\"\n",
    "                Gdy maszyna ma status \"Q\":\n",
    "                    - wybierz dostępny zestaw naprawczy\n",
    "                    - ustal status maszyny na \"R\"\n",
    "                    - zaktualizuj wektor tools_loc lokalizacją narzedzi i tools_occupied \n",
    "                    czasem jaki zajmie ich transport (w dwie strony) i naprawa maszyny\n",
    "                    -zaktualizuj wektor zdarzeń czasem potrzebnym na naprawę maszyny i transport narzedzi\n",
    "                \"\"\"\n",
    "                \n",
    "        elif status[machine] == \"Q\":\n",
    "            for i in range(m):\n",
    "                if tools_loc[i] == -1:\n",
    "                    tools = i\n",
    "                    break\n",
    "            status[machine] = \"R\"\n",
    "            transport_time = transport_times[setup][machine]\n",
    "            repair_time = np.random.gamma(3, avg_repair_time/3)\n",
    "            events[machine] += repair_time + transport_time\n",
    "            tools_loc[tools] = machine\n",
    "            tools_occupied[tools] += repair_time + 2 * transport_time \n",
    "            \"\"\"\n",
    "            Gdy maszyna ma status \"R\":\n",
    "                - ustal jej status na \"W\"\n",
    "                - wyznacz czas kolejnej awarii i zaktualizuj wektor events\n",
    "                - wylicz czas bezczynnosci i uzupelnij o niego liste t_cum\n",
    "            \"\"\"\n",
    "            \n",
    "        else:\n",
    "            status[machine] = \"W\"\n",
    "            events[machine] += np.random.exponential(avg_working_time)\n",
    "            t_cum[machine] += t - t_start[machine]\n",
    "        \n",
    "        # ustalamy nowe t\n",
    "        t = min(events)\n",
    "        \n",
    "    # wynik - liste skumulowanych bezczynnosci dla kazdej z maszyn\n",
    "    return (t_cum)"
   ]
  },
  {
   "cell_type": "markdown",
   "metadata": {},
   "source": [
    "### 3. Funkcja do uruchomienia symulacji"
   ]
  },
  {
   "cell_type": "markdown",
   "metadata": {},
   "source": [
    "Added seed to provide reproducibility of results"
   ]
  },
  {
   "cell_type": "code",
   "execution_count": 5,
   "metadata": {},
   "outputs": [],
   "source": [
    "def run_model (iterations, horizon, avg_working_time, avg_repair_time, n, m, setup):\n",
    "    avg_t_cum = []\n",
    "    for i in range (iterations):\n",
    "        np.random.seed(i)\n",
    "        avg_t_cum.append(model( horizon, avg_working_time, avg_repair_time, n, m, setup))\n",
    "    return list(map(np.mean, np.transpose(avg_t_cum)))\n"
   ]
  },
  {
   "cell_type": "markdown",
   "metadata": {},
   "source": [
    "### 3. Symulacja"
   ]
  },
  {
   "cell_type": "code",
   "execution_count": 6,
   "metadata": {
    "scrolled": true
   },
   "outputs": [
    {
     "data": {
      "text/plain": [
       "[8018.694649282109,\n",
       " 8757.723040266015,\n",
       " 9459.107596399343,\n",
       " 10148.612054393932,\n",
       " 10802.561983894471,\n",
       " 11434.186267129855]"
      ]
     },
     "execution_count": 6,
     "metadata": {},
     "output_type": "execute_result"
    }
   ],
   "source": [
    "run_model(iterations, horizon, avg_working_time, avg_repair_time, n, m, \"L\")"
   ]
  },
  {
   "cell_type": "code",
   "execution_count": 7,
   "metadata": {
    "scrolled": true
   },
   "outputs": [
    {
     "data": {
      "text/plain": [
       "[8018.694649282109,\n",
       " 8757.723040266015,\n",
       " 9459.107596399343,\n",
       " 10148.612054393932,\n",
       " 10802.561983894471,\n",
       " 11434.186267129855]"
      ]
     },
     "execution_count": 7,
     "metadata": {},
     "output_type": "execute_result"
    }
   ],
   "source": [
    "run_model(iterations, horizon, avg_working_time, avg_repair_time, n, m, \"L\")"
   ]
  },
  {
   "cell_type": "code",
   "execution_count": 8,
   "metadata": {
    "scrolled": true
   },
   "outputs": [
    {
     "data": {
      "text/plain": [
       "[8347.564915484105,\n",
       " 8380.123700064243,\n",
       " 8355.256106694358,\n",
       " 8384.153839734714,\n",
       " 8355.111450984408,\n",
       " 8341.936466176845]"
      ]
     },
     "execution_count": 8,
     "metadata": {},
     "output_type": "execute_result"
    }
   ],
   "source": [
    "run_model(iterations, horizon, avg_working_time, avg_repair_time, n, m, \"G\")"
   ]
  },
  {
   "cell_type": "code",
   "execution_count": 9,
   "metadata": {
    "scrolled": true
   },
   "outputs": [
    {
     "data": {
      "text/plain": [
       "[7982.470214492975,\n",
       " 7982.707444103228,\n",
       " 8722.963504558775,\n",
       " 8748.355167298496,\n",
       " 9449.006820007518,\n",
       " 9459.140013321161]"
      ]
     },
     "execution_count": 9,
     "metadata": {},
     "output_type": "execute_result"
    }
   ],
   "source": [
    "run_model(iterations, horizon, avg_working_time, avg_repair_time, n, m, \"L2\")"
   ]
  },
  {
   "cell_type": "markdown",
   "metadata": {},
   "source": [
    "### 4. Simplest comparison"
   ]
  },
  {
   "cell_type": "code",
   "execution_count": 10,
   "metadata": {},
   "outputs": [],
   "source": [
    "import time"
   ]
  },
  {
   "cell_type": "code",
   "execution_count": 11,
   "metadata": {},
   "outputs": [
    {
     "name": "stderr",
     "output_type": "stream",
     "text": [
      "D:\\Anaconda\\lib\\site-packages\\ipykernel_launcher.py:1: DeprecationWarning: time.clock has been deprecated in Python 3.3 and will be removed from Python 3.8: use time.perf_counter or time.process_time instead\n",
      "  \"\"\"Entry point for launching an IPython kernel.\n"
     ]
    },
    {
     "name": "stdout",
     "output_type": "stream",
     "text": [
      "Entire simulation duration time: 664.6s\n"
     ]
    },
    {
     "name": "stderr",
     "output_type": "stream",
     "text": [
      "D:\\Anaconda\\lib\\site-packages\\ipykernel_launcher.py:6: DeprecationWarning: time.clock has been deprecated in Python 3.3 and will be removed from Python 3.8: use time.perf_counter or time.process_time instead\n",
      "  \n"
     ]
    }
   ],
   "source": [
    "t0 = time.clock()\n",
    "results = {}\n",
    "for setup in ['L', 'G', 'L2']:\n",
    "    for m in range(5):\n",
    "        results[(setup, m+1)] = run_model(iterations, horizon, avg_working_time, avg_repair_time, n, m+1, setup)\n",
    "print('Entire simulation duration time: {:.1f}s'.format(time.clock() - t0))"
   ]
  },
  {
   "cell_type": "code",
   "execution_count": 12,
   "metadata": {},
   "outputs": [],
   "source": [
    "df = pd.DataFrame.from_dict(results).T"
   ]
  },
  {
   "cell_type": "code",
   "execution_count": 13,
   "metadata": {},
   "outputs": [
    {
     "data": {
      "text/plain": [
       "<matplotlib.axes._subplots.AxesSubplot at 0x8b2fb70>"
      ]
     },
     "execution_count": 13,
     "metadata": {},
     "output_type": "execute_result"
    },
    {
     "data": {
      "image/png": "[encoded data removed]",
      "text/plain": [
       "<Figure size 432x288 with 1 Axes>"
      ]
     },
     "metadata": {
      "needs_background": "light"
     },
     "output_type": "display_data"
    }
   ],
   "source": [
    "df.loc[('G', slice(None)),:].plot()"
   ]
  },
  {
   "cell_type": "code",
   "execution_count": 14,
   "metadata": {},
   "outputs": [
    {
     "data": {
      "text/plain": [
       "<matplotlib.axes._subplots.AxesSubplot at 0x8c859b0>"
      ]
     },
     "execution_count": 14,
     "metadata": {},
     "output_type": "execute_result"
    },
    {
     "data": {
      "image/png": "[encoded data removed]",
      "text/plain": [
       "<Figure size 432x288 with 1 Axes>"
      ]
     },
     "metadata": {
      "needs_background": "light"
     },
     "output_type": "display_data"
    }
   ],
   "source": [
    "df.loc[('L', slice(None)),:].plot()"
   ]
  },
  {
   "cell_type": "code",
   "execution_count": 15,
   "metadata": {},
   "outputs": [
    {
     "data": {
      "text/plain": [
       "<matplotlib.axes._subplots.AxesSubplot at 0x8d556a0>"
      ]
     },
     "execution_count": 15,
     "metadata": {},
     "output_type": "execute_result"
    },
    {
     "data": {
      "image/png": "[encoded data removed]",
      "text/plain": [
       "<Figure size 432x288 with 1 Axes>"
      ]
     },
     "metadata": {
      "needs_background": "light"
     },
     "output_type": "display_data"
    }
   ],
   "source": [
    "df.loc[('L2', slice(None)),:].plot()"
   ]
  },
  {
   "cell_type": "markdown",
   "metadata": {},
   "source": [
    "Interestingly, either the simulation code contains some mistakes or buying more than 2 toolkits doesn't materially improve the efficiency."
   ]
  },
  {
   "cell_type": "code",
   "execution_count": 16,
   "metadata": {},
   "outputs": [],
   "source": [
    "df2 = df.mean(axis=1).unstack()"
   ]
  },
  {
   "cell_type": "markdown",
   "metadata": {},
   "source": [
    "Basing on the table above we can approximate various intervals of machine downtime cost at which each solution would be optimal"
   ]
  },
  {
   "cell_type": "code",
   "execution_count": 17,
   "metadata": {},
   "outputs": [
    {
     "data": {
      "text/html": [
       "<div>\n",
       "<style scoped>\n",
       "    .dataframe tbody tr th:only-of-type {\n",
       "        vertical-align: middle;\n",
       "    }\n",
       "\n",
       "    .dataframe tbody tr th {\n",
       "        vertical-align: top;\n",
       "    }\n",
       "\n",
       "    .dataframe thead th {\n",
       "        text-align: right;\n",
       "    }\n",
       "</style>\n",
       "<table border=\"1\" class=\"dataframe\">\n",
       "  <thead>\n",
       "    <tr style=\"text-align: right;\">\n",
       "      <th></th>\n",
       "      <th>1</th>\n",
       "      <th>2</th>\n",
       "      <th>3</th>\n",
       "      <th>4</th>\n",
       "      <th>5</th>\n",
       "    </tr>\n",
       "  </thead>\n",
       "  <tbody>\n",
       "    <tr>\n",
       "      <th>G</th>\n",
       "      <td>17464.526793</td>\n",
       "      <td>8360.691080</td>\n",
       "      <td>8357.604714</td>\n",
       "      <td>8357.481145</td>\n",
       "      <td>8357.481145</td>\n",
       "    </tr>\n",
       "    <tr>\n",
       "      <th>L</th>\n",
       "      <td>24467.989674</td>\n",
       "      <td>9770.147599</td>\n",
       "      <td>9757.190036</td>\n",
       "      <td>9757.330314</td>\n",
       "      <td>9757.089707</td>\n",
       "    </tr>\n",
       "    <tr>\n",
       "      <th>L2</th>\n",
       "      <td>19646.098429</td>\n",
       "      <td>8724.107194</td>\n",
       "      <td>8720.785364</td>\n",
       "      <td>8719.789641</td>\n",
       "      <td>8719.800238</td>\n",
       "    </tr>\n",
       "  </tbody>\n",
       "</table>\n",
       "</div>"
      ],
      "text/plain": [
       "               1            2            3            4            5\n",
       "G   17464.526793  8360.691080  8357.604714  8357.481145  8357.481145\n",
       "L   24467.989674  9770.147599  9757.190036  9757.330314  9757.089707\n",
       "L2  19646.098429  8724.107194  8720.785364  8719.789641  8719.800238"
      ]
     },
     "execution_count": 17,
     "metadata": {},
     "output_type": "execute_result"
    }
   ],
   "source": [
    "df2 "
   ]
  },
  {
   "cell_type": "code",
   "execution_count": 18,
   "metadata": {},
   "outputs": [
    {
     "data": {
      "text/plain": [
       "1    0.802931\n",
       "2    0.892935\n",
       "3    0.893780\n",
       "4    0.893666\n",
       "5    0.893689\n",
       "dtype: float64"
      ]
     },
     "execution_count": 18,
     "metadata": {},
     "output_type": "execute_result"
    }
   ],
   "source": [
    "df2.loc[\"L2\",:] / df2.loc['L',:]"
   ]
  },
  {
   "cell_type": "markdown",
   "metadata": {},
   "source": [
    "First observation is that for the initial parametrization, the proposed rearrangement of the linear setup provides at least 10% less machine downtime on average."
   ]
  },
  {
   "cell_type": "code",
   "execution_count": 21,
   "metadata": {},
   "outputs": [
    {
     "data": {
      "text/plain": [
       "array([[0.47872417, 0.99963085, 0.99998521, 1.        ],\n",
       "       [0.39930324, 0.99867376, 1.00001438, 0.99997534],\n",
       "       [0.44406309, 0.99961924, 0.99988582, 1.00000122]])"
      ]
     },
     "execution_count": 21,
     "metadata": {},
     "output_type": "execute_result"
    }
   ],
   "source": [
    "df2.loc[:,2:5].values / df2.loc[:,1:4].values"
   ]
  },
  {
   "cell_type": "markdown",
   "metadata": {},
   "source": [
    "The table above shows that while buying a second toolkit reduces machine downtime by more than 50%, purchasing more toolkits has almost no impact on total downtime. This will be most likely dependent on average time between failures as well as average repair time - do we want to analyse this relationship?"
   ]
  },
  {
   "cell_type": "code",
   "execution_count": 22,
   "metadata": {},
   "outputs": [
    {
     "data": {
      "text/plain": [
       "array([151.73059523, 244.96403459, 182.03318725])"
      ]
     },
     "execution_count": 22,
     "metadata": {},
     "output_type": "execute_result"
    }
   ],
   "source": [
    "(df2.loc[:,1].values - df2.loc[:,2].values) / 60"
   ]
  },
  {
   "cell_type": "code",
   "execution_count": 23,
   "metadata": {},
   "outputs": [
    {
     "data": {
      "text/plain": [
       "array([23.49094198,  6.05693524])"
      ]
     },
     "execution_count": 23,
     "metadata": {},
     "output_type": "execute_result"
    }
   ],
   "source": [
    "(df2.loc['L':'L2',2].values - df2.loc['G',2]) / 60"
   ]
  },
  {
   "cell_type": "markdown",
   "metadata": {},
   "source": [
    "<b>Key findings:</b>\n",
    "- In the current setting, a most-likely optimal scenario would be to purchase 2 toolkits.\n",
    "- Notably, buying a second toolkit is much more important than changing the setup from linear to spherical/radial (or whatever the proper English name would be). This pays off as long as the cost of a single toolkit is no higher than 245 hours of monthly downtime per machine (181 hours if the modified linear setup can be accommodated).\n",
    "- Any further improvement would require implementing radial setup instead of the linear one. This is reasonable when the extra cost of implementing this setup doesn't exceed the costs associated with an average of 23.5 hours of downtime per machine (6 if the modified linear setup is feasible).\n",
    "- Thus, if machine downtime costs is moderate, the recommended solution is to implement the modified linear setup and purchase 2 toolkits. Profits from any further investments will be negligible, unless the cost difference between the spherical and the linear setup is also small.</li>\n",
    "<br><b>TBA: sensitivity analysis (suggested variables: average time between failures, average repair time, perhaps variance of the repair time)</b>"
   ]
  },
  {
   "cell_type": "markdown",
   "metadata": {},
   "source": [
    "<b>Issues:</b>\n",
    "- Since df2.loc['G',4] == df2.loc['G',5] should we be worried about proper seed setting?"
   ]
  },
  {
   "cell_type": "markdown",
   "metadata": {},
   "source": [
    "<b>Data export</b><br>\n",
    "<i>So that it is not necessary to run the simulation over and over again to modify a few plots</i>"
   ]
  },
  {
   "cell_type": "code",
   "execution_count": 87,
   "metadata": {},
   "outputs": [],
   "source": [
    "df.to_hdf('results.hdf', key = 'full_results')\n",
    "df2.to_hdf('results.hdf', key = 'machine_means')"
   ]
  },
  {
   "cell_type": "code",
   "execution_count": 88,
   "metadata": {},
   "outputs": [
    {
     "name": "stdout",
     "output_type": "stream",
     "text": [
      "All DataFrames saved correctly\n"
     ]
    }
   ],
   "source": [
    "# Check\n",
    "if df.equals(pd.read_hdf('results.hdf', key = 'full_results')):\n",
    "    if df2.equals(pd.read_hdf('results.hdf', key = 'machine_means')):\n",
    "        print('All DataFrames saved correctly')\n",
    "    else:\n",
    "        print('df2 saved/read incorrectly')\n",
    "else: print('df saved/read incorrectly')"
   ]
  },
  {
   "cell_type": "markdown",
   "metadata": {},
   "source": [
    "### 5. Some more sensitivity analysis"
   ]
  },
  {
   "cell_type": "markdown",
   "metadata": {},
   "source": [
    "I assume we use 2 sets of toolkits in all setups"
   ]
  },
  {
   "cell_type": "code",
   "execution_count": 26,
   "metadata": {},
   "outputs": [
    {
     "name": "stderr",
     "output_type": "stream",
     "text": [
      "D:\\Anaconda\\lib\\site-packages\\ipykernel_launcher.py:1: DeprecationWarning: time.clock has been deprecated in Python 3.3 and will be removed from Python 3.8: use time.perf_counter or time.process_time instead\n",
      "  \"\"\"Entry point for launching an IPython kernel.\n"
     ]
    },
    {
     "name": "stdout",
     "output_type": "stream",
     "text": [
      "Entire simulation duration time: 825.1s\n"
     ]
    },
    {
     "name": "stderr",
     "output_type": "stream",
     "text": [
      "D:\\Anaconda\\lib\\site-packages\\ipykernel_launcher.py:6: DeprecationWarning: time.clock has been deprecated in Python 3.3 and will be removed from Python 3.8: use time.perf_counter or time.process_time instead\n",
      "  \n"
     ]
    }
   ],
   "source": [
    "t0 = time.clock()\n",
    "results_rapair = {}\n",
    "for setup in ['L', 'G', 'L2']:\n",
    "    for rapair_improvement in range(5):\n",
    "        results_rapair[(setup, rapair_improvement)] = run_model(iterations, horizon, avg_working_time, avg_repair_time - rapair_improvement, n, m, setup)\n",
    "print('Entire simulation duration time: {:.1f}s'.format(time.clock() - t0))"
   ]
  },
  {
   "cell_type": "code",
   "execution_count": 27,
   "metadata": {},
   "outputs": [
    {
     "data": {
      "text/html": [
       "<div>\n",
       "<style scoped>\n",
       "    .dataframe tbody tr th:only-of-type {\n",
       "        vertical-align: middle;\n",
       "    }\n",
       "\n",
       "    .dataframe tbody tr th {\n",
       "        vertical-align: top;\n",
       "    }\n",
       "\n",
       "    .dataframe thead tr th {\n",
       "        text-align: left;\n",
       "    }\n",
       "</style>\n",
       "<table border=\"1\" class=\"dataframe\">\n",
       "  <thead>\n",
       "    <tr>\n",
       "      <th></th>\n",
       "      <th colspan=\"5\" halign=\"left\">L</th>\n",
       "      <th colspan=\"5\" halign=\"left\">G</th>\n",
       "      <th colspan=\"5\" halign=\"left\">L2</th>\n",
       "    </tr>\n",
       "    <tr>\n",
       "      <th></th>\n",
       "      <th>0</th>\n",
       "      <th>1</th>\n",
       "      <th>2</th>\n",
       "      <th>3</th>\n",
       "      <th>4</th>\n",
       "      <th>0</th>\n",
       "      <th>1</th>\n",
       "      <th>2</th>\n",
       "      <th>3</th>\n",
       "      <th>4</th>\n",
       "      <th>0</th>\n",
       "      <th>1</th>\n",
       "      <th>2</th>\n",
       "      <th>3</th>\n",
       "      <th>4</th>\n",
       "    </tr>\n",
       "  </thead>\n",
       "  <tbody>\n",
       "    <tr>\n",
       "      <th>0</th>\n",
       "      <td>7990.296703</td>\n",
       "      <td>7595.895883</td>\n",
       "      <td>7214.888876</td>\n",
       "      <td>6799.105025</td>\n",
       "      <td>6381.170445</td>\n",
       "      <td>8347.878813</td>\n",
       "      <td>7991.287931</td>\n",
       "      <td>7596.478884</td>\n",
       "      <td>7202.395703</td>\n",
       "      <td>6795.907056</td>\n",
       "      <td>7976.440325</td>\n",
       "      <td>7609.959164</td>\n",
       "      <td>7202.274672</td>\n",
       "      <td>6792.353452</td>\n",
       "      <td>6414.947674</td>\n",
       "    </tr>\n",
       "    <tr>\n",
       "      <th>1</th>\n",
       "      <td>8750.010651</td>\n",
       "      <td>8365.764031</td>\n",
       "      <td>7982.802490</td>\n",
       "      <td>7605.266637</td>\n",
       "      <td>7200.671065</td>\n",
       "      <td>8379.979240</td>\n",
       "      <td>7987.370383</td>\n",
       "      <td>7584.415310</td>\n",
       "      <td>7197.060091</td>\n",
       "      <td>6813.538494</td>\n",
       "      <td>7984.652236</td>\n",
       "      <td>7566.232249</td>\n",
       "      <td>7200.716077</td>\n",
       "      <td>6800.109370</td>\n",
       "      <td>6394.019315</td>\n",
       "    </tr>\n",
       "    <tr>\n",
       "      <th>2</th>\n",
       "      <td>9435.894596</td>\n",
       "      <td>9091.929129</td>\n",
       "      <td>8730.028098</td>\n",
       "      <td>8373.857329</td>\n",
       "      <td>7986.279963</td>\n",
       "      <td>8354.758847</td>\n",
       "      <td>7989.144220</td>\n",
       "      <td>7590.487312</td>\n",
       "      <td>7205.894454</td>\n",
       "      <td>6794.942943</td>\n",
       "      <td>8726.619111</td>\n",
       "      <td>8355.841748</td>\n",
       "      <td>7995.093131</td>\n",
       "      <td>7596.278176</td>\n",
       "      <td>7198.720099</td>\n",
       "    </tr>\n",
       "    <tr>\n",
       "      <th>3</th>\n",
       "      <td>10152.603575</td>\n",
       "      <td>9795.967046</td>\n",
       "      <td>9435.161024</td>\n",
       "      <td>9093.546899</td>\n",
       "      <td>8731.642935</td>\n",
       "      <td>8365.046215</td>\n",
       "      <td>7975.210068</td>\n",
       "      <td>7614.076336</td>\n",
       "      <td>7202.919768</td>\n",
       "      <td>6803.799213</td>\n",
       "      <td>8740.533478</td>\n",
       "      <td>8370.442748</td>\n",
       "      <td>7987.926709</td>\n",
       "      <td>7610.520726</td>\n",
       "      <td>7191.691211</td>\n",
       "    </tr>\n",
       "    <tr>\n",
       "      <th>4</th>\n",
       "      <td>10795.619747</td>\n",
       "      <td>10464.021512</td>\n",
       "      <td>10145.318639</td>\n",
       "      <td>9800.630999</td>\n",
       "      <td>9452.115550</td>\n",
       "      <td>8343.549044</td>\n",
       "      <td>7966.458643</td>\n",
       "      <td>7586.191735</td>\n",
       "      <td>7199.642626</td>\n",
       "      <td>6785.349409</td>\n",
       "      <td>9445.317269</td>\n",
       "      <td>9102.396953</td>\n",
       "      <td>8745.243986</td>\n",
       "      <td>8376.278603</td>\n",
       "      <td>7983.296851</td>\n",
       "    </tr>\n",
       "    <tr>\n",
       "      <th>5</th>\n",
       "      <td>11419.556609</td>\n",
       "      <td>11115.601100</td>\n",
       "      <td>10824.538011</td>\n",
       "      <td>10478.592340</td>\n",
       "      <td>10141.771324</td>\n",
       "      <td>8353.674710</td>\n",
       "      <td>7982.881039</td>\n",
       "      <td>7586.567979</td>\n",
       "      <td>7215.767740</td>\n",
       "      <td>6808.070446</td>\n",
       "      <td>9445.175427</td>\n",
       "      <td>9081.915693</td>\n",
       "      <td>8733.843566</td>\n",
       "      <td>8374.494267</td>\n",
       "      <td>7977.704334</td>\n",
       "    </tr>\n",
       "  </tbody>\n",
       "</table>\n",
       "</div>"
      ],
      "text/plain": [
       "              L                                                          \\\n",
       "              0             1             2             3             4   \n",
       "0   7990.296703   7595.895883   7214.888876   6799.105025   6381.170445   \n",
       "1   8750.010651   8365.764031   7982.802490   7605.266637   7200.671065   \n",
       "2   9435.894596   9091.929129   8730.028098   8373.857329   7986.279963   \n",
       "3  10152.603575   9795.967046   9435.161024   9093.546899   8731.642935   \n",
       "4  10795.619747  10464.021512  10145.318639   9800.630999   9452.115550   \n",
       "5  11419.556609  11115.601100  10824.538011  10478.592340  10141.771324   \n",
       "\n",
       "             G                                                      \\\n",
       "             0            1            2            3            4   \n",
       "0  8347.878813  7991.287931  7596.478884  7202.395703  6795.907056   \n",
       "1  8379.979240  7987.370383  7584.415310  7197.060091  6813.538494   \n",
       "2  8354.758847  7989.144220  7590.487312  7205.894454  6794.942943   \n",
       "3  8365.046215  7975.210068  7614.076336  7202.919768  6803.799213   \n",
       "4  8343.549044  7966.458643  7586.191735  7199.642626  6785.349409   \n",
       "5  8353.674710  7982.881039  7586.567979  7215.767740  6808.070446   \n",
       "\n",
       "            L2                                                      \n",
       "             0            1            2            3            4  \n",
       "0  7976.440325  7609.959164  7202.274672  6792.353452  6414.947674  \n",
       "1  7984.652236  7566.232249  7200.716077  6800.109370  6394.019315  \n",
       "2  8726.619111  8355.841748  7995.093131  7596.278176  7198.720099  \n",
       "3  8740.533478  8370.442748  7987.926709  7610.520726  7191.691211  \n",
       "4  9445.317269  9102.396953  8745.243986  8376.278603  7983.296851  \n",
       "5  9445.175427  9081.915693  8733.843566  8374.494267  7977.704334  "
      ]
     },
     "execution_count": 27,
     "metadata": {},
     "output_type": "execute_result"
    }
   ],
   "source": [
    "pd.DataFrame.from_dict(results_rapair)"
   ]
  },
  {
   "cell_type": "code",
   "execution_count": 28,
   "metadata": {},
   "outputs": [],
   "source": [
    "df_repair = pd.DataFrame.from_dict(results_rapair).T"
   ]
  },
  {
   "cell_type": "code",
   "execution_count": 29,
   "metadata": {},
   "outputs": [
    {
     "data": {
      "text/plain": [
       "<matplotlib.axes._subplots.AxesSubplot at 0xa63bcc0>"
      ]
     },
     "execution_count": 29,
     "metadata": {},
     "output_type": "execute_result"
    },
    {
     "data": {
      "image/png": "[encoded data removed]",
      "text/plain": [
       "<Figure size 432x288 with 1 Axes>"
      ]
     },
     "metadata": {
      "needs_background": "light"
     },
     "output_type": "display_data"
    }
   ],
   "source": [
    "df_repair.loc[('G', slice(None)),:].plot()"
   ]
  },
  {
   "cell_type": "markdown",
   "metadata": {},
   "source": [
    "Changes in cumulative time while reducing rapiar time by addisional minute"
   ]
  },
  {
   "cell_type": "code",
   "execution_count": 30,
   "metadata": {},
   "outputs": [
    {
     "data": {
      "text/plain": [
       "<matplotlib.axes._subplots.AxesSubplot at 0xb6c6860>"
      ]
     },
     "execution_count": 30,
     "metadata": {},
     "output_type": "execute_result"
    },
    {
     "data": {
      "image/png": "[encoded data removed]",
      "text/plain": [
       "<Figure size 432x288 with 1 Axes>"
      ]
     },
     "metadata": {
      "needs_background": "light"
     },
     "output_type": "display_data"
    }
   ],
   "source": [
    "pd.DataFrame(df_repair.loc['G'].iloc[1:,:].values - df_repair.loc['G'].iloc[:4,:].values).plot()"
   ]
  },
  {
   "cell_type": "code",
   "execution_count": 31,
   "metadata": {},
   "outputs": [
    {
     "data": {
      "text/plain": [
       "-6.488388408034242"
      ]
     },
     "execution_count": 31,
     "metadata": {},
     "output_type": "execute_result"
    }
   ],
   "source": [
    "np.mean(df_repair.loc['G'].iloc[1:,:].values - df_repair.loc['G'].iloc[:4,:].values)/60"
   ]
  },
  {
   "cell_type": "code",
   "execution_count": 32,
   "metadata": {},
   "outputs": [
    {
     "data": {
      "text/plain": [
       "<matplotlib.axes._subplots.AxesSubplot at 0xb74b898>"
      ]
     },
     "execution_count": 32,
     "metadata": {},
     "output_type": "execute_result"
    },
    {
     "data": {
      "image/png": "[encoded data removed]",
      "text/plain": [
       "<Figure size 432x288 with 1 Axes>"
      ]
     },
     "metadata": {
      "needs_background": "light"
     },
     "output_type": "display_data"
    }
   ],
   "source": [
    "df_repair.loc[('L', slice(None)),:].plot()"
   ]
  },
  {
   "cell_type": "markdown",
   "metadata": {},
   "source": [
    "Marginal changes"
   ]
  },
  {
   "cell_type": "code",
   "execution_count": 33,
   "metadata": {},
   "outputs": [
    {
     "data": {
      "text/plain": [
       "<matplotlib.axes._subplots.AxesSubplot at 0xb7d9278>"
      ]
     },
     "execution_count": 33,
     "metadata": {},
     "output_type": "execute_result"
    },
    {
     "data": {
      "image/png": "[encoded data removed]",
      "text/plain": [
       "<Figure size 432x288 with 1 Axes>"
      ]
     },
     "metadata": {
      "needs_background": "light"
     },
     "output_type": "display_data"
    }
   ],
   "source": [
    "pd.DataFrame(df_repair.loc['L'].iloc[1:,:].values - df_repair.loc['L'].iloc[:4,:].values).plot()"
   ]
  },
  {
   "cell_type": "code",
   "execution_count": 34,
   "metadata": {},
   "outputs": [
    {
     "data": {
      "text/plain": [
       "-6.007174027895564"
      ]
     },
     "execution_count": 34,
     "metadata": {},
     "output_type": "execute_result"
    }
   ],
   "source": [
    "np.mean(df_repair.loc['L'].iloc[1:,:].values - df_repair.loc['L'].iloc[:4,:].values)/60"
   ]
  },
  {
   "cell_type": "code",
   "execution_count": 35,
   "metadata": {},
   "outputs": [
    {
     "data": {
      "text/plain": [
       "<matplotlib.axes._subplots.AxesSubplot at 0xb7d9f60>"
      ]
     },
     "execution_count": 35,
     "metadata": {},
     "output_type": "execute_result"
    },
    {
     "data": {
      "image/png": "[encoded data removed]",
      "text/plain": [
       "<Figure size 432x288 with 1 Axes>"
      ]
     },
     "metadata": {
      "needs_background": "light"
     },
     "output_type": "display_data"
    }
   ],
   "source": [
    "df_repair.loc[('L2', slice(None)),:].plot()"
   ]
  },
  {
   "cell_type": "markdown",
   "metadata": {},
   "source": [
    "Marginal changes"
   ]
  },
  {
   "cell_type": "code",
   "execution_count": 36,
   "metadata": {},
   "outputs": [
    {
     "data": {
      "text/plain": [
       "<matplotlib.axes._subplots.AxesSubplot at 0xb8e7080>"
      ]
     },
     "execution_count": 36,
     "metadata": {},
     "output_type": "execute_result"
    },
    {
     "data": {
      "image/png": "[encoded data removed]",
      "text/plain": [
       "<Figure size 432x288 with 1 Axes>"
      ]
     },
     "metadata": {
      "needs_background": "light"
     },
     "output_type": "display_data"
    }
   ],
   "source": [
    "pd.DataFrame(df_repair.loc['L2'].iloc[1:,:].values - df_repair.loc['L2'].iloc[:4,:].values).plot()"
   ]
  },
  {
   "cell_type": "code",
   "execution_count": 37,
   "metadata": {},
   "outputs": [
    {
     "data": {
      "text/plain": [
       "-6.359971084927469"
      ]
     },
     "execution_count": 37,
     "metadata": {},
     "output_type": "execute_result"
    }
   ],
   "source": [
    "np.mean(df_repair.loc['L2'].iloc[1:,:].values - df_repair.loc['L2'].iloc[:4,:].values)/60"
   ]
  },
  {
   "cell_type": "markdown",
   "metadata": {},
   "source": [
    "It's worth considering extra trainings for workers to make process of repairs faster. As long as it costs of training of one worker to reduce time of repair by 1 minut aren't higher than cost of about 6,4 hours for \"L2\", 6,3 for \"G and 5,9 for \"L\" it's worth investing as the profits from time reduction seems to be linear"
   ]
  },
  {
   "cell_type": "code",
   "execution_count": 89,
   "metadata": {},
   "outputs": [],
   "source": [
    "# saving results\n",
    "df_repair.to_hdf('results_repiar.hdf', key = 'full_results')"
   ]
  },
  {
   "cell_type": "code",
   "execution_count": 90,
   "metadata": {
    "scrolled": true
   },
   "outputs": [
    {
     "name": "stdout",
     "output_type": "stream",
     "text": [
      "All DataFrames saved correctly\n"
     ]
    }
   ],
   "source": [
    "# Check\n",
    "if df_repair.equals(pd.read_hdf('results_repiar.hdf', key = 'full_results')):\n",
    "    print('All DataFrames saved correctly')\n",
    "else: \n",
    "    print('df saved/read incorrectly')"
   ]
  },
  {
   "cell_type": "markdown",
   "metadata": {},
   "source": [
    "#### Another analysis"
   ]
  },
  {
   "cell_type": "markdown",
   "metadata": {},
   "source": [
    "Assuming one toolkit and bad times for company when it needs to reduce production, will it be better to have have \"G\", \"L\" or \"L2\""
   ]
  },
  {
   "cell_type": "code",
   "execution_count": 40,
   "metadata": {},
   "outputs": [
    {
     "name": "stderr",
     "output_type": "stream",
     "text": [
      "D:\\Anaconda\\lib\\site-packages\\ipykernel_launcher.py:1: DeprecationWarning: time.clock has been deprecated in Python 3.3 and will be removed from Python 3.8: use time.perf_counter or time.process_time instead\n",
      "  \"\"\"Entry point for launching an IPython kernel.\n"
     ]
    },
    {
     "name": "stdout",
     "output_type": "stream",
     "text": [
      "Entire simulation duration time: 572.8s\n"
     ]
    },
    {
     "name": "stderr",
     "output_type": "stream",
     "text": [
      "D:\\Anaconda\\lib\\site-packages\\ipykernel_launcher.py:7: DeprecationWarning: time.clock has been deprecated in Python 3.3 and will be removed from Python 3.8: use time.perf_counter or time.process_time instead\n",
      "  import sys\n"
     ]
    }
   ],
   "source": [
    "t0 = time.clock()\n",
    "results_machine_reduction = {}\n",
    "for setup in ['L', 'G', 'L2']:\n",
    "    for n in range(6):\n",
    "        n_machines = n + 1\n",
    "        results_machine_reduction[(setup, n_machines)] = run_model(iterations, horizon, avg_working_time, avg_repair_time, n_machines, m, setup)\n",
    "print('Entire simulation duration time: {:.1f}s'.format(time.clock() - t0))"
   ]
  },
  {
   "cell_type": "code",
   "execution_count": 41,
   "metadata": {},
   "outputs": [],
   "source": [
    "df_machine_reduction = pd.DataFrame.from_dict(results_machine_reduction, orient='index')"
   ]
  },
  {
   "cell_type": "code",
   "execution_count": 42,
   "metadata": {},
   "outputs": [
    {
     "data": {
      "text/html": [
       "<div>\n",
       "<style scoped>\n",
       "    .dataframe tbody tr th:only-of-type {\n",
       "        vertical-align: middle;\n",
       "    }\n",
       "\n",
       "    .dataframe tbody tr th {\n",
       "        vertical-align: top;\n",
       "    }\n",
       "\n",
       "    .dataframe thead th {\n",
       "        text-align: right;\n",
       "    }\n",
       "</style>\n",
       "<table border=\"1\" class=\"dataframe\">\n",
       "  <thead>\n",
       "    <tr style=\"text-align: right;\">\n",
       "      <th></th>\n",
       "      <th>0</th>\n",
       "      <th>1</th>\n",
       "      <th>2</th>\n",
       "      <th>3</th>\n",
       "      <th>4</th>\n",
       "      <th>5</th>\n",
       "    </tr>\n",
       "  </thead>\n",
       "  <tbody>\n",
       "    <tr>\n",
       "      <th>(L, 1)</th>\n",
       "      <td>7976.359176</td>\n",
       "      <td>NaN</td>\n",
       "      <td>NaN</td>\n",
       "      <td>NaN</td>\n",
       "      <td>NaN</td>\n",
       "      <td>NaN</td>\n",
       "    </tr>\n",
       "    <tr>\n",
       "      <th>(L, 2)</th>\n",
       "      <td>7981.756279</td>\n",
       "      <td>8740.698599</td>\n",
       "      <td>NaN</td>\n",
       "      <td>NaN</td>\n",
       "      <td>NaN</td>\n",
       "      <td>NaN</td>\n",
       "    </tr>\n",
       "    <tr>\n",
       "      <th>(L, 3)</th>\n",
       "      <td>7986.721518</td>\n",
       "      <td>8736.428179</td>\n",
       "      <td>9463.703487</td>\n",
       "      <td>NaN</td>\n",
       "      <td>NaN</td>\n",
       "      <td>NaN</td>\n",
       "    </tr>\n",
       "    <tr>\n",
       "      <th>(L, 4)</th>\n",
       "      <td>7982.982774</td>\n",
       "      <td>8731.269188</td>\n",
       "      <td>9460.895833</td>\n",
       "      <td>10135.044682</td>\n",
       "      <td>NaN</td>\n",
       "      <td>NaN</td>\n",
       "    </tr>\n",
       "    <tr>\n",
       "      <th>(L, 5)</th>\n",
       "      <td>7981.843178</td>\n",
       "      <td>8726.122251</td>\n",
       "      <td>9446.987249</td>\n",
       "      <td>10151.162564</td>\n",
       "      <td>10806.415935</td>\n",
       "      <td>NaN</td>\n",
       "    </tr>\n",
       "    <tr>\n",
       "      <th>(L, 6)</th>\n",
       "      <td>7990.296703</td>\n",
       "      <td>8750.010651</td>\n",
       "      <td>9435.894596</td>\n",
       "      <td>10152.603575</td>\n",
       "      <td>10795.619747</td>\n",
       "      <td>11419.556609</td>\n",
       "    </tr>\n",
       "    <tr>\n",
       "      <th>(G, 1)</th>\n",
       "      <td>8352.805781</td>\n",
       "      <td>NaN</td>\n",
       "      <td>NaN</td>\n",
       "      <td>NaN</td>\n",
       "      <td>NaN</td>\n",
       "      <td>NaN</td>\n",
       "    </tr>\n",
       "    <tr>\n",
       "      <th>(G, 2)</th>\n",
       "      <td>8378.740977</td>\n",
       "      <td>8360.520372</td>\n",
       "      <td>NaN</td>\n",
       "      <td>NaN</td>\n",
       "      <td>NaN</td>\n",
       "      <td>NaN</td>\n",
       "    </tr>\n",
       "    <tr>\n",
       "      <th>(G, 3)</th>\n",
       "      <td>8369.915788</td>\n",
       "      <td>8363.778123</td>\n",
       "      <td>8345.782352</td>\n",
       "      <td>NaN</td>\n",
       "      <td>NaN</td>\n",
       "      <td>NaN</td>\n",
       "    </tr>\n",
       "    <tr>\n",
       "      <th>(G, 4)</th>\n",
       "      <td>8350.320010</td>\n",
       "      <td>8349.587670</td>\n",
       "      <td>8363.786542</td>\n",
       "      <td>8344.886723</td>\n",
       "      <td>NaN</td>\n",
       "      <td>NaN</td>\n",
       "    </tr>\n",
       "    <tr>\n",
       "      <th>(G, 5)</th>\n",
       "      <td>8374.496419</td>\n",
       "      <td>8375.123623</td>\n",
       "      <td>8367.592430</td>\n",
       "      <td>8358.402430</td>\n",
       "      <td>8364.530328</td>\n",
       "      <td>NaN</td>\n",
       "    </tr>\n",
       "    <tr>\n",
       "      <th>(G, 6)</th>\n",
       "      <td>8347.878813</td>\n",
       "      <td>8379.979240</td>\n",
       "      <td>8354.758847</td>\n",
       "      <td>8365.046215</td>\n",
       "      <td>8343.549044</td>\n",
       "      <td>8353.674710</td>\n",
       "    </tr>\n",
       "    <tr>\n",
       "      <th>(L2, 1)</th>\n",
       "      <td>7976.359176</td>\n",
       "      <td>NaN</td>\n",
       "      <td>NaN</td>\n",
       "      <td>NaN</td>\n",
       "      <td>NaN</td>\n",
       "      <td>NaN</td>\n",
       "    </tr>\n",
       "    <tr>\n",
       "      <th>(L2, 2)</th>\n",
       "      <td>7980.646411</td>\n",
       "      <td>7998.969557</td>\n",
       "      <td>NaN</td>\n",
       "      <td>NaN</td>\n",
       "      <td>NaN</td>\n",
       "      <td>NaN</td>\n",
       "    </tr>\n",
       "    <tr>\n",
       "      <th>(L2, 3)</th>\n",
       "      <td>7995.105949</td>\n",
       "      <td>7990.753689</td>\n",
       "      <td>8729.835636</td>\n",
       "      <td>NaN</td>\n",
       "      <td>NaN</td>\n",
       "      <td>NaN</td>\n",
       "    </tr>\n",
       "    <tr>\n",
       "      <th>(L2, 4)</th>\n",
       "      <td>7987.875423</td>\n",
       "      <td>7983.748311</td>\n",
       "      <td>8718.787775</td>\n",
       "      <td>8748.004009</td>\n",
       "      <td>NaN</td>\n",
       "      <td>NaN</td>\n",
       "    </tr>\n",
       "    <tr>\n",
       "      <th>(L2, 5)</th>\n",
       "      <td>8007.025235</td>\n",
       "      <td>7979.841094</td>\n",
       "      <td>8728.741889</td>\n",
       "      <td>8733.487056</td>\n",
       "      <td>9437.603220</td>\n",
       "      <td>NaN</td>\n",
       "    </tr>\n",
       "    <tr>\n",
       "      <th>(L2, 6)</th>\n",
       "      <td>7976.440325</td>\n",
       "      <td>7984.652236</td>\n",
       "      <td>8726.619111</td>\n",
       "      <td>8740.533478</td>\n",
       "      <td>9445.317269</td>\n",
       "      <td>9445.175427</td>\n",
       "    </tr>\n",
       "  </tbody>\n",
       "</table>\n",
       "</div>"
      ],
      "text/plain": [
       "                   0            1            2             3             4  \\\n",
       "(L, 1)   7976.359176          NaN          NaN           NaN           NaN   \n",
       "(L, 2)   7981.756279  8740.698599          NaN           NaN           NaN   \n",
       "(L, 3)   7986.721518  8736.428179  9463.703487           NaN           NaN   \n",
       "(L, 4)   7982.982774  8731.269188  9460.895833  10135.044682           NaN   \n",
       "(L, 5)   7981.843178  8726.122251  9446.987249  10151.162564  10806.415935   \n",
       "(L, 6)   7990.296703  8750.010651  9435.894596  10152.603575  10795.619747   \n",
       "(G, 1)   8352.805781          NaN          NaN           NaN           NaN   \n",
       "(G, 2)   8378.740977  8360.520372          NaN           NaN           NaN   \n",
       "(G, 3)   8369.915788  8363.778123  8345.782352           NaN           NaN   \n",
       "(G, 4)   8350.320010  8349.587670  8363.786542   8344.886723           NaN   \n",
       "(G, 5)   8374.496419  8375.123623  8367.592430   8358.402430   8364.530328   \n",
       "(G, 6)   8347.878813  8379.979240  8354.758847   8365.046215   8343.549044   \n",
       "(L2, 1)  7976.359176          NaN          NaN           NaN           NaN   \n",
       "(L2, 2)  7980.646411  7998.969557          NaN           NaN           NaN   \n",
       "(L2, 3)  7995.105949  7990.753689  8729.835636           NaN           NaN   \n",
       "(L2, 4)  7987.875423  7983.748311  8718.787775   8748.004009           NaN   \n",
       "(L2, 5)  8007.025235  7979.841094  8728.741889   8733.487056   9437.603220   \n",
       "(L2, 6)  7976.440325  7984.652236  8726.619111   8740.533478   9445.317269   \n",
       "\n",
       "                    5  \n",
       "(L, 1)            NaN  \n",
       "(L, 2)            NaN  \n",
       "(L, 3)            NaN  \n",
       "(L, 4)            NaN  \n",
       "(L, 5)            NaN  \n",
       "(L, 6)   11419.556609  \n",
       "(G, 1)            NaN  \n",
       "(G, 2)            NaN  \n",
       "(G, 3)            NaN  \n",
       "(G, 4)            NaN  \n",
       "(G, 5)            NaN  \n",
       "(G, 6)    8353.674710  \n",
       "(L2, 1)           NaN  \n",
       "(L2, 2)           NaN  \n",
       "(L2, 3)           NaN  \n",
       "(L2, 4)           NaN  \n",
       "(L2, 5)           NaN  \n",
       "(L2, 6)   9445.175427  "
      ]
     },
     "execution_count": 42,
     "metadata": {},
     "output_type": "execute_result"
    }
   ],
   "source": [
    "df_machine_reduction"
   ]
  },
  {
   "cell_type": "code",
   "execution_count": 43,
   "metadata": {},
   "outputs": [],
   "source": [
    "df_comparison = pd.DataFrame()"
   ]
  },
  {
   "cell_type": "code",
   "execution_count": 44,
   "metadata": {},
   "outputs": [
    {
     "data": {
      "text/html": [
       "<div>\n",
       "<style scoped>\n",
       "    .dataframe tbody tr th:only-of-type {\n",
       "        vertical-align: middle;\n",
       "    }\n",
       "\n",
       "    .dataframe tbody tr th {\n",
       "        vertical-align: top;\n",
       "    }\n",
       "\n",
       "    .dataframe thead th {\n",
       "        text-align: right;\n",
       "    }\n",
       "</style>\n",
       "<table border=\"1\" class=\"dataframe\">\n",
       "  <thead>\n",
       "    <tr style=\"text-align: right;\">\n",
       "      <th></th>\n",
       "      <th>0</th>\n",
       "      <th>1</th>\n",
       "      <th>2</th>\n",
       "      <th>3</th>\n",
       "      <th>4</th>\n",
       "      <th>5</th>\n",
       "    </tr>\n",
       "  </thead>\n",
       "  <tbody>\n",
       "    <tr>\n",
       "      <th>(L, 1)</th>\n",
       "      <td>7976.359176</td>\n",
       "      <td>NaN</td>\n",
       "      <td>NaN</td>\n",
       "      <td>NaN</td>\n",
       "      <td>NaN</td>\n",
       "      <td>NaN</td>\n",
       "    </tr>\n",
       "    <tr>\n",
       "      <th>(L, 2)</th>\n",
       "      <td>7981.756279</td>\n",
       "      <td>8740.698599</td>\n",
       "      <td>NaN</td>\n",
       "      <td>NaN</td>\n",
       "      <td>NaN</td>\n",
       "      <td>NaN</td>\n",
       "    </tr>\n",
       "    <tr>\n",
       "      <th>(L, 3)</th>\n",
       "      <td>7986.721518</td>\n",
       "      <td>8736.428179</td>\n",
       "      <td>9463.703487</td>\n",
       "      <td>NaN</td>\n",
       "      <td>NaN</td>\n",
       "      <td>NaN</td>\n",
       "    </tr>\n",
       "    <tr>\n",
       "      <th>(L, 4)</th>\n",
       "      <td>7982.982774</td>\n",
       "      <td>8731.269188</td>\n",
       "      <td>9460.895833</td>\n",
       "      <td>10135.044682</td>\n",
       "      <td>NaN</td>\n",
       "      <td>NaN</td>\n",
       "    </tr>\n",
       "    <tr>\n",
       "      <th>(L, 5)</th>\n",
       "      <td>7981.843178</td>\n",
       "      <td>8726.122251</td>\n",
       "      <td>9446.987249</td>\n",
       "      <td>10151.162564</td>\n",
       "      <td>10806.415935</td>\n",
       "      <td>NaN</td>\n",
       "    </tr>\n",
       "    <tr>\n",
       "      <th>(L, 6)</th>\n",
       "      <td>7990.296703</td>\n",
       "      <td>8750.010651</td>\n",
       "      <td>9435.894596</td>\n",
       "      <td>10152.603575</td>\n",
       "      <td>10795.619747</td>\n",
       "      <td>11419.556609</td>\n",
       "    </tr>\n",
       "  </tbody>\n",
       "</table>\n",
       "</div>"
      ],
      "text/plain": [
       "                  0            1            2             3             4  \\\n",
       "(L, 1)  7976.359176          NaN          NaN           NaN           NaN   \n",
       "(L, 2)  7981.756279  8740.698599          NaN           NaN           NaN   \n",
       "(L, 3)  7986.721518  8736.428179  9463.703487           NaN           NaN   \n",
       "(L, 4)  7982.982774  8731.269188  9460.895833  10135.044682           NaN   \n",
       "(L, 5)  7981.843178  8726.122251  9446.987249  10151.162564  10806.415935   \n",
       "(L, 6)  7990.296703  8750.010651  9435.894596  10152.603575  10795.619747   \n",
       "\n",
       "                   5  \n",
       "(L, 1)           NaN  \n",
       "(L, 2)           NaN  \n",
       "(L, 3)           NaN  \n",
       "(L, 4)           NaN  \n",
       "(L, 5)           NaN  \n",
       "(L, 6)  11419.556609  "
      ]
     },
     "execution_count": 44,
     "metadata": {},
     "output_type": "execute_result"
    }
   ],
   "source": [
    "df_machine_reduction.iloc[:6,:]"
   ]
  },
  {
   "cell_type": "code",
   "execution_count": 45,
   "metadata": {},
   "outputs": [
    {
     "data": {
      "text/plain": [
       "<matplotlib.axes._subplots.AxesSubplot at 0xb983860>"
      ]
     },
     "execution_count": 45,
     "metadata": {},
     "output_type": "execute_result"
    },
    {
     "data": {
      "image/png": "[encoded data removed]",
      "text/plain": [
       "<Figure size 432x288 with 1 Axes>"
      ]
     },
     "metadata": {
      "needs_background": "light"
     },
     "output_type": "display_data"
    }
   ],
   "source": [
    "df_machine_reduction.iloc[:6,:].plot()"
   ]
  },
  {
   "cell_type": "code",
   "execution_count": 46,
   "metadata": {},
   "outputs": [],
   "source": [
    "df_comparison[\"L\"] = df_machine_reduction.iloc[:6,:].mean(axis=1).values"
   ]
  },
  {
   "cell_type": "code",
   "execution_count": 47,
   "metadata": {},
   "outputs": [
    {
     "data": {
      "text/plain": [
       "<matplotlib.axes._subplots.AxesSubplot at 0xb9f5518>"
      ]
     },
     "execution_count": 47,
     "metadata": {},
     "output_type": "execute_result"
    },
    {
     "data": {
      "image/png": "[encoded data removed]",
      "text/plain": [
       "<Figure size 432x288 with 1 Axes>"
      ]
     },
     "metadata": {
      "needs_background": "light"
     },
     "output_type": "display_data"
    }
   ],
   "source": [
    "df_machine_reduction.iloc[6:12,:].plot()"
   ]
  },
  {
   "cell_type": "code",
   "execution_count": 48,
   "metadata": {},
   "outputs": [],
   "source": [
    "df_comparison[\"G\"] = df_machine_reduction.iloc[6:12,:].mean(axis=1).values"
   ]
  },
  {
   "cell_type": "code",
   "execution_count": 49,
   "metadata": {},
   "outputs": [
    {
     "data": {
      "text/plain": [
       "<matplotlib.axes._subplots.AxesSubplot at 0xb8f6550>"
      ]
     },
     "execution_count": 49,
     "metadata": {},
     "output_type": "execute_result"
    },
    {
     "data": {
      "image/png": "[encoded data removed]",
      "text/plain": [
       "<Figure size 432x288 with 1 Axes>"
      ]
     },
     "metadata": {
      "needs_background": "light"
     },
     "output_type": "display_data"
    }
   ],
   "source": [
    "df_machine_reduction.iloc[12:,:].plot()"
   ]
  },
  {
   "cell_type": "code",
   "execution_count": 50,
   "metadata": {},
   "outputs": [],
   "source": [
    "df_comparison[\"L2\"] = df_machine_reduction.iloc[12:,:].mean(axis=1).values"
   ]
  },
  {
   "cell_type": "code",
   "execution_count": 51,
   "metadata": {},
   "outputs": [
    {
     "data": {
      "text/plain": [
       "<matplotlib.axes._subplots.AxesSubplot at 0xbb19588>"
      ]
     },
     "execution_count": 51,
     "metadata": {},
     "output_type": "execute_result"
    },
    {
     "data": {
      "image/png": "[encoded data removed]",
      "text/plain": [
       "<Figure size 432x288 with 1 Axes>"
      ]
     },
     "metadata": {
      "needs_background": "light"
     },
     "output_type": "display_data"
    }
   ],
   "source": [
    "df_comparison = df_comparison.set_index(np.arange(1, 7))\n",
    "df_comparison.plot()"
   ]
  },
  {
   "cell_type": "markdown",
   "metadata": {},
   "source": [
    "Assumming 2 toolkits it's better to have \"L\" if we don't expend big colapse in demand, if we don it may be safer to considere \"L2\" option as it's not  much worse when 6 machines but when only one is working it's much more effective"
   ]
  },
  {
   "cell_type": "code",
   "execution_count": 52,
   "metadata": {},
   "outputs": [],
   "source": [
    "df_machine_reduction.to_csv('results_machine_reduction.csv')\n",
    "df_comparison.to_csv('results_comparison.csv')"
   ]
  },
  {
   "cell_type": "code",
   "execution_count": 53,
   "metadata": {},
   "outputs": [
    {
     "data": {
      "text/html": [
       "<div>\n",
       "<style scoped>\n",
       "    .dataframe tbody tr th:only-of-type {\n",
       "        vertical-align: middle;\n",
       "    }\n",
       "\n",
       "    .dataframe tbody tr th {\n",
       "        vertical-align: top;\n",
       "    }\n",
       "\n",
       "    .dataframe thead th {\n",
       "        text-align: right;\n",
       "    }\n",
       "</style>\n",
       "<table border=\"1\" class=\"dataframe\">\n",
       "  <thead>\n",
       "    <tr style=\"text-align: right;\">\n",
       "      <th></th>\n",
       "      <th>0</th>\n",
       "      <th>1</th>\n",
       "      <th>2</th>\n",
       "      <th>3</th>\n",
       "      <th>4</th>\n",
       "      <th>5</th>\n",
       "    </tr>\n",
       "  </thead>\n",
       "  <tbody>\n",
       "    <tr>\n",
       "      <th>('L', 1)</th>\n",
       "      <td>7976.359176</td>\n",
       "      <td>NaN</td>\n",
       "      <td>NaN</td>\n",
       "      <td>NaN</td>\n",
       "      <td>NaN</td>\n",
       "      <td>NaN</td>\n",
       "    </tr>\n",
       "    <tr>\n",
       "      <th>('L', 2)</th>\n",
       "      <td>7981.756279</td>\n",
       "      <td>8740.698599</td>\n",
       "      <td>NaN</td>\n",
       "      <td>NaN</td>\n",
       "      <td>NaN</td>\n",
       "      <td>NaN</td>\n",
       "    </tr>\n",
       "    <tr>\n",
       "      <th>('L', 3)</th>\n",
       "      <td>7986.721518</td>\n",
       "      <td>8736.428179</td>\n",
       "      <td>9463.703487</td>\n",
       "      <td>NaN</td>\n",
       "      <td>NaN</td>\n",
       "      <td>NaN</td>\n",
       "    </tr>\n",
       "    <tr>\n",
       "      <th>('L', 4)</th>\n",
       "      <td>7982.982774</td>\n",
       "      <td>8731.269188</td>\n",
       "      <td>9460.895833</td>\n",
       "      <td>10135.044682</td>\n",
       "      <td>NaN</td>\n",
       "      <td>NaN</td>\n",
       "    </tr>\n",
       "    <tr>\n",
       "      <th>('L', 5)</th>\n",
       "      <td>7981.843178</td>\n",
       "      <td>8726.122251</td>\n",
       "      <td>9446.987249</td>\n",
       "      <td>10151.162564</td>\n",
       "      <td>10806.415935</td>\n",
       "      <td>NaN</td>\n",
       "    </tr>\n",
       "    <tr>\n",
       "      <th>('L', 6)</th>\n",
       "      <td>7990.296703</td>\n",
       "      <td>8750.010651</td>\n",
       "      <td>9435.894596</td>\n",
       "      <td>10152.603575</td>\n",
       "      <td>10795.619747</td>\n",
       "      <td>11419.556609</td>\n",
       "    </tr>\n",
       "    <tr>\n",
       "      <th>('G', 1)</th>\n",
       "      <td>8352.805781</td>\n",
       "      <td>NaN</td>\n",
       "      <td>NaN</td>\n",
       "      <td>NaN</td>\n",
       "      <td>NaN</td>\n",
       "      <td>NaN</td>\n",
       "    </tr>\n",
       "    <tr>\n",
       "      <th>('G', 2)</th>\n",
       "      <td>8378.740977</td>\n",
       "      <td>8360.520372</td>\n",
       "      <td>NaN</td>\n",
       "      <td>NaN</td>\n",
       "      <td>NaN</td>\n",
       "      <td>NaN</td>\n",
       "    </tr>\n",
       "    <tr>\n",
       "      <th>('G', 3)</th>\n",
       "      <td>8369.915788</td>\n",
       "      <td>8363.778123</td>\n",
       "      <td>8345.782352</td>\n",
       "      <td>NaN</td>\n",
       "      <td>NaN</td>\n",
       "      <td>NaN</td>\n",
       "    </tr>\n",
       "    <tr>\n",
       "      <th>('G', 4)</th>\n",
       "      <td>8350.320010</td>\n",
       "      <td>8349.587670</td>\n",
       "      <td>8363.786542</td>\n",
       "      <td>8344.886723</td>\n",
       "      <td>NaN</td>\n",
       "      <td>NaN</td>\n",
       "    </tr>\n",
       "    <tr>\n",
       "      <th>('G', 5)</th>\n",
       "      <td>8374.496419</td>\n",
       "      <td>8375.123623</td>\n",
       "      <td>8367.592430</td>\n",
       "      <td>8358.402430</td>\n",
       "      <td>8364.530328</td>\n",
       "      <td>NaN</td>\n",
       "    </tr>\n",
       "    <tr>\n",
       "      <th>('G', 6)</th>\n",
       "      <td>8347.878813</td>\n",
       "      <td>8379.979240</td>\n",
       "      <td>8354.758847</td>\n",
       "      <td>8365.046215</td>\n",
       "      <td>8343.549044</td>\n",
       "      <td>8353.674710</td>\n",
       "    </tr>\n",
       "    <tr>\n",
       "      <th>('L2', 1)</th>\n",
       "      <td>7976.359176</td>\n",
       "      <td>NaN</td>\n",
       "      <td>NaN</td>\n",
       "      <td>NaN</td>\n",
       "      <td>NaN</td>\n",
       "      <td>NaN</td>\n",
       "    </tr>\n",
       "    <tr>\n",
       "      <th>('L2', 2)</th>\n",
       "      <td>7980.646411</td>\n",
       "      <td>7998.969557</td>\n",
       "      <td>NaN</td>\n",
       "      <td>NaN</td>\n",
       "      <td>NaN</td>\n",
       "      <td>NaN</td>\n",
       "    </tr>\n",
       "    <tr>\n",
       "      <th>('L2', 3)</th>\n",
       "      <td>7995.105949</td>\n",
       "      <td>7990.753689</td>\n",
       "      <td>8729.835636</td>\n",
       "      <td>NaN</td>\n",
       "      <td>NaN</td>\n",
       "      <td>NaN</td>\n",
       "    </tr>\n",
       "    <tr>\n",
       "      <th>('L2', 4)</th>\n",
       "      <td>7987.875423</td>\n",
       "      <td>7983.748311</td>\n",
       "      <td>8718.787775</td>\n",
       "      <td>8748.004009</td>\n",
       "      <td>NaN</td>\n",
       "      <td>NaN</td>\n",
       "    </tr>\n",
       "    <tr>\n",
       "      <th>('L2', 5)</th>\n",
       "      <td>8007.025235</td>\n",
       "      <td>7979.841094</td>\n",
       "      <td>8728.741889</td>\n",
       "      <td>8733.487056</td>\n",
       "      <td>9437.603220</td>\n",
       "      <td>NaN</td>\n",
       "    </tr>\n",
       "    <tr>\n",
       "      <th>('L2', 6)</th>\n",
       "      <td>7976.440325</td>\n",
       "      <td>7984.652236</td>\n",
       "      <td>8726.619111</td>\n",
       "      <td>8740.533478</td>\n",
       "      <td>9445.317269</td>\n",
       "      <td>9445.175427</td>\n",
       "    </tr>\n",
       "  </tbody>\n",
       "</table>\n",
       "</div>"
      ],
      "text/plain": [
       "                     0            1            2             3             4  \\\n",
       "('L', 1)   7976.359176          NaN          NaN           NaN           NaN   \n",
       "('L', 2)   7981.756279  8740.698599          NaN           NaN           NaN   \n",
       "('L', 3)   7986.721518  8736.428179  9463.703487           NaN           NaN   \n",
       "('L', 4)   7982.982774  8731.269188  9460.895833  10135.044682           NaN   \n",
       "('L', 5)   7981.843178  8726.122251  9446.987249  10151.162564  10806.415935   \n",
       "('L', 6)   7990.296703  8750.010651  9435.894596  10152.603575  10795.619747   \n",
       "('G', 1)   8352.805781          NaN          NaN           NaN           NaN   \n",
       "('G', 2)   8378.740977  8360.520372          NaN           NaN           NaN   \n",
       "('G', 3)   8369.915788  8363.778123  8345.782352           NaN           NaN   \n",
       "('G', 4)   8350.320010  8349.587670  8363.786542   8344.886723           NaN   \n",
       "('G', 5)   8374.496419  8375.123623  8367.592430   8358.402430   8364.530328   \n",
       "('G', 6)   8347.878813  8379.979240  8354.758847   8365.046215   8343.549044   \n",
       "('L2', 1)  7976.359176          NaN          NaN           NaN           NaN   \n",
       "('L2', 2)  7980.646411  7998.969557          NaN           NaN           NaN   \n",
       "('L2', 3)  7995.105949  7990.753689  8729.835636           NaN           NaN   \n",
       "('L2', 4)  7987.875423  7983.748311  8718.787775   8748.004009           NaN   \n",
       "('L2', 5)  8007.025235  7979.841094  8728.741889   8733.487056   9437.603220   \n",
       "('L2', 6)  7976.440325  7984.652236  8726.619111   8740.533478   9445.317269   \n",
       "\n",
       "                      5  \n",
       "('L', 1)            NaN  \n",
       "('L', 2)            NaN  \n",
       "('L', 3)            NaN  \n",
       "('L', 4)            NaN  \n",
       "('L', 5)            NaN  \n",
       "('L', 6)   11419.556609  \n",
       "('G', 1)            NaN  \n",
       "('G', 2)            NaN  \n",
       "('G', 3)            NaN  \n",
       "('G', 4)            NaN  \n",
       "('G', 5)            NaN  \n",
       "('G', 6)    8353.674710  \n",
       "('L2', 1)           NaN  \n",
       "('L2', 2)           NaN  \n",
       "('L2', 3)           NaN  \n",
       "('L2', 4)           NaN  \n",
       "('L2', 5)           NaN  \n",
       "('L2', 6)   9445.175427  "
      ]
     },
     "execution_count": 53,
     "metadata": {},
     "output_type": "execute_result"
    }
   ],
   "source": [
    "pd.read_csv('results_machine_reduction.csv', index_col=0)"
   ]
  },
  {
   "cell_type": "markdown",
   "metadata": {},
   "source": [
    "# Analysis suggested by Paweł"
   ]
  },
  {
   "cell_type": "code",
   "execution_count": 63,
   "metadata": {},
   "outputs": [
    {
     "name": "stderr",
     "output_type": "stream",
     "text": [
      "D:\\Anaconda\\lib\\site-packages\\ipykernel_launcher.py:1: DeprecationWarning: time.clock has been deprecated in Python 3.3 and will be removed from Python 3.8: use time.perf_counter or time.process_time instead\n",
      "  \"\"\"Entry point for launching an IPython kernel.\n"
     ]
    },
    {
     "name": "stdout",
     "output_type": "stream",
     "text": [
      "Entire simulation duration time: 2368.2s\n"
     ]
    },
    {
     "name": "stderr",
     "output_type": "stream",
     "text": [
      "D:\\Anaconda\\lib\\site-packages\\ipykernel_launcher.py:6: DeprecationWarning: time.clock has been deprecated in Python 3.3 and will be removed from Python 3.8: use time.perf_counter or time.process_time instead\n",
      "  \n"
     ]
    }
   ],
   "source": [
    "t0 = time.clock()\n",
    "results_better_machines = {}\n",
    "for setup in ['L', 'G', 'L2']:\n",
    "    for working_improvement in range(15):\n",
    "        results_better_machines[(setup, working_improvement)] = run_model(iterations, horizon, avg_working_time + working_improvement, avg_repair_time, n_machines, m, setup)\n",
    "print('Entire simulation duration time: {:.1f}s'.format(time.clock() - t0))"
   ]
  },
  {
   "cell_type": "code",
   "execution_count": 83,
   "metadata": {},
   "outputs": [],
   "source": [
    "df_better_machines = pd.DataFrame.from_dict(results_better_machines).T"
   ]
  },
  {
   "cell_type": "code",
   "execution_count": 84,
   "metadata": {},
   "outputs": [
    {
     "data": {
      "text/html": [
       "<div>\n",
       "<style scoped>\n",
       "    .dataframe tbody tr th:only-of-type {\n",
       "        vertical-align: middle;\n",
       "    }\n",
       "\n",
       "    .dataframe tbody tr th {\n",
       "        vertical-align: top;\n",
       "    }\n",
       "\n",
       "    .dataframe thead th {\n",
       "        text-align: right;\n",
       "    }\n",
       "</style>\n",
       "<table border=\"1\" class=\"dataframe\">\n",
       "  <thead>\n",
       "    <tr style=\"text-align: right;\">\n",
       "      <th></th>\n",
       "      <th></th>\n",
       "      <th>0</th>\n",
       "      <th>1</th>\n",
       "      <th>2</th>\n",
       "      <th>3</th>\n",
       "      <th>4</th>\n",
       "      <th>5</th>\n",
       "    </tr>\n",
       "  </thead>\n",
       "  <tbody>\n",
       "    <tr>\n",
       "      <th rowspan=\"15\" valign=\"top\">L</th>\n",
       "      <th>0</th>\n",
       "      <td>7990.296703</td>\n",
       "      <td>8750.010651</td>\n",
       "      <td>9435.894596</td>\n",
       "      <td>10152.603575</td>\n",
       "      <td>10795.619747</td>\n",
       "      <td>11419.556609</td>\n",
       "    </tr>\n",
       "    <tr>\n",
       "      <th>1</th>\n",
       "      <td>7909.179789</td>\n",
       "      <td>8649.201482</td>\n",
       "      <td>9363.801668</td>\n",
       "      <td>10053.284412</td>\n",
       "      <td>10707.017121</td>\n",
       "      <td>11320.743921</td>\n",
       "    </tr>\n",
       "    <tr>\n",
       "      <th>2</th>\n",
       "      <td>7839.919357</td>\n",
       "      <td>8546.983486</td>\n",
       "      <td>9237.324721</td>\n",
       "      <td>9943.112126</td>\n",
       "      <td>10586.485054</td>\n",
       "      <td>11215.652638</td>\n",
       "    </tr>\n",
       "    <tr>\n",
       "      <th>3</th>\n",
       "      <td>7731.015176</td>\n",
       "      <td>8456.373877</td>\n",
       "      <td>9161.132995</td>\n",
       "      <td>9832.130863</td>\n",
       "      <td>10457.965559</td>\n",
       "      <td>11129.181156</td>\n",
       "    </tr>\n",
       "    <tr>\n",
       "      <th>4</th>\n",
       "      <td>7647.965331</td>\n",
       "      <td>8385.612763</td>\n",
       "      <td>9061.555025</td>\n",
       "      <td>9764.948588</td>\n",
       "      <td>10386.417212</td>\n",
       "      <td>11005.740860</td>\n",
       "    </tr>\n",
       "    <tr>\n",
       "      <th>5</th>\n",
       "      <td>7580.156453</td>\n",
       "      <td>8287.338103</td>\n",
       "      <td>8998.118588</td>\n",
       "      <td>9665.473622</td>\n",
       "      <td>10272.892593</td>\n",
       "      <td>10900.976000</td>\n",
       "    </tr>\n",
       "    <tr>\n",
       "      <th>6</th>\n",
       "      <td>7500.870793</td>\n",
       "      <td>8215.409623</td>\n",
       "      <td>8897.941697</td>\n",
       "      <td>9552.147273</td>\n",
       "      <td>10193.690639</td>\n",
       "      <td>10811.194761</td>\n",
       "    </tr>\n",
       "    <tr>\n",
       "      <th>7</th>\n",
       "      <td>7438.343424</td>\n",
       "      <td>8119.496799</td>\n",
       "      <td>8788.630897</td>\n",
       "      <td>9468.263455</td>\n",
       "      <td>10105.811009</td>\n",
       "      <td>10694.317304</td>\n",
       "    </tr>\n",
       "    <tr>\n",
       "      <th>8</th>\n",
       "      <td>7335.004224</td>\n",
       "      <td>8043.822629</td>\n",
       "      <td>8733.894221</td>\n",
       "      <td>9368.242992</td>\n",
       "      <td>10010.689139</td>\n",
       "      <td>10596.411939</td>\n",
       "    </tr>\n",
       "    <tr>\n",
       "      <th>9</th>\n",
       "      <td>7271.044482</td>\n",
       "      <td>7963.195067</td>\n",
       "      <td>8635.092807</td>\n",
       "      <td>9283.309867</td>\n",
       "      <td>9888.019730</td>\n",
       "      <td>10517.347397</td>\n",
       "    </tr>\n",
       "    <tr>\n",
       "      <th>10</th>\n",
       "      <td>7213.658868</td>\n",
       "      <td>7912.600972</td>\n",
       "      <td>8552.733454</td>\n",
       "      <td>9203.265979</td>\n",
       "      <td>9807.112737</td>\n",
       "      <td>10430.193161</td>\n",
       "    </tr>\n",
       "    <tr>\n",
       "      <th>11</th>\n",
       "      <td>7136.544191</td>\n",
       "      <td>7832.040856</td>\n",
       "      <td>8468.797292</td>\n",
       "      <td>9105.933316</td>\n",
       "      <td>9750.405669</td>\n",
       "      <td>10335.514938</td>\n",
       "    </tr>\n",
       "    <tr>\n",
       "      <th>12</th>\n",
       "      <td>7068.232354</td>\n",
       "      <td>7742.039184</td>\n",
       "      <td>8403.199712</td>\n",
       "      <td>9020.397730</td>\n",
       "      <td>9637.425362</td>\n",
       "      <td>10219.872338</td>\n",
       "    </tr>\n",
       "    <tr>\n",
       "      <th>13</th>\n",
       "      <td>7009.528544</td>\n",
       "      <td>7671.155893</td>\n",
       "      <td>8332.560062</td>\n",
       "      <td>8956.564364</td>\n",
       "      <td>9565.937953</td>\n",
       "      <td>10129.048752</td>\n",
       "    </tr>\n",
       "    <tr>\n",
       "      <th>14</th>\n",
       "      <td>6954.508279</td>\n",
       "      <td>7590.933685</td>\n",
       "      <td>8247.774253</td>\n",
       "      <td>8863.454160</td>\n",
       "      <td>9486.093167</td>\n",
       "      <td>10045.873742</td>\n",
       "    </tr>\n",
       "    <tr>\n",
       "      <th rowspan=\"15\" valign=\"top\">G</th>\n",
       "      <th>0</th>\n",
       "      <td>8347.878813</td>\n",
       "      <td>8379.979240</td>\n",
       "      <td>8354.758847</td>\n",
       "      <td>8365.046215</td>\n",
       "      <td>8343.549044</td>\n",
       "      <td>8353.674710</td>\n",
       "    </tr>\n",
       "    <tr>\n",
       "      <th>1</th>\n",
       "      <td>8264.884516</td>\n",
       "      <td>8281.920599</td>\n",
       "      <td>8287.269833</td>\n",
       "      <td>8279.164307</td>\n",
       "      <td>8265.471412</td>\n",
       "      <td>8287.224130</td>\n",
       "    </tr>\n",
       "    <tr>\n",
       "      <th>2</th>\n",
       "      <td>8179.477395</td>\n",
       "      <td>8172.751300</td>\n",
       "      <td>8175.980525</td>\n",
       "      <td>8186.435614</td>\n",
       "      <td>8185.179728</td>\n",
       "      <td>8182.374356</td>\n",
       "    </tr>\n",
       "    <tr>\n",
       "      <th>3</th>\n",
       "      <td>8077.340939</td>\n",
       "      <td>8088.146578</td>\n",
       "      <td>8092.453924</td>\n",
       "      <td>8105.335245</td>\n",
       "      <td>8078.143265</td>\n",
       "      <td>8107.932607</td>\n",
       "    </tr>\n",
       "    <tr>\n",
       "      <th>4</th>\n",
       "      <td>8034.657018</td>\n",
       "      <td>7999.784270</td>\n",
       "      <td>8037.590903</td>\n",
       "      <td>8002.946175</td>\n",
       "      <td>8016.667241</td>\n",
       "      <td>8003.942200</td>\n",
       "    </tr>\n",
       "    <tr>\n",
       "      <th>5</th>\n",
       "      <td>7924.705298</td>\n",
       "      <td>7939.441471</td>\n",
       "      <td>7923.031936</td>\n",
       "      <td>7930.796814</td>\n",
       "      <td>7917.527319</td>\n",
       "      <td>7961.182510</td>\n",
       "    </tr>\n",
       "    <tr>\n",
       "      <th>6</th>\n",
       "      <td>7859.858214</td>\n",
       "      <td>7849.681515</td>\n",
       "      <td>7863.443778</td>\n",
       "      <td>7842.591435</td>\n",
       "      <td>7867.253619</td>\n",
       "      <td>7855.765918</td>\n",
       "    </tr>\n",
       "    <tr>\n",
       "      <th>7</th>\n",
       "      <td>7769.485677</td>\n",
       "      <td>7773.992388</td>\n",
       "      <td>7767.162038</td>\n",
       "      <td>7778.020407</td>\n",
       "      <td>7767.620471</td>\n",
       "      <td>7770.850797</td>\n",
       "    </tr>\n",
       "    <tr>\n",
       "      <th>8</th>\n",
       "      <td>7694.581854</td>\n",
       "      <td>7699.148200</td>\n",
       "      <td>7688.638233</td>\n",
       "      <td>7704.108879</td>\n",
       "      <td>7714.400163</td>\n",
       "      <td>7711.437366</td>\n",
       "    </tr>\n",
       "    <tr>\n",
       "      <th>9</th>\n",
       "      <td>7625.774837</td>\n",
       "      <td>7639.840825</td>\n",
       "      <td>7630.946587</td>\n",
       "      <td>7616.192804</td>\n",
       "      <td>7620.495068</td>\n",
       "      <td>7627.073905</td>\n",
       "    </tr>\n",
       "    <tr>\n",
       "      <th>10</th>\n",
       "      <td>7547.340724</td>\n",
       "      <td>7548.291740</td>\n",
       "      <td>7551.276938</td>\n",
       "      <td>7556.006199</td>\n",
       "      <td>7568.931716</td>\n",
       "      <td>7541.719665</td>\n",
       "    </tr>\n",
       "    <tr>\n",
       "      <th>11</th>\n",
       "      <td>7491.253686</td>\n",
       "      <td>7482.174785</td>\n",
       "      <td>7474.760855</td>\n",
       "      <td>7471.150830</td>\n",
       "      <td>7471.896667</td>\n",
       "      <td>7479.264821</td>\n",
       "    </tr>\n",
       "    <tr>\n",
       "      <th>12</th>\n",
       "      <td>7410.002340</td>\n",
       "      <td>7425.277138</td>\n",
       "      <td>7395.372073</td>\n",
       "      <td>7387.098100</td>\n",
       "      <td>7411.330151</td>\n",
       "      <td>7409.923893</td>\n",
       "    </tr>\n",
       "    <tr>\n",
       "      <th>13</th>\n",
       "      <td>7332.181891</td>\n",
       "      <td>7342.705567</td>\n",
       "      <td>7340.201569</td>\n",
       "      <td>7332.212393</td>\n",
       "      <td>7323.676668</td>\n",
       "      <td>7354.530255</td>\n",
       "    </tr>\n",
       "    <tr>\n",
       "      <th>14</th>\n",
       "      <td>7272.447185</td>\n",
       "      <td>7268.035507</td>\n",
       "      <td>7277.176863</td>\n",
       "      <td>7266.948760</td>\n",
       "      <td>7264.336537</td>\n",
       "      <td>7272.852006</td>\n",
       "    </tr>\n",
       "    <tr>\n",
       "      <th rowspan=\"15\" valign=\"top\">L2</th>\n",
       "      <th>0</th>\n",
       "      <td>7976.440325</td>\n",
       "      <td>7984.652236</td>\n",
       "      <td>8726.619111</td>\n",
       "      <td>8740.533478</td>\n",
       "      <td>9445.317269</td>\n",
       "      <td>9445.175427</td>\n",
       "    </tr>\n",
       "    <tr>\n",
       "      <th>1</th>\n",
       "      <td>7871.741064</td>\n",
       "      <td>7904.415851</td>\n",
       "      <td>8637.951002</td>\n",
       "      <td>8638.481230</td>\n",
       "      <td>9345.388116</td>\n",
       "      <td>9361.710968</td>\n",
       "    </tr>\n",
       "    <tr>\n",
       "      <th>2</th>\n",
       "      <td>7810.817919</td>\n",
       "      <td>7812.179437</td>\n",
       "      <td>8558.363281</td>\n",
       "      <td>8570.720238</td>\n",
       "      <td>9267.346498</td>\n",
       "      <td>9264.639149</td>\n",
       "    </tr>\n",
       "    <tr>\n",
       "      <th>3</th>\n",
       "      <td>7727.540817</td>\n",
       "      <td>7724.724778</td>\n",
       "      <td>8456.166514</td>\n",
       "      <td>8462.914767</td>\n",
       "      <td>9165.958117</td>\n",
       "      <td>9179.788764</td>\n",
       "    </tr>\n",
       "    <tr>\n",
       "      <th>4</th>\n",
       "      <td>7651.885995</td>\n",
       "      <td>7643.166974</td>\n",
       "      <td>8383.910693</td>\n",
       "      <td>8386.076615</td>\n",
       "      <td>9068.797258</td>\n",
       "      <td>9095.476891</td>\n",
       "    </tr>\n",
       "    <tr>\n",
       "      <th>5</th>\n",
       "      <td>7571.133884</td>\n",
       "      <td>7576.295716</td>\n",
       "      <td>8315.295271</td>\n",
       "      <td>8298.228595</td>\n",
       "      <td>8972.674124</td>\n",
       "      <td>8992.892232</td>\n",
       "    </tr>\n",
       "    <tr>\n",
       "      <th>6</th>\n",
       "      <td>7485.082283</td>\n",
       "      <td>7498.376800</td>\n",
       "      <td>8198.213146</td>\n",
       "      <td>8216.652059</td>\n",
       "      <td>8891.317433</td>\n",
       "      <td>8930.087276</td>\n",
       "    </tr>\n",
       "    <tr>\n",
       "      <th>7</th>\n",
       "      <td>7425.135642</td>\n",
       "      <td>7420.582131</td>\n",
       "      <td>8120.150357</td>\n",
       "      <td>8138.067658</td>\n",
       "      <td>8799.212434</td>\n",
       "      <td>8805.620237</td>\n",
       "    </tr>\n",
       "    <tr>\n",
       "      <th>8</th>\n",
       "      <td>7335.914717</td>\n",
       "      <td>7350.474409</td>\n",
       "      <td>8042.224919</td>\n",
       "      <td>8052.257930</td>\n",
       "      <td>8721.553930</td>\n",
       "      <td>8729.824414</td>\n",
       "    </tr>\n",
       "    <tr>\n",
       "      <th>9</th>\n",
       "      <td>7271.200092</td>\n",
       "      <td>7253.683542</td>\n",
       "      <td>7980.404075</td>\n",
       "      <td>7984.851918</td>\n",
       "      <td>8650.867509</td>\n",
       "      <td>8642.738649</td>\n",
       "    </tr>\n",
       "    <tr>\n",
       "      <th>10</th>\n",
       "      <td>7189.056384</td>\n",
       "      <td>7195.385789</td>\n",
       "      <td>7879.387060</td>\n",
       "      <td>7895.636892</td>\n",
       "      <td>8572.849520</td>\n",
       "      <td>8571.803795</td>\n",
       "    </tr>\n",
       "    <tr>\n",
       "      <th>11</th>\n",
       "      <td>7121.248239</td>\n",
       "      <td>7133.129432</td>\n",
       "      <td>7797.562523</td>\n",
       "      <td>7830.841402</td>\n",
       "      <td>8483.033908</td>\n",
       "      <td>8486.814680</td>\n",
       "    </tr>\n",
       "    <tr>\n",
       "      <th>12</th>\n",
       "      <td>7045.894696</td>\n",
       "      <td>7074.670055</td>\n",
       "      <td>7730.565009</td>\n",
       "      <td>7745.935337</td>\n",
       "      <td>8391.393402</td>\n",
       "      <td>8394.530641</td>\n",
       "    </tr>\n",
       "    <tr>\n",
       "      <th>13</th>\n",
       "      <td>6997.299835</td>\n",
       "      <td>7004.421099</td>\n",
       "      <td>7668.336135</td>\n",
       "      <td>7687.779565</td>\n",
       "      <td>8329.516852</td>\n",
       "      <td>8318.595498</td>\n",
       "    </tr>\n",
       "    <tr>\n",
       "      <th>14</th>\n",
       "      <td>6932.696014</td>\n",
       "      <td>6912.227566</td>\n",
       "      <td>7592.441566</td>\n",
       "      <td>7618.832703</td>\n",
       "      <td>8251.027345</td>\n",
       "      <td>8240.317164</td>\n",
       "    </tr>\n",
       "  </tbody>\n",
       "</table>\n",
       "</div>"
      ],
      "text/plain": [
       "                 0            1            2             3             4  \\\n",
       "L  0   7990.296703  8750.010651  9435.894596  10152.603575  10795.619747   \n",
       "   1   7909.179789  8649.201482  9363.801668  10053.284412  10707.017121   \n",
       "   2   7839.919357  8546.983486  9237.324721   9943.112126  10586.485054   \n",
       "   3   7731.015176  8456.373877  9161.132995   9832.130863  10457.965559   \n",
       "   4   7647.965331  8385.612763  9061.555025   9764.948588  10386.417212   \n",
       "   5   7580.156453  8287.338103  8998.118588   9665.473622  10272.892593   \n",
       "   6   7500.870793  8215.409623  8897.941697   9552.147273  10193.690639   \n",
       "   7   7438.343424  8119.496799  8788.630897   9468.263455  10105.811009   \n",
       "   8   7335.004224  8043.822629  8733.894221   9368.242992  10010.689139   \n",
       "   9   7271.044482  7963.195067  8635.092807   9283.309867   9888.019730   \n",
       "   10  7213.658868  7912.600972  8552.733454   9203.265979   9807.112737   \n",
       "   11  7136.544191  7832.040856  8468.797292   9105.933316   9750.405669   \n",
       "   12  7068.232354  7742.039184  8403.199712   9020.397730   9637.425362   \n",
       "   13  7009.528544  7671.155893  8332.560062   8956.564364   9565.937953   \n",
       "   14  6954.508279  7590.933685  8247.774253   8863.454160   9486.093167   \n",
       "G  0   8347.878813  8379.979240  8354.758847   8365.046215   8343.549044   \n",
       "   1   8264.884516  8281.920599  8287.269833   8279.164307   8265.471412   \n",
       "   2   8179.477395  8172.751300  8175.980525   8186.435614   8185.179728   \n",
       "   3   8077.340939  8088.146578  8092.453924   8105.335245   8078.143265   \n",
       "   4   8034.657018  7999.784270  8037.590903   8002.946175   8016.667241   \n",
       "   5   7924.705298  7939.441471  7923.031936   7930.796814   7917.527319   \n",
       "   6   7859.858214  7849.681515  7863.443778   7842.591435   7867.253619   \n",
       "   7   7769.485677  7773.992388  7767.162038   7778.020407   7767.620471   \n",
       "   8   7694.581854  7699.148200  7688.638233   7704.108879   7714.400163   \n",
       "   9   7625.774837  7639.840825  7630.946587   7616.192804   7620.495068   \n",
       "   10  7547.340724  7548.291740  7551.276938   7556.006199   7568.931716   \n",
       "   11  7491.253686  7482.174785  7474.760855   7471.150830   7471.896667   \n",
       "   12  7410.002340  7425.277138  7395.372073   7387.098100   7411.330151   \n",
       "   13  7332.181891  7342.705567  7340.201569   7332.212393   7323.676668   \n",
       "   14  7272.447185  7268.035507  7277.176863   7266.948760   7264.336537   \n",
       "L2 0   7976.440325  7984.652236  8726.619111   8740.533478   9445.317269   \n",
       "   1   7871.741064  7904.415851  8637.951002   8638.481230   9345.388116   \n",
       "   2   7810.817919  7812.179437  8558.363281   8570.720238   9267.346498   \n",
       "   3   7727.540817  7724.724778  8456.166514   8462.914767   9165.958117   \n",
       "   4   7651.885995  7643.166974  8383.910693   8386.076615   9068.797258   \n",
       "   5   7571.133884  7576.295716  8315.295271   8298.228595   8972.674124   \n",
       "   6   7485.082283  7498.376800  8198.213146   8216.652059   8891.317433   \n",
       "   7   7425.135642  7420.582131  8120.150357   8138.067658   8799.212434   \n",
       "   8   7335.914717  7350.474409  8042.224919   8052.257930   8721.553930   \n",
       "   9   7271.200092  7253.683542  7980.404075   7984.851918   8650.867509   \n",
       "   10  7189.056384  7195.385789  7879.387060   7895.636892   8572.849520   \n",
       "   11  7121.248239  7133.129432  7797.562523   7830.841402   8483.033908   \n",
       "   12  7045.894696  7074.670055  7730.565009   7745.935337   8391.393402   \n",
       "   13  6997.299835  7004.421099  7668.336135   7687.779565   8329.516852   \n",
       "   14  6932.696014  6912.227566  7592.441566   7618.832703   8251.027345   \n",
       "\n",
       "                  5  \n",
       "L  0   11419.556609  \n",
       "   1   11320.743921  \n",
       "   2   11215.652638  \n",
       "   3   11129.181156  \n",
       "   4   11005.740860  \n",
       "   5   10900.976000  \n",
       "   6   10811.194761  \n",
       "   7   10694.317304  \n",
       "   8   10596.411939  \n",
       "   9   10517.347397  \n",
       "   10  10430.193161  \n",
       "   11  10335.514938  \n",
       "   12  10219.872338  \n",
       "   13  10129.048752  \n",
       "   14  10045.873742  \n",
       "G  0    8353.674710  \n",
       "   1    8287.224130  \n",
       "   2    8182.374356  \n",
       "   3    8107.932607  \n",
       "   4    8003.942200  \n",
       "   5    7961.182510  \n",
       "   6    7855.765918  \n",
       "   7    7770.850797  \n",
       "   8    7711.437366  \n",
       "   9    7627.073905  \n",
       "   10   7541.719665  \n",
       "   11   7479.264821  \n",
       "   12   7409.923893  \n",
       "   13   7354.530255  \n",
       "   14   7272.852006  \n",
       "L2 0    9445.175427  \n",
       "   1    9361.710968  \n",
       "   2    9264.639149  \n",
       "   3    9179.788764  \n",
       "   4    9095.476891  \n",
       "   5    8992.892232  \n",
       "   6    8930.087276  \n",
       "   7    8805.620237  \n",
       "   8    8729.824414  \n",
       "   9    8642.738649  \n",
       "   10   8571.803795  \n",
       "   11   8486.814680  \n",
       "   12   8394.530641  \n",
       "   13   8318.595498  \n",
       "   14   8240.317164  "
      ]
     },
     "execution_count": 84,
     "metadata": {},
     "output_type": "execute_result"
    }
   ],
   "source": [
    "df_better_machines"
   ]
  },
  {
   "cell_type": "code",
   "execution_count": 85,
   "metadata": {},
   "outputs": [],
   "source": [
    "# saving results\n",
    "df_better_machines.to_hdf('results_better_machines.hdf', key = 'full_results')"
   ]
  },
  {
   "cell_type": "code",
   "execution_count": 86,
   "metadata": {},
   "outputs": [
    {
     "name": "stdout",
     "output_type": "stream",
     "text": [
      "All DataFrames saved correctly\n"
     ]
    }
   ],
   "source": [
    "# Check\n",
    "if df_better_machines.equals(pd.read_hdf('results_better_machines.hdf', key = 'full_results')):\n",
    "    print('All DataFrames saved correctly')\n",
    "else: \n",
    "    print('df saved/read incorrectly')"
   ]
  },
  {
   "cell_type": "code",
   "execution_count": 2,
   "metadata": {},
   "outputs": [],
   "source": [
    "df_better_machines = pd.read_hdf('results_better_machines.hdf', key = 'full_results')"
   ]
  },
  {
   "cell_type": "code",
   "execution_count": 3,
   "metadata": {},
   "outputs": [
    {
     "data": {
      "text/html": [
       "<div>\n",
       "<style>\n",
       "    .dataframe thead tr:only-child th {\n",
       "        text-align: right;\n",
       "    }\n",
       "\n",
       "    .dataframe thead th {\n",
       "        text-align: left;\n",
       "    }\n",
       "\n",
       "    .dataframe tbody tr th {\n",
       "        vertical-align: top;\n",
       "    }\n",
       "</style>\n",
       "<table border=\"1\" class=\"dataframe\">\n",
       "  <thead>\n",
       "    <tr style=\"text-align: right;\">\n",
       "      <th></th>\n",
       "      <th></th>\n",
       "      <th>0</th>\n",
       "      <th>1</th>\n",
       "      <th>2</th>\n",
       "      <th>3</th>\n",
       "      <th>4</th>\n",
       "      <th>5</th>\n",
       "    </tr>\n",
       "  </thead>\n",
       "  <tbody>\n",
       "    <tr>\n",
       "      <th rowspan=\"15\" valign=\"top\">L</th>\n",
       "      <th>0</th>\n",
       "      <td>7990.296703</td>\n",
       "      <td>8750.010651</td>\n",
       "      <td>9435.894596</td>\n",
       "      <td>10152.603575</td>\n",
       "      <td>10795.619747</td>\n",
       "      <td>11419.556609</td>\n",
       "    </tr>\n",
       "    <tr>\n",
       "      <th>1</th>\n",
       "      <td>7909.179789</td>\n",
       "      <td>8649.201482</td>\n",
       "      <td>9363.801668</td>\n",
       "      <td>10053.284412</td>\n",
       "      <td>10707.017121</td>\n",
       "      <td>11320.743921</td>\n",
       "    </tr>\n",
       "    <tr>\n",
       "      <th>2</th>\n",
       "      <td>7839.919357</td>\n",
       "      <td>8546.983486</td>\n",
       "      <td>9237.324721</td>\n",
       "      <td>9943.112126</td>\n",
       "      <td>10586.485054</td>\n",
       "      <td>11215.652638</td>\n",
       "    </tr>\n",
       "    <tr>\n",
       "      <th>3</th>\n",
       "      <td>7731.015176</td>\n",
       "      <td>8456.373877</td>\n",
       "      <td>9161.132995</td>\n",
       "      <td>9832.130863</td>\n",
       "      <td>10457.965559</td>\n",
       "      <td>11129.181156</td>\n",
       "    </tr>\n",
       "    <tr>\n",
       "      <th>4</th>\n",
       "      <td>7647.965331</td>\n",
       "      <td>8385.612763</td>\n",
       "      <td>9061.555025</td>\n",
       "      <td>9764.948588</td>\n",
       "      <td>10386.417212</td>\n",
       "      <td>11005.740860</td>\n",
       "    </tr>\n",
       "    <tr>\n",
       "      <th>5</th>\n",
       "      <td>7580.156453</td>\n",
       "      <td>8287.338103</td>\n",
       "      <td>8998.118588</td>\n",
       "      <td>9665.473622</td>\n",
       "      <td>10272.892593</td>\n",
       "      <td>10900.976000</td>\n",
       "    </tr>\n",
       "    <tr>\n",
       "      <th>6</th>\n",
       "      <td>7500.870793</td>\n",
       "      <td>8215.409623</td>\n",
       "      <td>8897.941697</td>\n",
       "      <td>9552.147273</td>\n",
       "      <td>10193.690639</td>\n",
       "      <td>10811.194761</td>\n",
       "    </tr>\n",
       "    <tr>\n",
       "      <th>7</th>\n",
       "      <td>7438.343424</td>\n",
       "      <td>8119.496799</td>\n",
       "      <td>8788.630897</td>\n",
       "      <td>9468.263455</td>\n",
       "      <td>10105.811009</td>\n",
       "      <td>10694.317304</td>\n",
       "    </tr>\n",
       "    <tr>\n",
       "      <th>8</th>\n",
       "      <td>7335.004224</td>\n",
       "      <td>8043.822629</td>\n",
       "      <td>8733.894221</td>\n",
       "      <td>9368.242992</td>\n",
       "      <td>10010.689139</td>\n",
       "      <td>10596.411939</td>\n",
       "    </tr>\n",
       "    <tr>\n",
       "      <th>9</th>\n",
       "      <td>7271.044482</td>\n",
       "      <td>7963.195067</td>\n",
       "      <td>8635.092807</td>\n",
       "      <td>9283.309867</td>\n",
       "      <td>9888.019730</td>\n",
       "      <td>10517.347397</td>\n",
       "    </tr>\n",
       "    <tr>\n",
       "      <th>10</th>\n",
       "      <td>7213.658868</td>\n",
       "      <td>7912.600972</td>\n",
       "      <td>8552.733454</td>\n",
       "      <td>9203.265979</td>\n",
       "      <td>9807.112737</td>\n",
       "      <td>10430.193161</td>\n",
       "    </tr>\n",
       "    <tr>\n",
       "      <th>11</th>\n",
       "      <td>7136.544191</td>\n",
       "      <td>7832.040856</td>\n",
       "      <td>8468.797292</td>\n",
       "      <td>9105.933316</td>\n",
       "      <td>9750.405669</td>\n",
       "      <td>10335.514938</td>\n",
       "    </tr>\n",
       "    <tr>\n",
       "      <th>12</th>\n",
       "      <td>7068.232354</td>\n",
       "      <td>7742.039184</td>\n",
       "      <td>8403.199712</td>\n",
       "      <td>9020.397730</td>\n",
       "      <td>9637.425362</td>\n",
       "      <td>10219.872338</td>\n",
       "    </tr>\n",
       "    <tr>\n",
       "      <th>13</th>\n",
       "      <td>7009.528544</td>\n",
       "      <td>7671.155893</td>\n",
       "      <td>8332.560062</td>\n",
       "      <td>8956.564364</td>\n",
       "      <td>9565.937953</td>\n",
       "      <td>10129.048752</td>\n",
       "    </tr>\n",
       "    <tr>\n",
       "      <th>14</th>\n",
       "      <td>6954.508279</td>\n",
       "      <td>7590.933685</td>\n",
       "      <td>8247.774253</td>\n",
       "      <td>8863.454160</td>\n",
       "      <td>9486.093167</td>\n",
       "      <td>10045.873742</td>\n",
       "    </tr>\n",
       "    <tr>\n",
       "      <th rowspan=\"15\" valign=\"top\">G</th>\n",
       "      <th>0</th>\n",
       "      <td>8347.878813</td>\n",
       "      <td>8379.979240</td>\n",
       "      <td>8354.758847</td>\n",
       "      <td>8365.046215</td>\n",
       "      <td>8343.549044</td>\n",
       "      <td>8353.674710</td>\n",
       "    </tr>\n",
       "    <tr>\n",
       "      <th>1</th>\n",
       "      <td>8264.884516</td>\n",
       "      <td>8281.920599</td>\n",
       "      <td>8287.269833</td>\n",
       "      <td>8279.164307</td>\n",
       "      <td>8265.471412</td>\n",
       "      <td>8287.224130</td>\n",
       "    </tr>\n",
       "    <tr>\n",
       "      <th>2</th>\n",
       "      <td>8179.477395</td>\n",
       "      <td>8172.751300</td>\n",
       "      <td>8175.980525</td>\n",
       "      <td>8186.435614</td>\n",
       "      <td>8185.179728</td>\n",
       "      <td>8182.374356</td>\n",
       "    </tr>\n",
       "    <tr>\n",
       "      <th>3</th>\n",
       "      <td>8077.340939</td>\n",
       "      <td>8088.146578</td>\n",
       "      <td>8092.453924</td>\n",
       "      <td>8105.335245</td>\n",
       "      <td>8078.143265</td>\n",
       "      <td>8107.932607</td>\n",
       "    </tr>\n",
       "    <tr>\n",
       "      <th>4</th>\n",
       "      <td>8034.657018</td>\n",
       "      <td>7999.784270</td>\n",
       "      <td>8037.590903</td>\n",
       "      <td>8002.946175</td>\n",
       "      <td>8016.667241</td>\n",
       "      <td>8003.942200</td>\n",
       "    </tr>\n",
       "    <tr>\n",
       "      <th>5</th>\n",
       "      <td>7924.705298</td>\n",
       "      <td>7939.441471</td>\n",
       "      <td>7923.031936</td>\n",
       "      <td>7930.796814</td>\n",
       "      <td>7917.527319</td>\n",
       "      <td>7961.182510</td>\n",
       "    </tr>\n",
       "    <tr>\n",
       "      <th>6</th>\n",
       "      <td>7859.858214</td>\n",
       "      <td>7849.681515</td>\n",
       "      <td>7863.443778</td>\n",
       "      <td>7842.591435</td>\n",
       "      <td>7867.253619</td>\n",
       "      <td>7855.765918</td>\n",
       "    </tr>\n",
       "    <tr>\n",
       "      <th>7</th>\n",
       "      <td>7769.485677</td>\n",
       "      <td>7773.992388</td>\n",
       "      <td>7767.162038</td>\n",
       "      <td>7778.020407</td>\n",
       "      <td>7767.620471</td>\n",
       "      <td>7770.850797</td>\n",
       "    </tr>\n",
       "    <tr>\n",
       "      <th>8</th>\n",
       "      <td>7694.581854</td>\n",
       "      <td>7699.148200</td>\n",
       "      <td>7688.638233</td>\n",
       "      <td>7704.108879</td>\n",
       "      <td>7714.400163</td>\n",
       "      <td>7711.437366</td>\n",
       "    </tr>\n",
       "    <tr>\n",
       "      <th>9</th>\n",
       "      <td>7625.774837</td>\n",
       "      <td>7639.840825</td>\n",
       "      <td>7630.946587</td>\n",
       "      <td>7616.192804</td>\n",
       "      <td>7620.495068</td>\n",
       "      <td>7627.073905</td>\n",
       "    </tr>\n",
       "    <tr>\n",
       "      <th>10</th>\n",
       "      <td>7547.340724</td>\n",
       "      <td>7548.291740</td>\n",
       "      <td>7551.276938</td>\n",
       "      <td>7556.006199</td>\n",
       "      <td>7568.931716</td>\n",
       "      <td>7541.719665</td>\n",
       "    </tr>\n",
       "    <tr>\n",
       "      <th>11</th>\n",
       "      <td>7491.253686</td>\n",
       "      <td>7482.174785</td>\n",
       "      <td>7474.760855</td>\n",
       "      <td>7471.150830</td>\n",
       "      <td>7471.896667</td>\n",
       "      <td>7479.264821</td>\n",
       "    </tr>\n",
       "    <tr>\n",
       "      <th>12</th>\n",
       "      <td>7410.002340</td>\n",
       "      <td>7425.277138</td>\n",
       "      <td>7395.372073</td>\n",
       "      <td>7387.098100</td>\n",
       "      <td>7411.330151</td>\n",
       "      <td>7409.923893</td>\n",
       "    </tr>\n",
       "    <tr>\n",
       "      <th>13</th>\n",
       "      <td>7332.181891</td>\n",
       "      <td>7342.705567</td>\n",
       "      <td>7340.201569</td>\n",
       "      <td>7332.212393</td>\n",
       "      <td>7323.676668</td>\n",
       "      <td>7354.530255</td>\n",
       "    </tr>\n",
       "    <tr>\n",
       "      <th>14</th>\n",
       "      <td>7272.447185</td>\n",
       "      <td>7268.035507</td>\n",
       "      <td>7277.176863</td>\n",
       "      <td>7266.948760</td>\n",
       "      <td>7264.336537</td>\n",
       "      <td>7272.852006</td>\n",
       "    </tr>\n",
       "    <tr>\n",
       "      <th rowspan=\"15\" valign=\"top\">L2</th>\n",
       "      <th>0</th>\n",
       "      <td>7976.440325</td>\n",
       "      <td>7984.652236</td>\n",
       "      <td>8726.619111</td>\n",
       "      <td>8740.533478</td>\n",
       "      <td>9445.317269</td>\n",
       "      <td>9445.175427</td>\n",
       "    </tr>\n",
       "    <tr>\n",
       "      <th>1</th>\n",
       "      <td>7871.741064</td>\n",
       "      <td>7904.415851</td>\n",
       "      <td>8637.951002</td>\n",
       "      <td>8638.481230</td>\n",
       "      <td>9345.388116</td>\n",
       "      <td>9361.710968</td>\n",
       "    </tr>\n",
       "    <tr>\n",
       "      <th>2</th>\n",
       "      <td>7810.817919</td>\n",
       "      <td>7812.179437</td>\n",
       "      <td>8558.363281</td>\n",
       "      <td>8570.720238</td>\n",
       "      <td>9267.346498</td>\n",
       "      <td>9264.639149</td>\n",
       "    </tr>\n",
       "    <tr>\n",
       "      <th>3</th>\n",
       "      <td>7727.540817</td>\n",
       "      <td>7724.724778</td>\n",
       "      <td>8456.166514</td>\n",
       "      <td>8462.914767</td>\n",
       "      <td>9165.958117</td>\n",
       "      <td>9179.788764</td>\n",
       "    </tr>\n",
       "    <tr>\n",
       "      <th>4</th>\n",
       "      <td>7651.885995</td>\n",
       "      <td>7643.166974</td>\n",
       "      <td>8383.910693</td>\n",
       "      <td>8386.076615</td>\n",
       "      <td>9068.797258</td>\n",
       "      <td>9095.476891</td>\n",
       "    </tr>\n",
       "    <tr>\n",
       "      <th>5</th>\n",
       "      <td>7571.133884</td>\n",
       "      <td>7576.295716</td>\n",
       "      <td>8315.295271</td>\n",
       "      <td>8298.228595</td>\n",
       "      <td>8972.674124</td>\n",
       "      <td>8992.892232</td>\n",
       "    </tr>\n",
       "    <tr>\n",
       "      <th>6</th>\n",
       "      <td>7485.082283</td>\n",
       "      <td>7498.376800</td>\n",
       "      <td>8198.213146</td>\n",
       "      <td>8216.652059</td>\n",
       "      <td>8891.317433</td>\n",
       "      <td>8930.087276</td>\n",
       "    </tr>\n",
       "    <tr>\n",
       "      <th>7</th>\n",
       "      <td>7425.135642</td>\n",
       "      <td>7420.582131</td>\n",
       "      <td>8120.150357</td>\n",
       "      <td>8138.067658</td>\n",
       "      <td>8799.212434</td>\n",
       "      <td>8805.620237</td>\n",
       "    </tr>\n",
       "    <tr>\n",
       "      <th>8</th>\n",
       "      <td>7335.914717</td>\n",
       "      <td>7350.474409</td>\n",
       "      <td>8042.224919</td>\n",
       "      <td>8052.257930</td>\n",
       "      <td>8721.553930</td>\n",
       "      <td>8729.824414</td>\n",
       "    </tr>\n",
       "    <tr>\n",
       "      <th>9</th>\n",
       "      <td>7271.200092</td>\n",
       "      <td>7253.683542</td>\n",
       "      <td>7980.404075</td>\n",
       "      <td>7984.851918</td>\n",
       "      <td>8650.867509</td>\n",
       "      <td>8642.738649</td>\n",
       "    </tr>\n",
       "    <tr>\n",
       "      <th>10</th>\n",
       "      <td>7189.056384</td>\n",
       "      <td>7195.385789</td>\n",
       "      <td>7879.387060</td>\n",
       "      <td>7895.636892</td>\n",
       "      <td>8572.849520</td>\n",
       "      <td>8571.803795</td>\n",
       "    </tr>\n",
       "    <tr>\n",
       "      <th>11</th>\n",
       "      <td>7121.248239</td>\n",
       "      <td>7133.129432</td>\n",
       "      <td>7797.562523</td>\n",
       "      <td>7830.841402</td>\n",
       "      <td>8483.033908</td>\n",
       "      <td>8486.814680</td>\n",
       "    </tr>\n",
       "    <tr>\n",
       "      <th>12</th>\n",
       "      <td>7045.894696</td>\n",
       "      <td>7074.670055</td>\n",
       "      <td>7730.565009</td>\n",
       "      <td>7745.935337</td>\n",
       "      <td>8391.393402</td>\n",
       "      <td>8394.530641</td>\n",
       "    </tr>\n",
       "    <tr>\n",
       "      <th>13</th>\n",
       "      <td>6997.299835</td>\n",
       "      <td>7004.421099</td>\n",
       "      <td>7668.336135</td>\n",
       "      <td>7687.779565</td>\n",
       "      <td>8329.516852</td>\n",
       "      <td>8318.595498</td>\n",
       "    </tr>\n",
       "    <tr>\n",
       "      <th>14</th>\n",
       "      <td>6932.696014</td>\n",
       "      <td>6912.227566</td>\n",
       "      <td>7592.441566</td>\n",
       "      <td>7618.832703</td>\n",
       "      <td>8251.027345</td>\n",
       "      <td>8240.317164</td>\n",
       "    </tr>\n",
       "  </tbody>\n",
       "</table>\n",
       "</div>"
      ],
      "text/plain": [
       "                 0            1            2             3             4  \\\n",
       "L  0   7990.296703  8750.010651  9435.894596  10152.603575  10795.619747   \n",
       "   1   7909.179789  8649.201482  9363.801668  10053.284412  10707.017121   \n",
       "   2   7839.919357  8546.983486  9237.324721   9943.112126  10586.485054   \n",
       "   3   7731.015176  8456.373877  9161.132995   9832.130863  10457.965559   \n",
       "   4   7647.965331  8385.612763  9061.555025   9764.948588  10386.417212   \n",
       "   5   7580.156453  8287.338103  8998.118588   9665.473622  10272.892593   \n",
       "   6   7500.870793  8215.409623  8897.941697   9552.147273  10193.690639   \n",
       "   7   7438.343424  8119.496799  8788.630897   9468.263455  10105.811009   \n",
       "   8   7335.004224  8043.822629  8733.894221   9368.242992  10010.689139   \n",
       "   9   7271.044482  7963.195067  8635.092807   9283.309867   9888.019730   \n",
       "   10  7213.658868  7912.600972  8552.733454   9203.265979   9807.112737   \n",
       "   11  7136.544191  7832.040856  8468.797292   9105.933316   9750.405669   \n",
       "   12  7068.232354  7742.039184  8403.199712   9020.397730   9637.425362   \n",
       "   13  7009.528544  7671.155893  8332.560062   8956.564364   9565.937953   \n",
       "   14  6954.508279  7590.933685  8247.774253   8863.454160   9486.093167   \n",
       "G  0   8347.878813  8379.979240  8354.758847   8365.046215   8343.549044   \n",
       "   1   8264.884516  8281.920599  8287.269833   8279.164307   8265.471412   \n",
       "   2   8179.477395  8172.751300  8175.980525   8186.435614   8185.179728   \n",
       "   3   8077.340939  8088.146578  8092.453924   8105.335245   8078.143265   \n",
       "   4   8034.657018  7999.784270  8037.590903   8002.946175   8016.667241   \n",
       "   5   7924.705298  7939.441471  7923.031936   7930.796814   7917.527319   \n",
       "   6   7859.858214  7849.681515  7863.443778   7842.591435   7867.253619   \n",
       "   7   7769.485677  7773.992388  7767.162038   7778.020407   7767.620471   \n",
       "   8   7694.581854  7699.148200  7688.638233   7704.108879   7714.400163   \n",
       "   9   7625.774837  7639.840825  7630.946587   7616.192804   7620.495068   \n",
       "   10  7547.340724  7548.291740  7551.276938   7556.006199   7568.931716   \n",
       "   11  7491.253686  7482.174785  7474.760855   7471.150830   7471.896667   \n",
       "   12  7410.002340  7425.277138  7395.372073   7387.098100   7411.330151   \n",
       "   13  7332.181891  7342.705567  7340.201569   7332.212393   7323.676668   \n",
       "   14  7272.447185  7268.035507  7277.176863   7266.948760   7264.336537   \n",
       "L2 0   7976.440325  7984.652236  8726.619111   8740.533478   9445.317269   \n",
       "   1   7871.741064  7904.415851  8637.951002   8638.481230   9345.388116   \n",
       "   2   7810.817919  7812.179437  8558.363281   8570.720238   9267.346498   \n",
       "   3   7727.540817  7724.724778  8456.166514   8462.914767   9165.958117   \n",
       "   4   7651.885995  7643.166974  8383.910693   8386.076615   9068.797258   \n",
       "   5   7571.133884  7576.295716  8315.295271   8298.228595   8972.674124   \n",
       "   6   7485.082283  7498.376800  8198.213146   8216.652059   8891.317433   \n",
       "   7   7425.135642  7420.582131  8120.150357   8138.067658   8799.212434   \n",
       "   8   7335.914717  7350.474409  8042.224919   8052.257930   8721.553930   \n",
       "   9   7271.200092  7253.683542  7980.404075   7984.851918   8650.867509   \n",
       "   10  7189.056384  7195.385789  7879.387060   7895.636892   8572.849520   \n",
       "   11  7121.248239  7133.129432  7797.562523   7830.841402   8483.033908   \n",
       "   12  7045.894696  7074.670055  7730.565009   7745.935337   8391.393402   \n",
       "   13  6997.299835  7004.421099  7668.336135   7687.779565   8329.516852   \n",
       "   14  6932.696014  6912.227566  7592.441566   7618.832703   8251.027345   \n",
       "\n",
       "                  5  \n",
       "L  0   11419.556609  \n",
       "   1   11320.743921  \n",
       "   2   11215.652638  \n",
       "   3   11129.181156  \n",
       "   4   11005.740860  \n",
       "   5   10900.976000  \n",
       "   6   10811.194761  \n",
       "   7   10694.317304  \n",
       "   8   10596.411939  \n",
       "   9   10517.347397  \n",
       "   10  10430.193161  \n",
       "   11  10335.514938  \n",
       "   12  10219.872338  \n",
       "   13  10129.048752  \n",
       "   14  10045.873742  \n",
       "G  0    8353.674710  \n",
       "   1    8287.224130  \n",
       "   2    8182.374356  \n",
       "   3    8107.932607  \n",
       "   4    8003.942200  \n",
       "   5    7961.182510  \n",
       "   6    7855.765918  \n",
       "   7    7770.850797  \n",
       "   8    7711.437366  \n",
       "   9    7627.073905  \n",
       "   10   7541.719665  \n",
       "   11   7479.264821  \n",
       "   12   7409.923893  \n",
       "   13   7354.530255  \n",
       "   14   7272.852006  \n",
       "L2 0    9445.175427  \n",
       "   1    9361.710968  \n",
       "   2    9264.639149  \n",
       "   3    9179.788764  \n",
       "   4    9095.476891  \n",
       "   5    8992.892232  \n",
       "   6    8930.087276  \n",
       "   7    8805.620237  \n",
       "   8    8729.824414  \n",
       "   9    8642.738649  \n",
       "   10   8571.803795  \n",
       "   11   8486.814680  \n",
       "   12   8394.530641  \n",
       "   13   8318.595498  \n",
       "   14   8240.317164  "
      ]
     },
     "execution_count": 3,
     "metadata": {},
     "output_type": "execute_result"
    }
   ],
   "source": [
    "df_better_machines"
   ]
  },
  {
   "cell_type": "code",
   "execution_count": 11,
   "metadata": {},
   "outputs": [
    {
     "data": {
      "image/png": "[encoded data removed]",
      "text/plain": [
       "<matplotlib.figure.Figure at 0x20fd5877c88>"
      ]
     },
     "metadata": {
      "needs_background": "light"
     },
     "output_type": "display_data"
    }
   ],
   "source": [
    "fig, ax = plt.subplots(3, 1, figsize = (10,7))\n",
    "for x in zip(ax, ['L','L2','G']):\n",
    "    df_better_machines.loc[(x[1], slice(None)),:].plot(ax = x[0])"
   ]
  },
  {
   "cell_type": "markdown",
   "metadata": {},
   "source": [
    "Basing on the graph above, the cost improvement from longer time between failures can be well approximated by a linear function"
   ]
  },
  {
   "cell_type": "code",
   "execution_count": 17,
   "metadata": {},
   "outputs": [
    {
     "data": {
      "text/plain": [
       "G    -72.478778\n",
       "L    -81.726051\n",
       "L2   -75.235505\n",
       "dtype: float64"
      ]
     },
     "execution_count": 17,
     "metadata": {},
     "output_type": "execute_result"
    }
   ],
   "source": [
    "df_better_machines.mean(axis = 1).groupby(level = 0).apply(lambda x: (x.iloc[-1] - x.iloc[0])/len(x))"
   ]
  },
  {
   "cell_type": "markdown",
   "metadata": {},
   "source": [
    "An average improvement in downtime is between 72 and 81 minutes per machine (monthly) for each extra minute of time between failures. From this, the maximum extra cost of higher-quality machines can be inferred."
   ]
  }
 ],
 "metadata": {
  "kernelspec": {
   "display_name": "Python 3",
   "language": "python",
   "name": "python3"
  },
  "language_info": {
   "codemirror_mode": {
    "name": "ipython",
    "version": 3
   },
   "file_extension": ".py",
   "mimetype": "text/x-python",
   "name": "python",
   "nbconvert_exporter": "python",
   "pygments_lexer": "ipython3",
   "version": "3.6.6"
  }
 },
 "nbformat": 4,
 "nbformat_minor": 2
}
