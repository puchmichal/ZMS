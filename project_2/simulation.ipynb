{
 "cells": [
  {
   "cell_type": "markdown",
   "metadata": {},
   "source": [
    "# ZMS LAB 043 - case GWINTEX\n",
    "\n",
    "kontakt: annaszczurek2@gmail.com\n",
    "\n",
    "\n",
    "## Opis zajęć\n",
    "\n",
    "\n",
    "Firma GWINTEX S.A. jest międzynarodowym potentatem w dziedzinie produkcji korkociągów. Korkociągi są wytwarzane na bardzo nowoczesnych maszynach metalurgicznych. W związku ze znacznym wzrostem zamówień firma planuje uruchomienie nowej hali produkcyjnej, w której znajdzie się **n=6 maszyn**. Do każdej maszyny jest przypisany operator, który jest odpowiedzialny za jej obsługę oraz usuwanie awarii. Na podstawie pomiarów historycznych wiadomo, że **czas bezawaryjnej pracy maszyny ma rozkład wykładniczy ze średnią 75 minut**. W przypadku wystąpienia awarii operator dzwoni do warsztatu z prośbą o dostarczenie pakietu narzędzi naprawczych. Pakiet narzędzi jest bardzo ciężki i w związku z tym musi być transportowany za pomocą przenośnika taśmowego (taśmociągu). **Czas transportu zestawu narzędzi do maszyny wynosi *ti*, i=1..6. Czas naprawy jest zmienną losową z rozkładu Erlanga k=3 i średnio wynosi 15 minut**. Po ukończeniu naprawy narzędzia są powtórnie umieszczane na taśmociągu i wracają w komplecie do warsztatu celem ich uzupełnienia. Ze względu na specyfikę specjalistycznych narzędzi nie jest możliwe dokonywanie kolejnych napraw przed powrotem narzędzi do warsztatu. Ze względu na bardzo wysoką cenę jednego pakietu narzędzi naprawczych ich liczba ***m* jest mniejsza od liczby maszyn w hali produkcyjnej**. Gdy w danej chwili pakiet narzędzi nie jest dostępny operator czeka aż inny pakiet wróci do warsztatu i zostanie mu wysłany.\n",
    "\n",
    "Zarząd firmy GWINTEX zastanawia się **jakie powinno być rozmieszczenie urządzeń na hali produkcyjnej** oraz **ile pakietów narzędziowych do obsługi maszyn należy zakupić**. Rozważane są dwie organizacje hali produkcyjnej – układ liniowy oraz układ gniazdowy. **W układzie liniowym czas transportu narzędzi z warsztatu do maszyny wynosi ***ti=i*2***, natomiast **w układzie gniazdowym czas ten jest stały i wynosi 3 minuty**. Czas transportu narzędzi do warsztatu jest taki sam jak czas transportu do maszyny. Wprowadzenie układu gniazdowego wiąże się z wyższymi kosztami instalacyjnymi związanymi z uruchomieniem sześciu niezależnych taśmociągów.\n",
    "\n",
    "\n",
    "\n",
    "\n",
    "## ROZWIĄZANIE\n",
    "\n",
    "*author: P*\n",
    "\n",
    "### 1. Stałe i zmienne wykorzystane w modelu"
   ]
  },
  {
   "cell_type": "code",
   "execution_count": 20,
   "metadata": {},
   "outputs": [],
   "source": [
    "import numpy as np\n",
    "import pandas as pd\n",
    "import matplotlib.pyplot as plt\n",
    "\n",
    "%matplotlib inline"
   ]
  },
  {
   "cell_type": "code",
   "execution_count": 31,
   "metadata": {},
   "outputs": [],
   "source": [
    "# liczba maszyn\n",
    "n = 6 \n",
    "\n",
    "# średni czas pracy bez usterki\n",
    "avg_working_time = 75 # minut\n",
    "\n",
    "# średni czas naprawy\n",
    "avg_repair_time = 15 # minut\n",
    "\n",
    "# ilość zestawów narzędzi\n",
    "m = 2\n",
    "\n",
    "# horyzont analizy\n",
    "horizon = 30 # dni\n",
    "\n",
    "# liczba uruchomień symulacji\n",
    "iterations = 1000   "
   ]
  },
  {
   "cell_type": "code",
   "execution_count": 29,
   "metadata": {},
   "outputs": [],
   "source": [
    "# Toolset transport times for all considered setups - this should facilitate easier handling of new\n",
    "# setups\n",
    "transport_times = {'L': {i:2*(i+1) for i in range(6)}, 'G': {i:3 for i in range(6)},\n",
    "                   'L2': {0:6, 1:4, 2:2, 3:2, 4:4, 5:6}}"
   ]
  },
  {
   "cell_type": "markdown",
   "metadata": {},
   "source": [
    "### 2. Model\n",
    "\n",
    "Wektory, które mają za zadanie kontrolować stan symulacji:\n",
    "\n",
    "- momenty wystąpienia kolejnych zdarzeń\n",
    "- status narzędzi i maszyn \n",
    "    - `W` - pracuje \n",
    "    - `Q` - czeka na narzedzia \n",
    "    - `R` - jest naprawiona\n",
    "- czas ich bezczynności\n",
    "- events --> wektor zdarzeń, które zmieniają stan symulacji (np. zepsucie się maszyny, czas naprawy, itp.)"
   ]
  },
  {
   "cell_type": "code",
   "execution_count": 5,
   "metadata": {
    "scrolled": true
   },
   "outputs": [],
   "source": [
    "def model(horizon, avg_working_time, avg_repair_time, n, m, setup):\n",
    "    # setup - układ liniowy \"L\" lub gniazdowy \"G\"\n",
    "    \n",
    "    # horyzont działania w minutach\n",
    "    horizon = horizon * 24 * 60 \n",
    "    \n",
    "    # wektor zdarzeń, który zmienia stan symulacji\n",
    "    events = list(np.random.exponential(avg_working_time, n))\n",
    "    \n",
    "    # status - określa aktualny stan maszyny \n",
    "    status = [\"W\"] * n\n",
    "\n",
    "    # t_start - określa początek bezczynności maszyny\n",
    "    t_start = [0] * n\n",
    "\n",
    "    # t_cum - skumulowany czas bezczynności maszyny\n",
    "    t_cum = [0] * n\n",
    "\n",
    "    # tools_loc lokalizacja narzedzi - albo numer maszyny albo -1 czyli warsztat\n",
    "    tools_loc = [-1] * m\n",
    "\n",
    "    # tools_occupied czas zajecia zestawu przez naprawianą maszynę\n",
    "    tools_occupied = [0] * m\n",
    "    \n",
    "    # zegar symulacji- najblizsze zadanie, które ma być wykonane\n",
    "    t = min(events)\n",
    "    \n",
    "    # rozpoczynamy symulacje \"skacząc\" po kolejnych zdarzeniach  \n",
    "    while t <= horizon:\n",
    "        \n",
    "        # jeżeli zestawy nie są aktualnie zajęte to przenosimy je z powrotem do warsztatu\n",
    "        for i in range(m):\n",
    "            if tools_occupied[i] <= t:\n",
    "                tools_loc[i] = -1\n",
    "\n",
    "        # wybieramy maszynę, której dotyczy zdarzenie\n",
    "        machine = events.index(t)\n",
    "        \n",
    "        \"\"\"\n",
    "        Gdy maszyna, której dotyczy zdarzenie ma status \"W\":\n",
    "            - to najpierw zaktualizuj wektor t_start dla tej maszyny jako początek jej bezczynności = t.\n",
    "            - następnie sprawdź czy dostępny jest jakiś zestaw naprawczy. Jezeli nie:\n",
    "                - to ustaw status maszyny na \"Q\" \n",
    "                - zaktualizuj wektor events podajac mu najkrótszy czas oczekiwania na wolny zestaw.\n",
    "              Jeżeli tak:\n",
    "                - ustaw status maszyny na \"R\"\n",
    "                - wyznacz czas  potrzebny na naprawę maszyny w zależności od ukladu taśmociągu \n",
    "                (czas transportu + czas naprawy)\n",
    "                - ustaw koniec naprawy jako zdarzenie dla danej maszyny\n",
    "                - zaktualizuj wektor tools_loc dla odpowiedniego zestawu podając numer maszyny, którą on obsługuje\n",
    "                - zaktualizuj wektor tools_occupied czasem jaki mu to zajmie (2* transport + naprawa)\n",
    "        \"\"\"\n",
    "        if status[machine] == \"W\":\n",
    "            t_start[machine] = t\n",
    "            tools = - 1\n",
    "            for i in range(m):\n",
    "                if tools_loc[i] == -1:\n",
    "                    tools = i\n",
    "                    break\n",
    "            if tools == -1 :\n",
    "                status[machine] = \"Q\"\n",
    "                events[machine] = min(tools_occupied)\n",
    "            else:\n",
    "                status[machine] = \"R\"\n",
    "                transport_time = transport_times[setup][machine]\n",
    "                repair_time = np.random.gamma(3, avg_repair_time/3)\n",
    "                events[machine] += repair_time + transport_time\n",
    "                tools_loc[tools] = machine\n",
    "                tools_occupied[tools] += repair_time + 2 * transport_time\n",
    "                \n",
    "                \"\"\"\n",
    "                Gdy maszyna ma status \"Q\":\n",
    "                    - wybierz dostępny zestaw naprawczy\n",
    "                    - ustal status maszyny na \"R\"\n",
    "                    - zaktualizuj wektor tools_loc lokalizacją narzedzi i tools_occupied \n",
    "                    czasem jaki zajmie ich transport (w dwie strony) i naprawa maszyny\n",
    "                    -zaktualizuj wektor zdarzeń czasem potrzebnym na naprawę maszyny i transport narzedzi\n",
    "                \"\"\"\n",
    "                \n",
    "        elif status[machine] == \"Q\":\n",
    "            for i in range(m):\n",
    "                if tools_loc[i] == -1:\n",
    "                    tools = i\n",
    "                    break\n",
    "            status[machine] = \"R\"\n",
    "            transport_time = transport_times[setup][machine]\n",
    "            repair_time = np.random.gamma(3, avg_repair_time/3)\n",
    "            events[machine] += repair_time + transport_time\n",
    "            tools_loc[tools] = machine\n",
    "            tools_occupied[tools] += repair_time + 2 * transport_time \n",
    "            \"\"\"\n",
    "            Gdy maszyna ma status \"R\":\n",
    "                - ustal jej status na \"W\"\n",
    "                - wyznacz czas kolejnej awarii i zaktualizuj wektor events\n",
    "                - wylicz czas bezczynnosci i uzupelnij o niego liste t_cum\n",
    "            \"\"\"\n",
    "            \n",
    "        else:\n",
    "            status[machine] = \"W\"\n",
    "            events[machine] += np.random.exponential(avg_working_time)\n",
    "            t_cum[machine] += t - t_start[machine]\n",
    "        \n",
    "        # ustalamy nowe t\n",
    "        t = min(events)\n",
    "        \n",
    "    # wynik - liste skumulowanych bezczynnosci dla kazdej z maszyn\n",
    "    return (t_cum)"
   ]
  },
  {
   "cell_type": "markdown",
   "metadata": {},
   "source": [
    "### 3. Funkcja do uruchomienia symulacji"
   ]
  },
  {
   "cell_type": "markdown",
   "metadata": {},
   "source": [
    "Added seed to provide reproducibility of results"
   ]
  },
  {
   "cell_type": "code",
   "execution_count": 6,
   "metadata": {},
   "outputs": [],
   "source": [
    "def run_model (iterations, horizon, avg_working_time, avg_repair_time, n, m, setup):\n",
    "    avg_t_cum = []\n",
    "    for i in range (iterations):\n",
    "        np.random.seed(i)\n",
    "        avg_t_cum.append(model( horizon, avg_working_time, avg_repair_time, n, m, setup))\n",
    "    return list(map(np.mean, np.transpose(avg_t_cum)))\n"
   ]
  },
  {
   "cell_type": "markdown",
   "metadata": {},
   "source": [
    "### 3. Symulacja"
   ]
  },
  {
   "cell_type": "code",
   "execution_count": 93,
   "metadata": {
    "scrolled": true
   },
   "outputs": [
    {
     "data": {
      "text/plain": [
       "[8001.949217385863,\n",
       " 8796.153309349273,\n",
       " 9429.426298458107,\n",
       " 10122.496238521537,\n",
       " 10858.20038289117,\n",
       " 11468.16735891064]"
      ]
     },
     "execution_count": 93,
     "metadata": {},
     "output_type": "execute_result"
    }
   ],
   "source": [
    "run_model(iterations, horizon, avg_working_time, avg_repair_time, n, m, \"L\")"
   ]
  },
  {
   "cell_type": "code",
   "execution_count": 8,
   "metadata": {
    "scrolled": true
   },
   "outputs": [
    {
     "data": {
      "text/plain": [
       "[7963.7787671263422,\n",
       " 8726.912115948162,\n",
       " 9451.1463341973431,\n",
       " 10127.195944205723,\n",
       " 10778.285911584057,\n",
       " 11453.647507362011]"
      ]
     },
     "execution_count": 8,
     "metadata": {},
     "output_type": "execute_result"
    }
   ],
   "source": [
    "run_model(iterations, horizon, avg_working_time, avg_repair_time, n, m, \"L\")"
   ]
  },
  {
   "cell_type": "code",
   "execution_count": 18,
   "metadata": {
    "scrolled": true
   },
   "outputs": [
    {
     "data": {
      "text/plain": [
       "[8313.5019853223403,\n",
       " 8287.4807087069039,\n",
       " 8525.7107725203095,\n",
       " 8654.0727393056532,\n",
       " 8425.2484168141636,\n",
       " 8483.1339937925459]"
      ]
     },
     "execution_count": 18,
     "metadata": {},
     "output_type": "execute_result"
    }
   ],
   "source": [
    "run_model(iterations, horizon, avg_working_time, avg_repair_time, n, m, \"G\")"
   ]
  },
  {
   "cell_type": "code",
   "execution_count": 21,
   "metadata": {
    "scrolled": true
   },
   "outputs": [
    {
     "data": {
      "text/plain": [
       "[9425.0862005853669,\n",
       " 8776.1980700145123,\n",
       " 8018.6077757133562,\n",
       " 8340.5776848787864,\n",
       " 8561.0899056974868,\n",
       " 9440.1565673060777]"
      ]
     },
     "execution_count": 21,
     "metadata": {},
     "output_type": "execute_result"
    }
   ],
   "source": [
    "run_model(iterations, horizon, avg_working_time, avg_repair_time, n, m, \"L2\")"
   ]
  },
  {
   "cell_type": "markdown",
   "metadata": {},
   "source": [
    "### 4. Simplest comparison"
   ]
  },
  {
   "cell_type": "code",
   "execution_count": 12,
   "metadata": {},
   "outputs": [],
   "source": [
    "import time"
   ]
  },
  {
   "cell_type": "code",
   "execution_count": 13,
   "metadata": {
    "collapsed": true
   },
   "outputs": [
    {
     "ename": "KeyboardInterrupt",
     "evalue": "",
     "output_type": "error",
     "traceback": [
      "\u001b[1;31m---------------------------------------------------------------------------\u001b[0m",
      "\u001b[1;31mKeyboardInterrupt\u001b[0m                         Traceback (most recent call last)",
      "\u001b[1;32m<ipython-input-13-e01d3ee6ef54>\u001b[0m in \u001b[0;36m<module>\u001b[1;34m\u001b[0m\n\u001b[0;32m      3\u001b[0m \u001b[1;32mfor\u001b[0m \u001b[0msetup\u001b[0m \u001b[1;32min\u001b[0m \u001b[1;33m[\u001b[0m\u001b[1;34m'L'\u001b[0m\u001b[1;33m,\u001b[0m \u001b[1;34m'G'\u001b[0m\u001b[1;33m,\u001b[0m \u001b[1;34m'L2'\u001b[0m\u001b[1;33m]\u001b[0m\u001b[1;33m:\u001b[0m\u001b[1;33m\u001b[0m\u001b[1;33m\u001b[0m\u001b[0m\n\u001b[0;32m      4\u001b[0m     \u001b[1;32mfor\u001b[0m \u001b[0mm\u001b[0m \u001b[1;32min\u001b[0m \u001b[0mrange\u001b[0m\u001b[1;33m(\u001b[0m\u001b[1;36m5\u001b[0m\u001b[1;33m)\u001b[0m\u001b[1;33m:\u001b[0m\u001b[1;33m\u001b[0m\u001b[1;33m\u001b[0m\u001b[0m\n\u001b[1;32m----> 5\u001b[1;33m         \u001b[0mresults\u001b[0m\u001b[1;33m[\u001b[0m\u001b[1;33m(\u001b[0m\u001b[0msetup\u001b[0m\u001b[1;33m,\u001b[0m \u001b[0mm\u001b[0m\u001b[1;33m+\u001b[0m\u001b[1;36m1\u001b[0m\u001b[1;33m)\u001b[0m\u001b[1;33m]\u001b[0m \u001b[1;33m=\u001b[0m \u001b[0mrun_model\u001b[0m\u001b[1;33m(\u001b[0m\u001b[0miterations\u001b[0m\u001b[1;33m,\u001b[0m \u001b[0mhorizon\u001b[0m\u001b[1;33m,\u001b[0m \u001b[0mavg_working_time\u001b[0m\u001b[1;33m,\u001b[0m \u001b[0mavg_repair_time\u001b[0m\u001b[1;33m,\u001b[0m \u001b[0mn\u001b[0m\u001b[1;33m,\u001b[0m \u001b[0mm\u001b[0m\u001b[1;33m+\u001b[0m\u001b[1;36m1\u001b[0m\u001b[1;33m,\u001b[0m \u001b[0msetup\u001b[0m\u001b[1;33m)\u001b[0m\u001b[1;33m\u001b[0m\u001b[1;33m\u001b[0m\u001b[0m\n\u001b[0m\u001b[0;32m      6\u001b[0m \u001b[0mprint\u001b[0m\u001b[1;33m(\u001b[0m\u001b[1;34m'Entire simulation duration time: {:.1f}s'\u001b[0m\u001b[1;33m.\u001b[0m\u001b[0mformat\u001b[0m\u001b[1;33m(\u001b[0m\u001b[0mtime\u001b[0m\u001b[1;33m.\u001b[0m\u001b[0mclock\u001b[0m\u001b[1;33m(\u001b[0m\u001b[1;33m)\u001b[0m \u001b[1;33m-\u001b[0m \u001b[0mt0\u001b[0m\u001b[1;33m)\u001b[0m\u001b[1;33m)\u001b[0m\u001b[1;33m\u001b[0m\u001b[1;33m\u001b[0m\u001b[0m\n",
      "\u001b[1;32m<ipython-input-6-f18fe116bce9>\u001b[0m in \u001b[0;36mrun_model\u001b[1;34m(iterations, horizon, avg_working_time, avg_repair_time, n, m, setup)\u001b[0m\n\u001b[0;32m      3\u001b[0m     \u001b[1;32mfor\u001b[0m \u001b[0mi\u001b[0m \u001b[1;32min\u001b[0m \u001b[0mrange\u001b[0m \u001b[1;33m(\u001b[0m\u001b[0miterations\u001b[0m\u001b[1;33m)\u001b[0m\u001b[1;33m:\u001b[0m\u001b[1;33m\u001b[0m\u001b[1;33m\u001b[0m\u001b[0m\n\u001b[0;32m      4\u001b[0m         \u001b[0mnp\u001b[0m\u001b[1;33m.\u001b[0m\u001b[0mrandom\u001b[0m\u001b[1;33m.\u001b[0m\u001b[0mseed\u001b[0m\u001b[1;33m(\u001b[0m\u001b[0mi\u001b[0m\u001b[1;33m)\u001b[0m\u001b[1;33m\u001b[0m\u001b[1;33m\u001b[0m\u001b[0m\n\u001b[1;32m----> 5\u001b[1;33m         \u001b[0mavg_t_cum\u001b[0m\u001b[1;33m.\u001b[0m\u001b[0mappend\u001b[0m\u001b[1;33m(\u001b[0m\u001b[0mmodel\u001b[0m\u001b[1;33m(\u001b[0m \u001b[0mhorizon\u001b[0m\u001b[1;33m,\u001b[0m \u001b[0mavg_working_time\u001b[0m\u001b[1;33m,\u001b[0m \u001b[0mavg_repair_time\u001b[0m\u001b[1;33m,\u001b[0m \u001b[0mn\u001b[0m\u001b[1;33m,\u001b[0m \u001b[0mm\u001b[0m\u001b[1;33m,\u001b[0m \u001b[0msetup\u001b[0m\u001b[1;33m)\u001b[0m\u001b[1;33m)\u001b[0m\u001b[1;33m\u001b[0m\u001b[1;33m\u001b[0m\u001b[0m\n\u001b[0m\u001b[0;32m      6\u001b[0m     \u001b[1;32mreturn\u001b[0m \u001b[0mlist\u001b[0m\u001b[1;33m(\u001b[0m\u001b[0mmap\u001b[0m\u001b[1;33m(\u001b[0m\u001b[0mnp\u001b[0m\u001b[1;33m.\u001b[0m\u001b[0mmean\u001b[0m\u001b[1;33m,\u001b[0m \u001b[0mnp\u001b[0m\u001b[1;33m.\u001b[0m\u001b[0mtranspose\u001b[0m\u001b[1;33m(\u001b[0m\u001b[0mavg_t_cum\u001b[0m\u001b[1;33m)\u001b[0m\u001b[1;33m)\u001b[0m\u001b[1;33m)\u001b[0m\u001b[1;33m\u001b[0m\u001b[1;33m\u001b[0m\u001b[0m\n",
      "\u001b[1;32m<ipython-input-5-625e638bf57e>\u001b[0m in \u001b[0;36mmodel\u001b[1;34m(horizon, avg_working_time, avg_repair_time, n, m, setup)\u001b[0m\n\u001b[0;32m     98\u001b[0m         \u001b[1;32melse\u001b[0m\u001b[1;33m:\u001b[0m\u001b[1;33m\u001b[0m\u001b[1;33m\u001b[0m\u001b[0m\n\u001b[0;32m     99\u001b[0m             \u001b[0mstatus\u001b[0m\u001b[1;33m[\u001b[0m\u001b[0mmachine\u001b[0m\u001b[1;33m]\u001b[0m \u001b[1;33m=\u001b[0m \u001b[1;34m\"W\"\u001b[0m\u001b[1;33m\u001b[0m\u001b[1;33m\u001b[0m\u001b[0m\n\u001b[1;32m--> 100\u001b[1;33m             \u001b[0mevents\u001b[0m\u001b[1;33m[\u001b[0m\u001b[0mmachine\u001b[0m\u001b[1;33m]\u001b[0m \u001b[1;33m+=\u001b[0m \u001b[0mnp\u001b[0m\u001b[1;33m.\u001b[0m\u001b[0mrandom\u001b[0m\u001b[1;33m.\u001b[0m\u001b[0mexponential\u001b[0m\u001b[1;33m(\u001b[0m\u001b[0mavg_working_time\u001b[0m\u001b[1;33m)\u001b[0m\u001b[1;33m\u001b[0m\u001b[1;33m\u001b[0m\u001b[0m\n\u001b[0m\u001b[0;32m    101\u001b[0m             \u001b[0mt_cum\u001b[0m\u001b[1;33m[\u001b[0m\u001b[0mmachine\u001b[0m\u001b[1;33m]\u001b[0m \u001b[1;33m+=\u001b[0m \u001b[0mt\u001b[0m \u001b[1;33m-\u001b[0m \u001b[0mt_start\u001b[0m\u001b[1;33m[\u001b[0m\u001b[0mmachine\u001b[0m\u001b[1;33m]\u001b[0m\u001b[1;33m\u001b[0m\u001b[1;33m\u001b[0m\u001b[0m\n\u001b[0;32m    102\u001b[0m \u001b[1;33m\u001b[0m\u001b[0m\n",
      "\u001b[1;31mKeyboardInterrupt\u001b[0m: "
     ]
    }
   ],
   "source": [
    "t0 = time.clock()\n",
    "results = {}\n",
    "for setup in ['L', 'G', 'L2']:\n",
    "    for m in range(5):\n",
    "        results[(setup, m+1)] = run_model(iterations, horizon, avg_working_time, avg_repair_time, n, m+1, setup)\n",
    "print('Entire simulation duration time: {:.1f}s'.format(time.clock() - t0))"
   ]
  },
  {
   "cell_type": "code",
   "execution_count": 13,
   "metadata": {},
   "outputs": [],
   "source": [
    "df = pd.DataFrame.from_dict(results).T"
   ]
  },
  {
   "cell_type": "code",
   "execution_count": 15,
   "metadata": {},
   "outputs": [
    {
     "data": {
      "text/plain": [
       "<matplotlib.axes._subplots.AxesSubplot at 0x1c0c15f5c88>"
      ]
     },
     "execution_count": 15,
     "metadata": {},
     "output_type": "execute_result"
    },
    {
     "data": {
      "image/png": "[encoded data removed]",
      "text/plain": [
       "<matplotlib.figure.Figure at 0x1c0c1690d68>"
      ]
     },
     "metadata": {
      "needs_background": "light"
     },
     "output_type": "display_data"
    }
   ],
   "source": [
    "df.loc[('G', slice(None)),:].plot()"
   ]
  },
  {
   "cell_type": "code",
   "execution_count": 16,
   "metadata": {},
   "outputs": [
    {
     "data": {
      "text/plain": [
       "<matplotlib.axes._subplots.AxesSubplot at 0x1c0c15093c8>"
      ]
     },
     "execution_count": 16,
     "metadata": {},
     "output_type": "execute_result"
    },
    {
     "data": {
      "image/png": "[encoded data removed]",
      "text/plain": [
       "<matplotlib.figure.Figure at 0x1c0c15f51d0>"
      ]
     },
     "metadata": {
      "needs_background": "light"
     },
     "output_type": "display_data"
    }
   ],
   "source": [
    "df.loc[('L', slice(None)),:].plot()"
   ]
  },
  {
   "cell_type": "code",
   "execution_count": 17,
   "metadata": {},
   "outputs": [
    {
     "data": {
      "text/plain": [
       "<matplotlib.axes._subplots.AxesSubplot at 0x1c0c0e24da0>"
      ]
     },
     "execution_count": 17,
     "metadata": {},
     "output_type": "execute_result"
    },
    {
     "data": {
      "image/png": "[encoded data removed]",
      "text/plain": [
       "<matplotlib.figure.Figure at 0x1c0c181f1d0>"
      ]
     },
     "metadata": {
      "needs_background": "light"
     },
     "output_type": "display_data"
    }
   ],
   "source": [
    "df.loc[('L2', slice(None)),:].plot()"
   ]
  },
  {
   "cell_type": "markdown",
   "metadata": {},
   "source": [
    "Interestingly, either the simulation code contains some mistakes or buying more than 2 toolkits doesn't materially improve the efficiency."
   ]
  },
  {
   "cell_type": "code",
   "execution_count": 19,
   "metadata": {},
   "outputs": [],
   "source": [
    "df2 = df.mean(axis=1).unstack()"
   ]
  },
  {
   "cell_type": "markdown",
   "metadata": {},
   "source": [
    "Basing on the table above we can approximate various intervals of machine downtime cost at which each solution would be optimal"
   ]
  },
  {
   "cell_type": "code",
   "execution_count": 20,
   "metadata": {},
   "outputs": [
    {
     "data": {
      "text/html": [
       "<div>\n",
       "<style>\n",
       "    .dataframe thead tr:only-child th {\n",
       "        text-align: right;\n",
       "    }\n",
       "\n",
       "    .dataframe thead th {\n",
       "        text-align: left;\n",
       "    }\n",
       "\n",
       "    .dataframe tbody tr th {\n",
       "        vertical-align: top;\n",
       "    }\n",
       "</style>\n",
       "<table border=\"1\" class=\"dataframe\">\n",
       "  <thead>\n",
       "    <tr style=\"text-align: right;\">\n",
       "      <th></th>\n",
       "      <th>1</th>\n",
       "      <th>2</th>\n",
       "      <th>3</th>\n",
       "      <th>4</th>\n",
       "      <th>5</th>\n",
       "    </tr>\n",
       "  </thead>\n",
       "  <tbody>\n",
       "    <tr>\n",
       "      <th>G</th>\n",
       "      <td>17464.526793</td>\n",
       "      <td>8360.691080</td>\n",
       "      <td>8357.604714</td>\n",
       "      <td>8357.481145</td>\n",
       "      <td>8357.481145</td>\n",
       "    </tr>\n",
       "    <tr>\n",
       "      <th>L</th>\n",
       "      <td>24467.989674</td>\n",
       "      <td>9770.147599</td>\n",
       "      <td>9757.190036</td>\n",
       "      <td>9757.330314</td>\n",
       "      <td>9757.089707</td>\n",
       "    </tr>\n",
       "    <tr>\n",
       "      <th>L2</th>\n",
       "      <td>19641.057846</td>\n",
       "      <td>8724.301445</td>\n",
       "      <td>8721.910920</td>\n",
       "      <td>8721.458366</td>\n",
       "      <td>8722.070405</td>\n",
       "    </tr>\n",
       "  </tbody>\n",
       "</table>\n",
       "</div>"
      ],
      "text/plain": [
       "               1            2            3            4            5\n",
       "G   17464.526793  8360.691080  8357.604714  8357.481145  8357.481145\n",
       "L   24467.989674  9770.147599  9757.190036  9757.330314  9757.089707\n",
       "L2  19641.057846  8724.301445  8721.910920  8721.458366  8722.070405"
      ]
     },
     "execution_count": 20,
     "metadata": {},
     "output_type": "execute_result"
    }
   ],
   "source": [
    "df2 "
   ]
  },
  {
   "cell_type": "code",
   "execution_count": 23,
   "metadata": {},
   "outputs": [
    {
     "data": {
      "text/plain": [
       "1    0.802725\n",
       "2    0.892955\n",
       "3    0.893896\n",
       "4    0.893837\n",
       "5    0.893921\n",
       "dtype: float64"
      ]
     },
     "execution_count": 23,
     "metadata": {},
     "output_type": "execute_result"
    }
   ],
   "source": [
    "df2.loc[\"L2\",:] / df2.loc['L',:]"
   ]
  },
  {
   "cell_type": "markdown",
   "metadata": {},
   "source": [
    "First observation is that for the initial parametrization, the proposed rearrangement of the linear setup provides at least 10% less machine downtime on average."
   ]
  },
  {
   "cell_type": "code",
   "execution_count": 29,
   "metadata": {},
   "outputs": [
    {
     "data": {
      "text/plain": [
       "array([[ 0.47872417,  0.99963085,  0.99998521,  1.        ],\n",
       "       [ 0.39930324,  0.99867376,  1.00001438,  0.99997534],\n",
       "       [ 0.44418694,  0.99972599,  0.99994811,  1.00007018]])"
      ]
     },
     "execution_count": 29,
     "metadata": {},
     "output_type": "execute_result"
    }
   ],
   "source": [
    "df2.loc[:,2:5].values / df2.loc[:,1:4].values"
   ]
  },
  {
   "cell_type": "markdown",
   "metadata": {},
   "source": [
    "The table above shows that while buying a second toolkit reduces machine downtime by more than 50%, purchasing more toolkits has almost no impact on total downtime. This will be most likely dependent on average time between failures as well as average repair time - do we want to analyse this relationship?"
   ]
  },
  {
   "cell_type": "code",
   "execution_count": 39,
   "metadata": {},
   "outputs": [
    {
     "data": {
      "text/plain": [
       "array([ 151.73059523,  244.96403459,  181.94594001])"
      ]
     },
     "execution_count": 39,
     "metadata": {},
     "output_type": "execute_result"
    }
   ],
   "source": [
    "(df2.loc[:,1].values - df2.loc[:,2].values) / 60"
   ]
  },
  {
   "cell_type": "code",
   "execution_count": 41,
   "metadata": {},
   "outputs": [
    {
     "data": {
      "text/plain": [
       "array([ 23.49094198,   6.06017276])"
      ]
     },
     "execution_count": 41,
     "metadata": {},
     "output_type": "execute_result"
    }
   ],
   "source": [
    "(df2.loc['L':'L2',2].values - df2.loc['G',2]) / 60"
   ]
  },
  {
   "cell_type": "markdown",
   "metadata": {},
   "source": [
    "<b>Key findings:</b>\n",
    "- In the current setting, a most-likely optimal scenario would be to purchase 2 toolkits.\n",
    "- Notably, buying a second toolkit is much more important than changing the setup from linear to spherical/radial (or whatever the proper English name would be). This pays off as long as the cost of a single toolkit is no higher than 245 hours of monthly downtime per machine (181 hours if the modified linear setup can be accommodated).\n",
    "- Any further improvement would require implementing radial setup instead of the linear one. This is reasonable when the extra cost of implementing this setup doesn't exceed the costs associated with an average of 23.5 hours of downtime per machine (6 if the modified linear setup is feasible).\n",
    "- Thus, if machine downtime costs is moderate, the recommended solution is to implement the modified linear setup and purchase 2 toolkits. Profits from any further investments will be negligible, unless the cost difference between the spherical and the linear setup is also small.</li>\n",
    "<br><b>TBA: sensitivity analysis (suggested variables: average time between failures, average repair time, perhaps variance of the repair time)</b>"
   ]
  },
  {
   "cell_type": "markdown",
   "metadata": {},
   "source": [
    "<b>Issues:</b>\n",
    "- Since df2.loc['G',4] == df2.loc['G',5] should we be worried about proper seed setting?"
   ]
  },
  {
   "cell_type": "markdown",
   "metadata": {},
   "source": [
    "<b>Data export</b><br>\n",
    "<i>So that it is not necessary to run the simulation over and over again to modify a few plots</i>"
   ]
  },
  {
   "cell_type": "code",
   "execution_count": 43,
   "metadata": {},
   "outputs": [],
   "source": [
    "df.to_hdf('results.hdf', key = 'full_results')\n",
    "df2.to_hdf('results.hdf', key = 'machine_means')"
   ]
  },
  {
   "cell_type": "code",
   "execution_count": 45,
   "metadata": {},
   "outputs": [
    {
     "name": "stdout",
     "output_type": "stream",
     "text": [
      "All DataFrames saved correctly\n"
     ]
    }
   ],
   "source": [
    "# Check\n",
    "if df.equals(pd.read_hdf('results.hdf', key = 'full_results')):\n",
    "    if df2.equals(pd.read_hdf('results.hdf', key = 'machine_means')):\n",
    "        print('All DataFrames saved correctly')\n",
    "    else:\n",
    "        print('df2 saved/read incorrectly')\n",
    "else: print('df saved/read incorrectly')"
   ]
  },
  {
   "cell_type": "markdown",
   "metadata": {},
   "source": [
    "### 5. Some more sensitivity analysis"
   ]
  },
  {
   "cell_type": "markdown",
   "metadata": {},
   "source": [
    "I assume we use 2 sets of toolkits in all setups"
   ]
  },
  {
   "cell_type": "code",
   "execution_count": 32,
   "metadata": {},
   "outputs": [
    {
     "name": "stdout",
     "output_type": "stream",
     "text": [
      "Entire simulation duration time: 44.8s\n"
     ]
    }
   ],
   "source": [
    "t0 = time.clock()\n",
    "results_rapair = {}\n",
    "for setup in ['L', 'G', 'L2']:\n",
    "    for rapair_improvement in range(5):\n",
    "        results_rapair[(setup, rapair_improvement)] = run_model(iterations, horizon, avg_working_time, avg_repair_time - rapair_improvement, n, m, setup)\n",
    "print('Entire simulation duration time: {:.1f}s'.format(time.clock() - t0))"
   ]
  },
  {
   "cell_type": "code",
   "execution_count": 39,
   "metadata": {},
   "outputs": [
    {
     "data": {
      "text/html": [
       "<div>\n",
       "<style scoped>\n",
       "    .dataframe tbody tr th:only-of-type {\n",
       "        vertical-align: middle;\n",
       "    }\n",
       "\n",
       "    .dataframe tbody tr th {\n",
       "        vertical-align: top;\n",
       "    }\n",
       "\n",
       "    .dataframe thead tr th {\n",
       "        text-align: left;\n",
       "    }\n",
       "</style>\n",
       "<table border=\"1\" class=\"dataframe\">\n",
       "  <thead>\n",
       "    <tr>\n",
       "      <th></th>\n",
       "      <th colspan=\"5\" halign=\"left\">L</th>\n",
       "      <th colspan=\"5\" halign=\"left\">G</th>\n",
       "      <th colspan=\"5\" halign=\"left\">L2</th>\n",
       "    </tr>\n",
       "    <tr>\n",
       "      <th></th>\n",
       "      <th>0</th>\n",
       "      <th>1</th>\n",
       "      <th>2</th>\n",
       "      <th>3</th>\n",
       "      <th>4</th>\n",
       "      <th>0</th>\n",
       "      <th>1</th>\n",
       "      <th>2</th>\n",
       "      <th>3</th>\n",
       "      <th>4</th>\n",
       "      <th>0</th>\n",
       "      <th>1</th>\n",
       "      <th>2</th>\n",
       "      <th>3</th>\n",
       "      <th>4</th>\n",
       "    </tr>\n",
       "  </thead>\n",
       "  <tbody>\n",
       "    <tr>\n",
       "      <th>0</th>\n",
       "      <td>8001.949217</td>\n",
       "      <td>7620.327564</td>\n",
       "      <td>7195.449715</td>\n",
       "      <td>6806.792362</td>\n",
       "      <td>6430.555044</td>\n",
       "      <td>8344.349189</td>\n",
       "      <td>8011.920374</td>\n",
       "      <td>7630.334579</td>\n",
       "      <td>7212.224833</td>\n",
       "      <td>6821.216144</td>\n",
       "      <td>9469.118198</td>\n",
       "      <td>9101.481141</td>\n",
       "      <td>8750.219322</td>\n",
       "      <td>8351.104410</td>\n",
       "      <td>7982.064575</td>\n",
       "    </tr>\n",
       "    <tr>\n",
       "      <th>1</th>\n",
       "      <td>8796.153309</td>\n",
       "      <td>8300.064339</td>\n",
       "      <td>8015.813954</td>\n",
       "      <td>7593.579572</td>\n",
       "      <td>7214.479585</td>\n",
       "      <td>8359.205767</td>\n",
       "      <td>7956.281637</td>\n",
       "      <td>7590.533819</td>\n",
       "      <td>7203.515048</td>\n",
       "      <td>6835.753428</td>\n",
       "      <td>8660.669214</td>\n",
       "      <td>8349.317548</td>\n",
       "      <td>7966.440246</td>\n",
       "      <td>7592.298523</td>\n",
       "      <td>7206.823592</td>\n",
       "    </tr>\n",
       "    <tr>\n",
       "      <th>2</th>\n",
       "      <td>9429.426298</td>\n",
       "      <td>9156.306441</td>\n",
       "      <td>8754.660856</td>\n",
       "      <td>8345.122279</td>\n",
       "      <td>8031.080129</td>\n",
       "      <td>8344.289224</td>\n",
       "      <td>8017.680442</td>\n",
       "      <td>7586.875301</td>\n",
       "      <td>7188.169512</td>\n",
       "      <td>6859.836096</td>\n",
       "      <td>7975.432277</td>\n",
       "      <td>7593.969298</td>\n",
       "      <td>7198.739616</td>\n",
       "      <td>6828.505158</td>\n",
       "      <td>6396.271592</td>\n",
       "    </tr>\n",
       "    <tr>\n",
       "      <th>3</th>\n",
       "      <td>10122.496239</td>\n",
       "      <td>9718.917226</td>\n",
       "      <td>9507.268559</td>\n",
       "      <td>9090.442683</td>\n",
       "      <td>8792.687025</td>\n",
       "      <td>8316.062734</td>\n",
       "      <td>7973.071988</td>\n",
       "      <td>7612.724946</td>\n",
       "      <td>7212.762418</td>\n",
       "      <td>6829.725947</td>\n",
       "      <td>8059.417747</td>\n",
       "      <td>7535.188244</td>\n",
       "      <td>7190.496495</td>\n",
       "      <td>6833.843631</td>\n",
       "      <td>6394.605233</td>\n",
       "    </tr>\n",
       "    <tr>\n",
       "      <th>4</th>\n",
       "      <td>10858.200383</td>\n",
       "      <td>10548.660268</td>\n",
       "      <td>10100.275201</td>\n",
       "      <td>9827.588052</td>\n",
       "      <td>9441.773686</td>\n",
       "      <td>8321.934945</td>\n",
       "      <td>7928.111189</td>\n",
       "      <td>7625.579735</td>\n",
       "      <td>7174.040950</td>\n",
       "      <td>6787.012171</td>\n",
       "      <td>8782.494430</td>\n",
       "      <td>8397.074366</td>\n",
       "      <td>8059.201949</td>\n",
       "      <td>7590.709673</td>\n",
       "      <td>7205.080759</td>\n",
       "    </tr>\n",
       "    <tr>\n",
       "      <th>5</th>\n",
       "      <td>11468.167359</td>\n",
       "      <td>11117.394016</td>\n",
       "      <td>10827.446973</td>\n",
       "      <td>10520.661282</td>\n",
       "      <td>10246.005135</td>\n",
       "      <td>8323.318135</td>\n",
       "      <td>7968.294927</td>\n",
       "      <td>7633.003826</td>\n",
       "      <td>7224.225296</td>\n",
       "      <td>6777.819732</td>\n",
       "      <td>9462.369773</td>\n",
       "      <td>9138.977207</td>\n",
       "      <td>8705.028204</td>\n",
       "      <td>8413.597858</td>\n",
       "      <td>7961.352013</td>\n",
       "    </tr>\n",
       "  </tbody>\n",
       "</table>\n",
       "</div>"
      ],
      "text/plain": [
       "              L                                                          \\\n",
       "              0             1             2             3             4   \n",
       "0   8001.949217   7620.327564   7195.449715   6806.792362   6430.555044   \n",
       "1   8796.153309   8300.064339   8015.813954   7593.579572   7214.479585   \n",
       "2   9429.426298   9156.306441   8754.660856   8345.122279   8031.080129   \n",
       "3  10122.496239   9718.917226   9507.268559   9090.442683   8792.687025   \n",
       "4  10858.200383  10548.660268  10100.275201   9827.588052   9441.773686   \n",
       "5  11468.167359  11117.394016  10827.446973  10520.661282  10246.005135   \n",
       "\n",
       "             G                                                      \\\n",
       "             0            1            2            3            4   \n",
       "0  8344.349189  8011.920374  7630.334579  7212.224833  6821.216144   \n",
       "1  8359.205767  7956.281637  7590.533819  7203.515048  6835.753428   \n",
       "2  8344.289224  8017.680442  7586.875301  7188.169512  6859.836096   \n",
       "3  8316.062734  7973.071988  7612.724946  7212.762418  6829.725947   \n",
       "4  8321.934945  7928.111189  7625.579735  7174.040950  6787.012171   \n",
       "5  8323.318135  7968.294927  7633.003826  7224.225296  6777.819732   \n",
       "\n",
       "            L2                                                      \n",
       "             0            1            2            3            4  \n",
       "0  9469.118198  9101.481141  8750.219322  8351.104410  7982.064575  \n",
       "1  8660.669214  8349.317548  7966.440246  7592.298523  7206.823592  \n",
       "2  7975.432277  7593.969298  7198.739616  6828.505158  6396.271592  \n",
       "3  8059.417747  7535.188244  7190.496495  6833.843631  6394.605233  \n",
       "4  8782.494430  8397.074366  8059.201949  7590.709673  7205.080759  \n",
       "5  9462.369773  9138.977207  8705.028204  8413.597858  7961.352013  "
      ]
     },
     "execution_count": 39,
     "metadata": {},
     "output_type": "execute_result"
    }
   ],
   "source": [
    "pd.DataFrame.from_dict(results_rapair)"
   ]
  },
  {
   "cell_type": "code",
   "execution_count": 33,
   "metadata": {},
   "outputs": [],
   "source": [
    "df_repair = pd.DataFrame.from_dict(results_rapair).T"
   ]
  },
  {
   "cell_type": "code",
   "execution_count": 34,
   "metadata": {},
   "outputs": [
    {
     "data": {
      "text/plain": [
       "<matplotlib.axes._subplots.AxesSubplot at 0x18df8746b00>"
      ]
     },
     "execution_count": 34,
     "metadata": {},
     "output_type": "execute_result"
    },
    {
     "data": {
      "image/png": "[encoded data removed]",
      "text/plain": [
       "<Figure size 432x288 with 1 Axes>"
      ]
     },
     "metadata": {
      "needs_background": "light"
     },
     "output_type": "display_data"
    }
   ],
   "source": [
    "df_repair.loc[('G', slice(None)),:].plot()"
   ]
  },
  {
   "cell_type": "markdown",
   "metadata": {},
   "source": [
    "Changes in cumulative time while reducing rapiar time by addisional minute"
   ]
  },
  {
   "cell_type": "code",
   "execution_count": 62,
   "metadata": {},
   "outputs": [
    {
     "data": {
      "text/plain": [
       "<matplotlib.axes._subplots.AxesSubplot at 0x18df9b5b0b8>"
      ]
     },
     "execution_count": 62,
     "metadata": {},
     "output_type": "execute_result"
    },
    {
     "data": {
      "image/png": "[encoded data removed]",
      "text/plain": [
       "<Figure size 432x288 with 1 Axes>"
      ]
     },
     "metadata": {
      "needs_background": "light"
     },
     "output_type": "display_data"
    }
   ],
   "source": [
    "pd.DataFrame(df_repair.loc['G'].iloc[1:,:].values - df_repair.loc['G'].iloc[:4,:].values).plot()"
   ]
  },
  {
   "cell_type": "code",
   "execution_count": 71,
   "metadata": {},
   "outputs": [
    {
     "data": {
      "text/plain": [
       "-6.31791421904489"
      ]
     },
     "execution_count": 71,
     "metadata": {},
     "output_type": "execute_result"
    }
   ],
   "source": [
    "np.mean(df_repair.loc['G'].iloc[1:,:].values - df_repair.loc['G'].iloc[:4,:].values)/60"
   ]
  },
  {
   "cell_type": "code",
   "execution_count": 35,
   "metadata": {},
   "outputs": [
    {
     "data": {
      "text/plain": [
       "<matplotlib.axes._subplots.AxesSubplot at 0x18df87f3b70>"
      ]
     },
     "execution_count": 35,
     "metadata": {},
     "output_type": "execute_result"
    },
    {
     "data": {
      "image/png": "[encoded data removed]",
      "text/plain": [
       "<Figure size 432x288 with 1 Axes>"
      ]
     },
     "metadata": {
      "needs_background": "light"
     },
     "output_type": "display_data"
    }
   ],
   "source": [
    "df_repair.loc[('L', slice(None)),:].plot()"
   ]
  },
  {
   "cell_type": "markdown",
   "metadata": {},
   "source": [
    "Marginal changes"
   ]
  },
  {
   "cell_type": "code",
   "execution_count": 63,
   "metadata": {},
   "outputs": [
    {
     "data": {
      "text/plain": [
       "<matplotlib.axes._subplots.AxesSubplot at 0x18df9c5de48>"
      ]
     },
     "execution_count": 63,
     "metadata": {},
     "output_type": "execute_result"
    },
    {
     "data": {
      "image/png": "[encoded data removed]",
      "text/plain": [
       "<Figure size 432x288 with 1 Axes>"
      ]
     },
     "metadata": {
      "needs_background": "light"
     },
     "output_type": "display_data"
    }
   ],
   "source": [
    "pd.DataFrame(df_repair.loc['L'].iloc[1:,:].values - df_repair.loc['L'].iloc[:4,:].values).plot()"
   ]
  },
  {
   "cell_type": "code",
   "execution_count": 70,
   "metadata": {},
   "outputs": [
    {
     "data": {
      "text/plain": [
       "-5.916536250525178"
      ]
     },
     "execution_count": 70,
     "metadata": {},
     "output_type": "execute_result"
    }
   ],
   "source": [
    "np.mean(df_repair.loc['L'].iloc[1:,:].values - df_repair.loc['L'].iloc[:4,:].values)/60"
   ]
  },
  {
   "cell_type": "code",
   "execution_count": 36,
   "metadata": {},
   "outputs": [
    {
     "data": {
      "text/plain": [
       "<matplotlib.axes._subplots.AxesSubplot at 0x18de5339898>"
      ]
     },
     "execution_count": 36,
     "metadata": {},
     "output_type": "execute_result"
    },
    {
     "data": {
      "image/png": "[encoded data removed]",
      "text/plain": [
       "<Figure size 432x288 with 1 Axes>"
      ]
     },
     "metadata": {
      "needs_background": "light"
     },
     "output_type": "display_data"
    }
   ],
   "source": [
    "df_repair.loc[('L2', slice(None)),:].plot()"
   ]
  },
  {
   "cell_type": "markdown",
   "metadata": {},
   "source": [
    "Marginal changes"
   ]
  },
  {
   "cell_type": "code",
   "execution_count": 64,
   "metadata": {},
   "outputs": [
    {
     "data": {
      "text/plain": [
       "<matplotlib.axes._subplots.AxesSubplot at 0x18df9ce6160>"
      ]
     },
     "execution_count": 64,
     "metadata": {},
     "output_type": "execute_result"
    },
    {
     "data": {
      "image/png": "[encoded data removed]",
      "text/plain": [
       "<Figure size 432x288 with 1 Axes>"
      ]
     },
     "metadata": {
      "needs_background": "light"
     },
     "output_type": "display_data"
    }
   ],
   "source": [
    "pd.DataFrame(df_repair.loc['L2'].iloc[1:,:].values - df_repair.loc['L2'].iloc[:4,:].values).plot()"
   ]
  },
  {
   "cell_type": "code",
   "execution_count": 69,
   "metadata": {},
   "outputs": [
    {
     "data": {
      "text/plain": [
       "-6.432849912349217"
      ]
     },
     "execution_count": 69,
     "metadata": {},
     "output_type": "execute_result"
    }
   ],
   "source": [
    "np.mean(df_repair.loc['L2'].iloc[1:,:].values - df_repair.loc['L2'].iloc[:4,:].values)/60"
   ]
  },
  {
   "cell_type": "markdown",
   "metadata": {},
   "source": [
    "It's worth considering extra trainings for workers to make process of repairs faster. As long as it costs of training of one worker to reduce time of repair by 1 minut aren't higher than cost of about 6,4 hours for \"L2\", 6,3 for \"G and 5,9 for \"L\" it's worth investing as the profits from time reduction seems to be linear"
   ]
  },
  {
   "cell_type": "code",
   "execution_count": 72,
   "metadata": {},
   "outputs": [],
   "source": [
    "# saving results\n",
    "df_repair.to_hdf('results_repiar.hdf', key = 'full_results')"
   ]
  },
  {
   "cell_type": "code",
   "execution_count": 75,
   "metadata": {},
   "outputs": [
    {
     "name": "stdout",
     "output_type": "stream",
     "text": [
      "All DataFrames saved correctly\n"
     ]
    }
   ],
   "source": [
    "# Check\n",
    "if df_repair.equals(pd.read_hdf('results_repiar.hdf', key = 'full_results')):\n",
    "    print('All DataFrames saved correctly')\n",
    "else: \n",
    "    print('df saved/read incorrectly')"
   ]
  },
  {
   "cell_type": "markdown",
   "metadata": {},
   "source": [
    "#### Another analysis"
   ]
  },
  {
   "cell_type": "markdown",
   "metadata": {},
   "source": [
    "Assuming one toolkit and bad times for company when it needs to reduce production, will it be better to have have \"G\", \"L\" or \"L2\""
   ]
  },
  {
   "cell_type": "code",
   "execution_count": 162,
   "metadata": {},
   "outputs": [
    {
     "name": "stdout",
     "output_type": "stream",
     "text": [
      "Entire simulation duration time: 29.0s\n"
     ]
    }
   ],
   "source": [
    "t0 = time.clock()\n",
    "results_machine_reduction = {}\n",
    "for setup in ['L', 'G', 'L2']:\n",
    "    for n in range(6):\n",
    "        n_machines = n + 1\n",
    "        results_machine_reduction[(setup, n_machines)] = run_model(iterations, horizon, avg_working_time, avg_repair_time, n_machines, m, setup)\n",
    "print('Entire simulation duration time: {:.1f}s'.format(time.clock() - t0))"
   ]
  },
  {
   "cell_type": "code",
   "execution_count": 163,
   "metadata": {},
   "outputs": [],
   "source": [
    "df_machine_reduction = pd.DataFrame.from_dict(results_machine_reduction, orient='index')"
   ]
  },
  {
   "cell_type": "code",
   "execution_count": 164,
   "metadata": {},
   "outputs": [
    {
     "data": {
      "text/html": [
       "<div>\n",
       "<style scoped>\n",
       "    .dataframe tbody tr th:only-of-type {\n",
       "        vertical-align: middle;\n",
       "    }\n",
       "\n",
       "    .dataframe tbody tr th {\n",
       "        vertical-align: top;\n",
       "    }\n",
       "\n",
       "    .dataframe thead th {\n",
       "        text-align: right;\n",
       "    }\n",
       "</style>\n",
       "<table border=\"1\" class=\"dataframe\">\n",
       "  <thead>\n",
       "    <tr style=\"text-align: right;\">\n",
       "      <th></th>\n",
       "      <th>0</th>\n",
       "      <th>1</th>\n",
       "      <th>2</th>\n",
       "      <th>3</th>\n",
       "      <th>4</th>\n",
       "      <th>5</th>\n",
       "    </tr>\n",
       "  </thead>\n",
       "  <tbody>\n",
       "    <tr>\n",
       "      <th>(L, 1)</th>\n",
       "      <td>7896.578624</td>\n",
       "      <td>NaN</td>\n",
       "      <td>NaN</td>\n",
       "      <td>NaN</td>\n",
       "      <td>NaN</td>\n",
       "      <td>NaN</td>\n",
       "    </tr>\n",
       "    <tr>\n",
       "      <th>(L, 2)</th>\n",
       "      <td>7937.106369</td>\n",
       "      <td>8780.769996</td>\n",
       "      <td>NaN</td>\n",
       "      <td>NaN</td>\n",
       "      <td>NaN</td>\n",
       "      <td>NaN</td>\n",
       "    </tr>\n",
       "    <tr>\n",
       "      <th>(L, 3)</th>\n",
       "      <td>8018.463667</td>\n",
       "      <td>8748.651734</td>\n",
       "      <td>9442.858374</td>\n",
       "      <td>NaN</td>\n",
       "      <td>NaN</td>\n",
       "      <td>NaN</td>\n",
       "    </tr>\n",
       "    <tr>\n",
       "      <th>(L, 4)</th>\n",
       "      <td>7996.698489</td>\n",
       "      <td>8685.854459</td>\n",
       "      <td>9421.135152</td>\n",
       "      <td>10167.096533</td>\n",
       "      <td>NaN</td>\n",
       "      <td>NaN</td>\n",
       "    </tr>\n",
       "    <tr>\n",
       "      <th>(L, 5)</th>\n",
       "      <td>7941.768346</td>\n",
       "      <td>8745.160529</td>\n",
       "      <td>9444.909662</td>\n",
       "      <td>10166.348052</td>\n",
       "      <td>10822.364700</td>\n",
       "      <td>NaN</td>\n",
       "    </tr>\n",
       "    <tr>\n",
       "      <th>(L, 6)</th>\n",
       "      <td>8001.949217</td>\n",
       "      <td>8796.153309</td>\n",
       "      <td>9429.426298</td>\n",
       "      <td>10122.496239</td>\n",
       "      <td>10858.200383</td>\n",
       "      <td>11468.167359</td>\n",
       "    </tr>\n",
       "    <tr>\n",
       "      <th>(G, 1)</th>\n",
       "      <td>8267.980806</td>\n",
       "      <td>NaN</td>\n",
       "      <td>NaN</td>\n",
       "      <td>NaN</td>\n",
       "      <td>NaN</td>\n",
       "      <td>NaN</td>\n",
       "    </tr>\n",
       "    <tr>\n",
       "      <th>(G, 2)</th>\n",
       "      <td>8384.636667</td>\n",
       "      <td>8327.969733</td>\n",
       "      <td>NaN</td>\n",
       "      <td>NaN</td>\n",
       "      <td>NaN</td>\n",
       "      <td>NaN</td>\n",
       "    </tr>\n",
       "    <tr>\n",
       "      <th>(G, 3)</th>\n",
       "      <td>8416.076308</td>\n",
       "      <td>8333.309301</td>\n",
       "      <td>8382.272591</td>\n",
       "      <td>NaN</td>\n",
       "      <td>NaN</td>\n",
       "      <td>NaN</td>\n",
       "    </tr>\n",
       "    <tr>\n",
       "      <th>(G, 4)</th>\n",
       "      <td>8310.311043</td>\n",
       "      <td>8358.089111</td>\n",
       "      <td>8356.001934</td>\n",
       "      <td>8329.351330</td>\n",
       "      <td>NaN</td>\n",
       "      <td>NaN</td>\n",
       "    </tr>\n",
       "    <tr>\n",
       "      <th>(G, 5)</th>\n",
       "      <td>8399.900806</td>\n",
       "      <td>8421.883572</td>\n",
       "      <td>8354.942724</td>\n",
       "      <td>8292.435124</td>\n",
       "      <td>8384.962514</td>\n",
       "      <td>NaN</td>\n",
       "    </tr>\n",
       "    <tr>\n",
       "      <th>(G, 6)</th>\n",
       "      <td>8344.349189</td>\n",
       "      <td>8359.205767</td>\n",
       "      <td>8344.289224</td>\n",
       "      <td>8316.062734</td>\n",
       "      <td>8321.934945</td>\n",
       "      <td>8323.318135</td>\n",
       "    </tr>\n",
       "    <tr>\n",
       "      <th>(L2, 1)</th>\n",
       "      <td>9356.035196</td>\n",
       "      <td>NaN</td>\n",
       "      <td>NaN</td>\n",
       "      <td>NaN</td>\n",
       "      <td>NaN</td>\n",
       "      <td>NaN</td>\n",
       "    </tr>\n",
       "    <tr>\n",
       "      <th>(L2, 2)</th>\n",
       "      <td>9515.872547</td>\n",
       "      <td>8755.935885</td>\n",
       "      <td>NaN</td>\n",
       "      <td>NaN</td>\n",
       "      <td>NaN</td>\n",
       "      <td>NaN</td>\n",
       "    </tr>\n",
       "    <tr>\n",
       "      <th>(L2, 3)</th>\n",
       "      <td>9443.692637</td>\n",
       "      <td>8725.686687</td>\n",
       "      <td>8008.283366</td>\n",
       "      <td>NaN</td>\n",
       "      <td>NaN</td>\n",
       "      <td>NaN</td>\n",
       "    </tr>\n",
       "    <tr>\n",
       "      <th>(L2, 4)</th>\n",
       "      <td>9511.578951</td>\n",
       "      <td>8737.396803</td>\n",
       "      <td>7996.086722</td>\n",
       "      <td>7998.129333</td>\n",
       "      <td>NaN</td>\n",
       "      <td>NaN</td>\n",
       "    </tr>\n",
       "    <tr>\n",
       "      <th>(L2, 5)</th>\n",
       "      <td>9432.348403</td>\n",
       "      <td>8728.937569</td>\n",
       "      <td>7950.570036</td>\n",
       "      <td>7972.833201</td>\n",
       "      <td>8745.650623</td>\n",
       "      <td>NaN</td>\n",
       "    </tr>\n",
       "    <tr>\n",
       "      <th>(L2, 6)</th>\n",
       "      <td>9469.118198</td>\n",
       "      <td>8660.669214</td>\n",
       "      <td>7975.432277</td>\n",
       "      <td>8059.417747</td>\n",
       "      <td>8782.494430</td>\n",
       "      <td>9462.369773</td>\n",
       "    </tr>\n",
       "  </tbody>\n",
       "</table>\n",
       "</div>"
      ],
      "text/plain": [
       "                   0            1            2             3             4  \\\n",
       "(L, 1)   7896.578624          NaN          NaN           NaN           NaN   \n",
       "(L, 2)   7937.106369  8780.769996          NaN           NaN           NaN   \n",
       "(L, 3)   8018.463667  8748.651734  9442.858374           NaN           NaN   \n",
       "(L, 4)   7996.698489  8685.854459  9421.135152  10167.096533           NaN   \n",
       "(L, 5)   7941.768346  8745.160529  9444.909662  10166.348052  10822.364700   \n",
       "(L, 6)   8001.949217  8796.153309  9429.426298  10122.496239  10858.200383   \n",
       "(G, 1)   8267.980806          NaN          NaN           NaN           NaN   \n",
       "(G, 2)   8384.636667  8327.969733          NaN           NaN           NaN   \n",
       "(G, 3)   8416.076308  8333.309301  8382.272591           NaN           NaN   \n",
       "(G, 4)   8310.311043  8358.089111  8356.001934   8329.351330           NaN   \n",
       "(G, 5)   8399.900806  8421.883572  8354.942724   8292.435124   8384.962514   \n",
       "(G, 6)   8344.349189  8359.205767  8344.289224   8316.062734   8321.934945   \n",
       "(L2, 1)  9356.035196          NaN          NaN           NaN           NaN   \n",
       "(L2, 2)  9515.872547  8755.935885          NaN           NaN           NaN   \n",
       "(L2, 3)  9443.692637  8725.686687  8008.283366           NaN           NaN   \n",
       "(L2, 4)  9511.578951  8737.396803  7996.086722   7998.129333           NaN   \n",
       "(L2, 5)  9432.348403  8728.937569  7950.570036   7972.833201   8745.650623   \n",
       "(L2, 6)  9469.118198  8660.669214  7975.432277   8059.417747   8782.494430   \n",
       "\n",
       "                    5  \n",
       "(L, 1)            NaN  \n",
       "(L, 2)            NaN  \n",
       "(L, 3)            NaN  \n",
       "(L, 4)            NaN  \n",
       "(L, 5)            NaN  \n",
       "(L, 6)   11468.167359  \n",
       "(G, 1)            NaN  \n",
       "(G, 2)            NaN  \n",
       "(G, 3)            NaN  \n",
       "(G, 4)            NaN  \n",
       "(G, 5)            NaN  \n",
       "(G, 6)    8323.318135  \n",
       "(L2, 1)           NaN  \n",
       "(L2, 2)           NaN  \n",
       "(L2, 3)           NaN  \n",
       "(L2, 4)           NaN  \n",
       "(L2, 5)           NaN  \n",
       "(L2, 6)   9462.369773  "
      ]
     },
     "execution_count": 164,
     "metadata": {},
     "output_type": "execute_result"
    }
   ],
   "source": [
    "df_machine_reduction"
   ]
  },
  {
   "cell_type": "code",
   "execution_count": 165,
   "metadata": {},
   "outputs": [],
   "source": [
    "df_comparison = pd.DataFrame()"
   ]
  },
  {
   "cell_type": "code",
   "execution_count": 190,
   "metadata": {},
   "outputs": [
    {
     "data": {
      "text/html": [
       "<div>\n",
       "<style scoped>\n",
       "    .dataframe tbody tr th:only-of-type {\n",
       "        vertical-align: middle;\n",
       "    }\n",
       "\n",
       "    .dataframe tbody tr th {\n",
       "        vertical-align: top;\n",
       "    }\n",
       "\n",
       "    .dataframe thead th {\n",
       "        text-align: right;\n",
       "    }\n",
       "</style>\n",
       "<table border=\"1\" class=\"dataframe\">\n",
       "  <thead>\n",
       "    <tr style=\"text-align: right;\">\n",
       "      <th></th>\n",
       "      <th>0</th>\n",
       "      <th>1</th>\n",
       "      <th>2</th>\n",
       "      <th>3</th>\n",
       "      <th>4</th>\n",
       "      <th>5</th>\n",
       "    </tr>\n",
       "  </thead>\n",
       "  <tbody>\n",
       "    <tr>\n",
       "      <th>(L, 1)</th>\n",
       "      <td>7896.578624</td>\n",
       "      <td>NaN</td>\n",
       "      <td>NaN</td>\n",
       "      <td>NaN</td>\n",
       "      <td>NaN</td>\n",
       "      <td>NaN</td>\n",
       "    </tr>\n",
       "    <tr>\n",
       "      <th>(L, 2)</th>\n",
       "      <td>7937.106369</td>\n",
       "      <td>8780.769996</td>\n",
       "      <td>NaN</td>\n",
       "      <td>NaN</td>\n",
       "      <td>NaN</td>\n",
       "      <td>NaN</td>\n",
       "    </tr>\n",
       "    <tr>\n",
       "      <th>(L, 3)</th>\n",
       "      <td>8018.463667</td>\n",
       "      <td>8748.651734</td>\n",
       "      <td>9442.858374</td>\n",
       "      <td>NaN</td>\n",
       "      <td>NaN</td>\n",
       "      <td>NaN</td>\n",
       "    </tr>\n",
       "    <tr>\n",
       "      <th>(L, 4)</th>\n",
       "      <td>7996.698489</td>\n",
       "      <td>8685.854459</td>\n",
       "      <td>9421.135152</td>\n",
       "      <td>10167.096533</td>\n",
       "      <td>NaN</td>\n",
       "      <td>NaN</td>\n",
       "    </tr>\n",
       "    <tr>\n",
       "      <th>(L, 5)</th>\n",
       "      <td>7941.768346</td>\n",
       "      <td>8745.160529</td>\n",
       "      <td>9444.909662</td>\n",
       "      <td>10166.348052</td>\n",
       "      <td>10822.364700</td>\n",
       "      <td>NaN</td>\n",
       "    </tr>\n",
       "    <tr>\n",
       "      <th>(L, 6)</th>\n",
       "      <td>8001.949217</td>\n",
       "      <td>8796.153309</td>\n",
       "      <td>9429.426298</td>\n",
       "      <td>10122.496239</td>\n",
       "      <td>10858.200383</td>\n",
       "      <td>11468.167359</td>\n",
       "    </tr>\n",
       "  </tbody>\n",
       "</table>\n",
       "</div>"
      ],
      "text/plain": [
       "                  0            1            2             3             4  \\\n",
       "(L, 1)  7896.578624          NaN          NaN           NaN           NaN   \n",
       "(L, 2)  7937.106369  8780.769996          NaN           NaN           NaN   \n",
       "(L, 3)  8018.463667  8748.651734  9442.858374           NaN           NaN   \n",
       "(L, 4)  7996.698489  8685.854459  9421.135152  10167.096533           NaN   \n",
       "(L, 5)  7941.768346  8745.160529  9444.909662  10166.348052  10822.364700   \n",
       "(L, 6)  8001.949217  8796.153309  9429.426298  10122.496239  10858.200383   \n",
       "\n",
       "                   5  \n",
       "(L, 1)           NaN  \n",
       "(L, 2)           NaN  \n",
       "(L, 3)           NaN  \n",
       "(L, 4)           NaN  \n",
       "(L, 5)           NaN  \n",
       "(L, 6)  11468.167359  "
      ]
     },
     "execution_count": 190,
     "metadata": {},
     "output_type": "execute_result"
    }
   ],
   "source": [
    "df_machine_reduction.iloc[:6,:]"
   ]
  },
  {
   "cell_type": "code",
   "execution_count": 192,
   "metadata": {},
   "outputs": [
    {
     "data": {
      "text/plain": [
       "<matplotlib.axes._subplots.AxesSubplot at 0x18dffefcbe0>"
      ]
     },
     "execution_count": 192,
     "metadata": {},
     "output_type": "execute_result"
    },
    {
     "data": {
      "image/png": "[encoded data removed]",
      "text/plain": [
       "<Figure size 432x288 with 1 Axes>"
      ]
     },
     "metadata": {
      "needs_background": "light"
     },
     "output_type": "display_data"
    }
   ],
   "source": [
    "df_machine_reduction.iloc[:6,:].plot()"
   ]
  },
  {
   "cell_type": "code",
   "execution_count": 167,
   "metadata": {},
   "outputs": [],
   "source": [
    "df_comparison[\"L\"] = df_machine_reduction.iloc[:6,:].mean(axis=1).values"
   ]
  },
  {
   "cell_type": "code",
   "execution_count": 168,
   "metadata": {},
   "outputs": [
    {
     "data": {
      "text/plain": [
       "<matplotlib.axes._subplots.AxesSubplot at 0x18dfe40d748>"
      ]
     },
     "execution_count": 168,
     "metadata": {},
     "output_type": "execute_result"
    },
    {
     "data": {
      "image/png": "[encoded data removed]",
      "text/plain": [
       "<Figure size 432x288 with 1 Axes>"
      ]
     },
     "metadata": {
      "needs_background": "light"
     },
     "output_type": "display_data"
    }
   ],
   "source": [
    "df_machine_reduction.iloc[6:12,:].plot()"
   ]
  },
  {
   "cell_type": "code",
   "execution_count": 169,
   "metadata": {},
   "outputs": [],
   "source": [
    "df_comparison[\"G\"] = df_machine_reduction.iloc[6:12,:].mean(axis=1).values"
   ]
  },
  {
   "cell_type": "code",
   "execution_count": 170,
   "metadata": {},
   "outputs": [
    {
     "data": {
      "text/plain": [
       "<matplotlib.axes._subplots.AxesSubplot at 0x18dfe3f9b00>"
      ]
     },
     "execution_count": 170,
     "metadata": {},
     "output_type": "execute_result"
    },
    {
     "data": {
      "image/png": "[encoded data removed]",
      "text/plain": [
       "<Figure size 432x288 with 1 Axes>"
      ]
     },
     "metadata": {
      "needs_background": "light"
     },
     "output_type": "display_data"
    }
   ],
   "source": [
    "df_machine_reduction.iloc[12:,:].plot()"
   ]
  },
  {
   "cell_type": "code",
   "execution_count": 171,
   "metadata": {},
   "outputs": [],
   "source": [
    "df_comparison[\"L2\"] = df_machine_reduction.iloc[12:,:].mean(axis=1).values"
   ]
  },
  {
   "cell_type": "code",
   "execution_count": 172,
   "metadata": {},
   "outputs": [
    {
     "data": {
      "text/plain": [
       "<matplotlib.axes._subplots.AxesSubplot at 0x18dff4b48d0>"
      ]
     },
     "execution_count": 172,
     "metadata": {},
     "output_type": "execute_result"
    },
    {
     "data": {
      "image/png": "[encoded data removed]",
      "text/plain": [
       "<Figure size 432x288 with 1 Axes>"
      ]
     },
     "metadata": {
      "needs_background": "light"
     },
     "output_type": "display_data"
    }
   ],
   "source": [
    "df_comparison = df_comparison.set_index(np.arange(1, 7))\n",
    "df_comparison.plot()"
   ]
  },
  {
   "cell_type": "markdown",
   "metadata": {},
   "source": [
    "Assumming 2 toolkits it's better to have \"L\" if we don't expend big colapse in demand, if we don it may be safer to considere \"L2\" option as it's not  much worse when 6 machines but when only one is working it's much more effective"
   ]
  },
  {
   "cell_type": "code",
   "execution_count": 188,
   "metadata": {},
   "outputs": [],
   "source": [
    "df_machine_reduction.to_csv('results_machine_reduction.csv')\n",
    "df_comparison.to_csv('results_comparison.csv')"
   ]
  },
  {
   "cell_type": "code",
   "execution_count": 189,
   "metadata": {},
   "outputs": [
    {
     "data": {
      "text/html": [
       "<div>\n",
       "<style scoped>\n",
       "    .dataframe tbody tr th:only-of-type {\n",
       "        vertical-align: middle;\n",
       "    }\n",
       "\n",
       "    .dataframe tbody tr th {\n",
       "        vertical-align: top;\n",
       "    }\n",
       "\n",
       "    .dataframe thead th {\n",
       "        text-align: right;\n",
       "    }\n",
       "</style>\n",
       "<table border=\"1\" class=\"dataframe\">\n",
       "  <thead>\n",
       "    <tr style=\"text-align: right;\">\n",
       "      <th></th>\n",
       "      <th>0</th>\n",
       "      <th>1</th>\n",
       "      <th>2</th>\n",
       "      <th>3</th>\n",
       "      <th>4</th>\n",
       "      <th>5</th>\n",
       "    </tr>\n",
       "  </thead>\n",
       "  <tbody>\n",
       "    <tr>\n",
       "      <th>('L', 1)</th>\n",
       "      <td>7896.578624</td>\n",
       "      <td>NaN</td>\n",
       "      <td>NaN</td>\n",
       "      <td>NaN</td>\n",
       "      <td>NaN</td>\n",
       "      <td>NaN</td>\n",
       "    </tr>\n",
       "    <tr>\n",
       "      <th>('L', 2)</th>\n",
       "      <td>7937.106369</td>\n",
       "      <td>8780.769996</td>\n",
       "      <td>NaN</td>\n",
       "      <td>NaN</td>\n",
       "      <td>NaN</td>\n",
       "      <td>NaN</td>\n",
       "    </tr>\n",
       "    <tr>\n",
       "      <th>('L', 3)</th>\n",
       "      <td>8018.463667</td>\n",
       "      <td>8748.651734</td>\n",
       "      <td>9442.858374</td>\n",
       "      <td>NaN</td>\n",
       "      <td>NaN</td>\n",
       "      <td>NaN</td>\n",
       "    </tr>\n",
       "    <tr>\n",
       "      <th>('L', 4)</th>\n",
       "      <td>7996.698489</td>\n",
       "      <td>8685.854459</td>\n",
       "      <td>9421.135152</td>\n",
       "      <td>10167.096533</td>\n",
       "      <td>NaN</td>\n",
       "      <td>NaN</td>\n",
       "    </tr>\n",
       "    <tr>\n",
       "      <th>('L', 5)</th>\n",
       "      <td>7941.768346</td>\n",
       "      <td>8745.160529</td>\n",
       "      <td>9444.909662</td>\n",
       "      <td>10166.348052</td>\n",
       "      <td>10822.364700</td>\n",
       "      <td>NaN</td>\n",
       "    </tr>\n",
       "    <tr>\n",
       "      <th>('L', 6)</th>\n",
       "      <td>8001.949217</td>\n",
       "      <td>8796.153309</td>\n",
       "      <td>9429.426298</td>\n",
       "      <td>10122.496239</td>\n",
       "      <td>10858.200383</td>\n",
       "      <td>11468.167359</td>\n",
       "    </tr>\n",
       "    <tr>\n",
       "      <th>('G', 1)</th>\n",
       "      <td>8267.980806</td>\n",
       "      <td>NaN</td>\n",
       "      <td>NaN</td>\n",
       "      <td>NaN</td>\n",
       "      <td>NaN</td>\n",
       "      <td>NaN</td>\n",
       "    </tr>\n",
       "    <tr>\n",
       "      <th>('G', 2)</th>\n",
       "      <td>8384.636667</td>\n",
       "      <td>8327.969733</td>\n",
       "      <td>NaN</td>\n",
       "      <td>NaN</td>\n",
       "      <td>NaN</td>\n",
       "      <td>NaN</td>\n",
       "    </tr>\n",
       "    <tr>\n",
       "      <th>('G', 3)</th>\n",
       "      <td>8416.076308</td>\n",
       "      <td>8333.309301</td>\n",
       "      <td>8382.272591</td>\n",
       "      <td>NaN</td>\n",
       "      <td>NaN</td>\n",
       "      <td>NaN</td>\n",
       "    </tr>\n",
       "    <tr>\n",
       "      <th>('G', 4)</th>\n",
       "      <td>8310.311043</td>\n",
       "      <td>8358.089111</td>\n",
       "      <td>8356.001934</td>\n",
       "      <td>8329.351330</td>\n",
       "      <td>NaN</td>\n",
       "      <td>NaN</td>\n",
       "    </tr>\n",
       "    <tr>\n",
       "      <th>('G', 5)</th>\n",
       "      <td>8399.900806</td>\n",
       "      <td>8421.883572</td>\n",
       "      <td>8354.942724</td>\n",
       "      <td>8292.435124</td>\n",
       "      <td>8384.962514</td>\n",
       "      <td>NaN</td>\n",
       "    </tr>\n",
       "    <tr>\n",
       "      <th>('G', 6)</th>\n",
       "      <td>8344.349189</td>\n",
       "      <td>8359.205767</td>\n",
       "      <td>8344.289224</td>\n",
       "      <td>8316.062734</td>\n",
       "      <td>8321.934945</td>\n",
       "      <td>8323.318135</td>\n",
       "    </tr>\n",
       "    <tr>\n",
       "      <th>('L2', 1)</th>\n",
       "      <td>9356.035196</td>\n",
       "      <td>NaN</td>\n",
       "      <td>NaN</td>\n",
       "      <td>NaN</td>\n",
       "      <td>NaN</td>\n",
       "      <td>NaN</td>\n",
       "    </tr>\n",
       "    <tr>\n",
       "      <th>('L2', 2)</th>\n",
       "      <td>9515.872547</td>\n",
       "      <td>8755.935885</td>\n",
       "      <td>NaN</td>\n",
       "      <td>NaN</td>\n",
       "      <td>NaN</td>\n",
       "      <td>NaN</td>\n",
       "    </tr>\n",
       "    <tr>\n",
       "      <th>('L2', 3)</th>\n",
       "      <td>9443.692637</td>\n",
       "      <td>8725.686687</td>\n",
       "      <td>8008.283366</td>\n",
       "      <td>NaN</td>\n",
       "      <td>NaN</td>\n",
       "      <td>NaN</td>\n",
       "    </tr>\n",
       "    <tr>\n",
       "      <th>('L2', 4)</th>\n",
       "      <td>9511.578951</td>\n",
       "      <td>8737.396803</td>\n",
       "      <td>7996.086722</td>\n",
       "      <td>7998.129333</td>\n",
       "      <td>NaN</td>\n",
       "      <td>NaN</td>\n",
       "    </tr>\n",
       "    <tr>\n",
       "      <th>('L2', 5)</th>\n",
       "      <td>9432.348403</td>\n",
       "      <td>8728.937569</td>\n",
       "      <td>7950.570036</td>\n",
       "      <td>7972.833201</td>\n",
       "      <td>8745.650623</td>\n",
       "      <td>NaN</td>\n",
       "    </tr>\n",
       "    <tr>\n",
       "      <th>('L2', 6)</th>\n",
       "      <td>9469.118198</td>\n",
       "      <td>8660.669214</td>\n",
       "      <td>7975.432277</td>\n",
       "      <td>8059.417747</td>\n",
       "      <td>8782.494430</td>\n",
       "      <td>9462.369773</td>\n",
       "    </tr>\n",
       "  </tbody>\n",
       "</table>\n",
       "</div>"
      ],
      "text/plain": [
       "                     0            1            2             3             4  \\\n",
       "('L', 1)   7896.578624          NaN          NaN           NaN           NaN   \n",
       "('L', 2)   7937.106369  8780.769996          NaN           NaN           NaN   \n",
       "('L', 3)   8018.463667  8748.651734  9442.858374           NaN           NaN   \n",
       "('L', 4)   7996.698489  8685.854459  9421.135152  10167.096533           NaN   \n",
       "('L', 5)   7941.768346  8745.160529  9444.909662  10166.348052  10822.364700   \n",
       "('L', 6)   8001.949217  8796.153309  9429.426298  10122.496239  10858.200383   \n",
       "('G', 1)   8267.980806          NaN          NaN           NaN           NaN   \n",
       "('G', 2)   8384.636667  8327.969733          NaN           NaN           NaN   \n",
       "('G', 3)   8416.076308  8333.309301  8382.272591           NaN           NaN   \n",
       "('G', 4)   8310.311043  8358.089111  8356.001934   8329.351330           NaN   \n",
       "('G', 5)   8399.900806  8421.883572  8354.942724   8292.435124   8384.962514   \n",
       "('G', 6)   8344.349189  8359.205767  8344.289224   8316.062734   8321.934945   \n",
       "('L2', 1)  9356.035196          NaN          NaN           NaN           NaN   \n",
       "('L2', 2)  9515.872547  8755.935885          NaN           NaN           NaN   \n",
       "('L2', 3)  9443.692637  8725.686687  8008.283366           NaN           NaN   \n",
       "('L2', 4)  9511.578951  8737.396803  7996.086722   7998.129333           NaN   \n",
       "('L2', 5)  9432.348403  8728.937569  7950.570036   7972.833201   8745.650623   \n",
       "('L2', 6)  9469.118198  8660.669214  7975.432277   8059.417747   8782.494430   \n",
       "\n",
       "                      5  \n",
       "('L', 1)            NaN  \n",
       "('L', 2)            NaN  \n",
       "('L', 3)            NaN  \n",
       "('L', 4)            NaN  \n",
       "('L', 5)            NaN  \n",
       "('L', 6)   11468.167359  \n",
       "('G', 1)            NaN  \n",
       "('G', 2)            NaN  \n",
       "('G', 3)            NaN  \n",
       "('G', 4)            NaN  \n",
       "('G', 5)            NaN  \n",
       "('G', 6)    8323.318135  \n",
       "('L2', 1)           NaN  \n",
       "('L2', 2)           NaN  \n",
       "('L2', 3)           NaN  \n",
       "('L2', 4)           NaN  \n",
       "('L2', 5)           NaN  \n",
       "('L2', 6)   9462.369773  "
      ]
     },
     "execution_count": 189,
     "metadata": {},
     "output_type": "execute_result"
    }
   ],
   "source": [
    "pd.read_csv('results_machine_reduction.csv', index_col=0)"
   ]
  },
  {
   "cell_type": "code",
   "execution_count": null,
   "metadata": {},
   "outputs": [],
   "source": []
  }
 ],
 "metadata": {
  "kernelspec": {
   "display_name": "Python 3",
   "language": "python",
   "name": "python3"
  },
  "language_info": {
   "codemirror_mode": {
    "name": "ipython",
    "version": 3
   },
   "file_extension": ".py",
   "mimetype": "text/x-python",
   "name": "python",
   "nbconvert_exporter": "python",
   "pygments_lexer": "ipython3",
   "version": "3.6.8"
  }
 },
 "nbformat": 4,
 "nbformat_minor": 2
}
