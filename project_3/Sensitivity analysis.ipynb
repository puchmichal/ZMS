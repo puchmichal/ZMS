{
 "cells": [
  {
   "cell_type": "code",
   "execution_count": 33,
   "metadata": {},
   "outputs": [],
   "source": [
    "import numpy as np\n",
    "import pandas as pd\n",
    "import matplotlib.pyplot as plt\n",
    "import seaborn as sns\n",
    "\n",
    "from simulation import run_simulation\n",
    "\n",
    "%matplotlib inline"
   ]
  },
  {
   "cell_type": "code",
   "execution_count": 16,
   "metadata": {},
   "outputs": [],
   "source": [
    "results, _ = run_simulation(n_simulations=1000, bartenders=( True, True))"
   ]
  },
  {
   "cell_type": "code",
   "execution_count": 23,
   "metadata": {},
   "outputs": [],
   "source": [
    "max_male = 10\n",
    "max_female = 10\n",
    "\n",
    "male_bartenders = np.arange(0, max_male+1)\n",
    "female_bartenders = np.arange(0, max_female+1)\n",
    "bartender_results = np.zeros((max_male+1, max_female+1))\n",
    "\n",
    "for i in range(bartender_results.shape[0]):\n",
    "    for j in range(bartender_results.shape[1]):\n",
    "        # creating unique combination of male and female bartenders\n",
    "        barternders = [False] * male_bartenders[i] + [True] * female_bartenders[j]\n",
    "        #running simulation\n",
    "        results, _ = run_simulation(n_simulations=100, bartenders=barternders)\n",
    "        \n",
    "        #appending results\n",
    "        bartender_results[i, j] = results.mean()"
   ]
  },
  {
   "cell_type": "code",
   "execution_count": 35,
   "metadata": {},
   "outputs": [
    {
     "data": {
      "image/png": "[encoded data removed]",
      "text/plain": [
       "<Figure size 432x288 with 2 Axes>"
      ]
     },
     "metadata": {
      "needs_background": "light"
     },
     "output_type": "display_data"
    }
   ],
   "source": [
    "ax = sns.heatmap(bartender_results)\n",
    "plt.show()"
   ]
  },
  {
   "cell_type": "code",
   "execution_count": null,
   "metadata": {},
   "outputs": [],
   "source": []
  }
 ],
 "metadata": {
  "kernelspec": {
   "display_name": "Python 3",
   "language": "python",
   "name": "python3"
  },
  "language_info": {
   "codemirror_mode": {
    "name": "ipython",
    "version": 3
   },
   "file_extension": ".py",
   "mimetype": "text/x-python",
   "name": "python",
   "nbconvert_exporter": "python",
   "pygments_lexer": "ipython3",
   "version": "3.6.8"
  }
 },
 "nbformat": 4,
 "nbformat_minor": 2
}
