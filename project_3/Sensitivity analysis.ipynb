{
 "cells": [
  {
   "cell_type": "markdown",
   "metadata": {},
   "source": [
    "# Analiza wrażliwości"
   ]
  },
  {
   "cell_type": "code",
   "execution_count": 1,
   "metadata": {},
   "outputs": [],
   "source": [
    "import numpy as np\n",
    "import pandas as pd\n",
    "import matplotlib.pyplot as plt\n",
    "import seaborn as sns\n",
    "\n",
    "from simulation import run_simulation\n",
    "\n",
    "%matplotlib inline"
   ]
  },
  {
   "cell_type": "code",
   "execution_count": 2,
   "metadata": {},
   "outputs": [],
   "source": [
    "n_simulations = 100"
   ]
  },
  {
   "cell_type": "markdown",
   "metadata": {},
   "source": [
    "## Ile klenerów zatrudnić"
   ]
  },
  {
   "cell_type": "code",
   "execution_count": 17,
   "metadata": {},
   "outputs": [],
   "source": [
    "max_male = 10\n",
    "max_female = 10\n",
    "\n",
    "male_bartenders = np.arange(0, max_male+1)\n",
    "female_bartenders = np.arange(0, max_female+1)\n",
    "bartender_results = np.zeros((max_male+1, max_female+1))\n",
    "\n",
    "for i in range(bartender_results.shape[0]):\n",
    "    for j in range(bartender_results.shape[1]):\n",
    "        # creating unique combination of male and female bartenders\n",
    "        barternders = [False] * male_bartenders[i] + [True] * female_bartenders[j]\n",
    "        #running simulation\n",
    "        results, _ = run_simulation(n_simulations=n_simulations, bartenders=barternders)\n",
    "        \n",
    "        #appending results\n",
    "        bartender_results[i, j] = results.mean()"
   ]
  },
  {
   "cell_type": "code",
   "execution_count": 18,
   "metadata": {},
   "outputs": [
    {
     "data": {
      "image/png": "[encoded data removed]",
      "text/plain": [
       "<matplotlib.figure.Figure at 0x170e7c33710>"
      ]
     },
     "metadata": {},
     "output_type": "display_data"
    }
   ],
   "source": [
    "ax = sns.heatmap(bartender_results)\n",
    "plt.show()"
   ]
  },
  {
   "cell_type": "markdown",
   "metadata": {},
   "source": [
    "## Jaka strategia cenowa"
   ]
  },
  {
   "cell_type": "code",
   "execution_count": 5,
   "metadata": {},
   "outputs": [],
   "source": [
    "results_expensive, _ = run_simulation(n_simulations=n_simulations, drink_price=4, patience_threshold=10)\n",
    "results_cheap, _ = run_simulation(n_simulations=n_simulations)\n",
    "results_super_cheap, _ = run_simulation(\n",
    "    n_simulations=n_simulations,\n",
    "    drink_price=1,\n",
    "    patience_threshold=20,\n",
    "    customer_lambda=10)"
   ]
  },
  {
   "cell_type": "code",
   "execution_count": 6,
   "metadata": {},
   "outputs": [
    {
     "name": "stdout",
     "output_type": "stream",
     "text": [
      "średnia:\n",
      "droższe drinki: 449.605980794\n",
      "tańsze drinki: 322.591928015\n",
      "super tanie drinki: 265.241767628\n",
      "\n",
      "odchylenie:\n",
      "droższe drinki: 123.789764702\n",
      "tańsze drinki: 69.6523768941\n",
      "super tanie drinki: 96.3728291358\n"
     ]
    }
   ],
   "source": [
    "print(\"średnia:\")\n",
    "print(\"droższe drinki: \" + str(results_expensive.mean()))\n",
    "print(\"tańsze drinki: \" + str(results_cheap.mean()))\n",
    "print(\"super tanie drinki: \" + str(results_super_cheap.mean()))\n",
    "\n",
    "print(\"\\nodchylenie:\")\n",
    "print(\"droższe drinki: \" + str(results_expensive.std()))\n",
    "print(\"tańsze drinki: \" + str(results_cheap.std()))\n",
    "print(\"super tanie drinki: \" + str(results_super_cheap.std()))"
   ]
  },
  {
   "cell_type": "code",
   "execution_count": 7,
   "metadata": {},
   "outputs": [
    {
     "data": {
      "text/plain": [
       "<matplotlib.figure.Figure at 0x170edf24c18>"
      ]
     },
     "metadata": {},
     "output_type": "display_data"
    },
    {
     "data": {
      "image/png": "[encoded data removed]",
      "text/plain": [
       "<matplotlib.figure.Figure at 0x170edf24c88>"
      ]
     },
     "metadata": {
      "needs_background": "light"
     },
     "output_type": "display_data"
    }
   ],
   "source": [
    "plt.figure(figsize=(20,10))\n",
    "f, axes = plt.subplots(2, 1)\n",
    "sns.set(style=\"whitegrid\")\n",
    "df_to_plot = pd.DataFrame(\n",
    "    {\n",
    "        \"pricing strategy\": \n",
    "            [\"normalne ceny\"] * n_simulations + \n",
    "            [\"niskie ceny\"] * n_simulations + \n",
    "            [\"wysokie ceny\"] * n_simulations,\n",
    "        \"result\": np.concatenate((results_cheap, results_super_cheap, results_expensive), axis=0)\n",
    "    }\n",
    ")\n",
    "ax = sns.barplot(x=\"pricing strategy\", y=\"result\", data=df_to_plot, ci=\"sd\", ax=axes[0]) # standard diviation\n",
    "ax = sns.barplot(x=\"pricing strategy\", y=\"result\", data=df_to_plot, ci=95, ax=axes[1]) # some bootstrap :D"
   ]
  },
  {
   "cell_type": "markdown",
   "metadata": {},
   "source": [
    "## Zatrudnianie ładniejszych kelnerek"
   ]
  },
  {
   "cell_type": "code",
   "execution_count": 8,
   "metadata": {},
   "outputs": [],
   "source": [
    "results_normal, _ = run_simulation(n_simulations=n_simulations)\n",
    "results_beautiful, _ = run_simulation(n_simulations=n_simulations, flirt_time=25, avg_tip=10)"
   ]
  },
  {
   "cell_type": "code",
   "execution_count": 9,
   "metadata": {},
   "outputs": [
    {
     "data": {
      "text/plain": [
       "<matplotlib.figure.Figure at 0x170edf24b38>"
      ]
     },
     "metadata": {},
     "output_type": "display_data"
    },
    {
     "data": {
      "image/png": "[encoded data removed]",
      "text/plain": [
       "<matplotlib.figure.Figure at 0x170edf240f0>"
      ]
     },
     "metadata": {},
     "output_type": "display_data"
    }
   ],
   "source": [
    "plt.figure(figsize=(20,10))\n",
    "f, axes = plt.subplots(2, 1)\n",
    "sns.set(style=\"whitegrid\")\n",
    "df_to_plot = pd.DataFrame(\n",
    "    {\n",
    "        \"Kelnerki\": \n",
    "            [\"ładne\"] * n_simulations + [\"ładniejsze\"] * n_simulations,\n",
    "        \"result\": np.concatenate((results_normal, results_beautiful), axis=0)\n",
    "    }\n",
    ")\n",
    "ax = sns.barplot(x=\"Kelnerki\", y=\"result\", data=df_to_plot, ci=\"sd\", ax=axes[0]) # standard diviation\n",
    "ax = sns.barplot(x=\"Kelnerki\", y=\"result\", data=df_to_plot, ci=95, ax=axes[1]) # some bootstrap :D"
   ]
  },
  {
   "cell_type": "markdown",
   "metadata": {},
   "source": [
    "## Zajęcie w kolejce"
   ]
  },
  {
   "cell_type": "code",
   "execution_count": 10,
   "metadata": {},
   "outputs": [
    {
     "name": "stderr",
     "output_type": "stream",
     "text": [
      "100%|██████████████████████████████████████████████████████████████████████████████████| 11/11 [00:05<00:00,  1.91it/s]\n"
     ]
    }
   ],
   "source": [
    "import tqdm\n",
    "patience_results = np.zeros(11)\n",
    "\n",
    "for patience in tqdm.tqdm(range(len(patience_results))):\n",
    "    results, _ = run_simulation(n_simulations=int(n_simulations), patience_threshold=patience)\n",
    "    patience_results[patience] = results.mean()"
   ]
  },
  {
   "cell_type": "code",
   "execution_count": 11,
   "metadata": {},
   "outputs": [
    {
     "data": {
      "text/plain": [
       "array([ 195.76623141,  223.72733167,  225.35690155,  256.15680749,\n",
       "        254.81266969,  282.42062451,  281.97115456,  300.8190435 ,\n",
       "        293.07605504,  289.79073729,  312.50437161])"
      ]
     },
     "execution_count": 11,
     "metadata": {},
     "output_type": "execute_result"
    }
   ],
   "source": [
    "patience_results"
   ]
  },
  {
   "cell_type": "code",
   "execution_count": 12,
   "metadata": {},
   "outputs": [
    {
     "data": {
      "image/png": "[encoded data removed]",
      "text/plain": [
       "<matplotlib.figure.Figure at 0x170efb6ecc0>"
      ]
     },
     "metadata": {},
     "output_type": "display_data"
    }
   ],
   "source": [
    "sns.set(style=\"whitegrid\")\n",
    "plt.plot(patience_results)\n",
    "plt.show()"
   ]
  },
  {
   "cell_type": "markdown",
   "metadata": {},
   "source": [
    "## Lepszy wystrój, więcej klientów, wyższa strata"
   ]
  },
  {
   "cell_type": "code",
   "execution_count": 13,
   "metadata": {},
   "outputs": [
    {
     "name": "stderr",
     "output_type": "stream",
     "text": [
      "100%|██████████████████████████████████████████████████████████████████████████████████| 19/19 [00:01<00:00, 16.92it/s]\n"
     ]
    }
   ],
   "source": [
    "import tqdm\n",
    "decor_results = np.zeros(20)\n",
    "\n",
    "for decor in tqdm.tqdm(range(1, len(decor_results))):\n",
    "    results, _ = run_simulation(\n",
    "        n_simulations=int(n_simulations/10), \n",
    "        shootout_loss=5*decor, \n",
    "        customer_lambda=(2*decor+5))\n",
    "    decor_results[decor] = results.mean()"
   ]
  },
  {
   "cell_type": "code",
   "execution_count": 14,
   "metadata": {},
   "outputs": [
    {
     "data": {
      "image/png": "[encoded data removed]",
      "text/plain": [
       "<matplotlib.figure.Figure at 0x170ef31ecc0>"
      ]
     },
     "metadata": {},
     "output_type": "display_data"
    }
   ],
   "source": [
    "sns.set(style=\"whitegrid\")\n",
    "plt.plot(decor_results)\n",
    "plt.show()"
   ]
  },
  {
   "cell_type": "code",
   "execution_count": null,
   "metadata": {},
   "outputs": [],
   "source": []
  },
  {
   "cell_type": "code",
   "execution_count": null,
   "metadata": {},
   "outputs": [],
   "source": []
  }
 ],
 "metadata": {
  "kernelspec": {
   "display_name": "Python 3",
   "language": "python",
   "name": "python3"
  },
  "language_info": {
   "codemirror_mode": {
    "name": "ipython",
    "version": 3
   },
   "file_extension": ".py",
   "mimetype": "text/x-python",
   "name": "python",
   "nbconvert_exporter": "python",
   "pygments_lexer": "ipython3",
   "version": "3.6.6"
  }
 },
 "nbformat": 4,
 "nbformat_minor": 2
}
