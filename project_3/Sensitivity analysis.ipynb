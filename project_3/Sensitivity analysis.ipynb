{
 "cells": [
  {
   "cell_type": "markdown",
   "metadata": {},
   "source": [
    "# Analiza wrażliwości"
   ]
  },
  {
   "cell_type": "code",
   "execution_count": 33,
   "metadata": {},
   "outputs": [],
   "source": [
    "import numpy as np\n",
    "import pandas as pd\n",
    "import matplotlib.pyplot as plt\n",
    "import seaborn as sns\n",
    "\n",
    "from simulation import run_simulation\n",
    "\n",
    "%matplotlib inline"
   ]
  },
  {
   "cell_type": "code",
   "execution_count": 48,
   "metadata": {},
   "outputs": [],
   "source": [
    "n_simulations = 1000"
   ]
  },
  {
   "cell_type": "markdown",
   "metadata": {},
   "source": [
    "## Ile klenerów zatrudnić"
   ]
  },
  {
   "cell_type": "code",
   "execution_count": 23,
   "metadata": {},
   "outputs": [],
   "source": [
    "max_male = 10\n",
    "max_female = 10\n",
    "\n",
    "male_bartenders = np.arange(0, max_male+1)\n",
    "female_bartenders = np.arange(0, max_female+1)\n",
    "bartender_results = np.zeros((max_male+1, max_female+1))\n",
    "\n",
    "for i in range(bartender_results.shape[0]):\n",
    "    for j in range(bartender_results.shape[1]):\n",
    "        # creating unique combination of male and female bartenders\n",
    "        barternders = [False] * male_bartenders[i] + [True] * female_bartenders[j]\n",
    "        #running simulation\n",
    "        results, _ = run_simulation(n_simulations=n_simulations, bartenders=barternders)\n",
    "        \n",
    "        #appending results\n",
    "        bartender_results[i, j] = results.mean()"
   ]
  },
  {
   "cell_type": "code",
   "execution_count": 35,
   "metadata": {},
   "outputs": [
    {
     "data": {
      "image/png": "[encoded data removed]",
      "text/plain": [
       "<Figure size 432x288 with 2 Axes>"
      ]
     },
     "metadata": {
      "needs_background": "light"
     },
     "output_type": "display_data"
    }
   ],
   "source": [
    "ax = sns.heatmap(bartender_results)\n",
    "plt.show()"
   ]
  },
  {
   "cell_type": "markdown",
   "metadata": {},
   "source": [
    "## Jaka strategia cenowa"
   ]
  },
  {
   "cell_type": "code",
   "execution_count": 41,
   "metadata": {},
   "outputs": [],
   "source": [
    "results_expensive, _ = run_simulation(n_simulations=n_simulations, drink_price=4, patience_threshold=10)\n",
    "results_cheap, _ = run_simulation(n_simulations=n_simulations)\n",
    "results_super_cheap, _ = run_simulation(\n",
    "    n_simulations=n_simulations,\n",
    "    drink_price=1,\n",
    "    patience_threshold=20,\n",
    "    customer_lambda=10)"
   ]
  },
  {
   "cell_type": "code",
   "execution_count": 44,
   "metadata": {},
   "outputs": [
    {
     "name": "stdout",
     "output_type": "stream",
     "text": [
      "średnia:\n",
      "droższe drinki: 1300.9178652531587\n",
      "tańsze drinki: 818.3555038197655\n",
      "super tanie drinki: 743.5231906176626\n",
      "\n",
      "odchylenie:\n",
      "droższe drinki: 446.13103980807307\n",
      "tańsze drinki: 304.8251123372854\n",
      "super tanie drinki: 325.44451323692346\n"
     ]
    }
   ],
   "source": [
    "print(\"średnia:\")\n",
    "print(\"droższe drinki: \" + str(results_expensive.mean()))\n",
    "print(\"tańsze drinki: \" + str(results_cheap.mean()))\n",
    "print(\"super tanie drinki: \" + str(results_super_cheap.mean()))\n",
    "\n",
    "print(\"\\nodchylenie:\")\n",
    "print(\"droższe drinki: \" + str(results_expensive.std()))\n",
    "print(\"tańsze drinki: \" + str(results_cheap.std()))\n",
    "print(\"super tanie drinki: \" + str(results_super_cheap.std()))"
   ]
  },
  {
   "cell_type": "code",
   "execution_count": 73,
   "metadata": {},
   "outputs": [
    {
     "data": {
      "text/plain": [
       "<Figure size 1440x720 with 0 Axes>"
      ]
     },
     "metadata": {},
     "output_type": "display_data"
    },
    {
     "data": {
      "image/png": "[encoded data removed]",
      "text/plain": [
       "<Figure size 432x288 with 2 Axes>"
      ]
     },
     "metadata": {},
     "output_type": "display_data"
    }
   ],
   "source": [
    "plt.figure(figsize=(20,10))\n",
    "f, axes = plt.subplots(2, 1)\n",
    "sns.set(style=\"whitegrid\")\n",
    "df_to_plot = pd.DataFrame(\n",
    "    {\n",
    "        \"pricing strategy\": \n",
    "            [\"normalne ceny\"] * n_simulations + \n",
    "            [\"niskie ceny\"] * n_simulations + \n",
    "            [\"wysokie ceny\"] * n_simulations,\n",
    "        \"result\": np.concatenate((results_cheap, results_super_cheap, results_expensive), axis=0)\n",
    "    }\n",
    ")\n",
    "ax = sns.barplot(x=\"pricing strategy\", y=\"result\", data=df_to_plot, ci=\"sd\", ax=axes[0]) # standard diviation\n",
    "ax = sns.barplot(x=\"pricing strategy\", y=\"result\", data=df_to_plot, ci=95, ax=axes[1]) # some bootstrap :D"
   ]
  },
  {
   "cell_type": "markdown",
   "metadata": {},
   "source": [
    "## Zatrudnianie ładniejszych kelnerek"
   ]
  },
  {
   "cell_type": "code",
   "execution_count": null,
   "metadata": {},
   "outputs": [],
   "source": []
  },
  {
   "cell_type": "code",
   "execution_count": null,
   "metadata": {},
   "outputs": [],
   "source": []
  },
  {
   "cell_type": "code",
   "execution_count": null,
   "metadata": {},
   "outputs": [],
   "source": []
  },
  {
   "cell_type": "code",
   "execution_count": null,
   "metadata": {},
   "outputs": [],
   "source": []
  },
  {
   "cell_type": "code",
   "execution_count": null,
   "metadata": {},
   "outputs": [],
   "source": []
  }
 ],
 "metadata": {
  "kernelspec": {
   "display_name": "Python 3",
   "language": "python",
   "name": "python3"
  },
  "language_info": {
   "codemirror_mode": {
    "name": "ipython",
    "version": 3
   },
   "file_extension": ".py",
   "mimetype": "text/x-python",
   "name": "python",
   "nbconvert_exporter": "python",
   "pygments_lexer": "ipython3",
   "version": "3.6.8"
  }
 },
 "nbformat": 4,
 "nbformat_minor": 2
}
