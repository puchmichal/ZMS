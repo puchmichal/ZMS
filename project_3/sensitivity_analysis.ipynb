{
 "cells": [
  {
   "cell_type": "markdown",
   "metadata": {},
   "source": [
    "# Analiza wrażliwości"
   ]
  },
  {
   "cell_type": "code",
   "execution_count": 1,
   "metadata": {},
   "outputs": [],
   "source": [
    "import numpy as np\n",
    "import pandas as pd\n",
    "import matplotlib.pyplot as plt\n",
    "import seaborn as sns\n",
    "\n",
    "from simulation import run_simulation\n",
    "\n",
    "%matplotlib inline"
   ]
  },
  {
   "cell_type": "code",
   "execution_count": 7,
   "metadata": {},
   "outputs": [],
   "source": [
    "n_simulations = 200"
   ]
  },
  {
   "cell_type": "code",
   "execution_count": 3,
   "metadata": {},
   "outputs": [],
   "source": [
    "results_normal, _ = run_simulation(n_simulations=n_simulations)"
   ]
  },
  {
   "cell_type": "code",
   "execution_count": 4,
   "metadata": {},
   "outputs": [
    {
     "name": "stdout",
     "output_type": "stream",
     "text": [
      "średni dochód: 178.487443295\n",
      "odchylenie z dochodu: 104.430710935\n"
     ]
    }
   ],
   "source": [
    "print(\"średni dochód: \" + str(results_normal.mean()))\n",
    "print(\"odchylenie z dochodu: \" + str(results_normal.std()))"
   ]
  },
  {
   "cell_type": "code",
   "execution_count": 5,
   "metadata": {},
   "outputs": [
    {
     "data": {
      "image/png": "[encoded data removed]",
      "text/plain": [
       "<matplotlib.figure.Figure at 0x15df5335710>"
      ]
     },
     "metadata": {
      "needs_background": "light"
     },
     "output_type": "display_data"
    }
   ],
   "source": [
    "plt.hist(results_normal, bins=100, density = True, color = 'blue')\n",
    "plt.ylabel(\"Częstotliwość\")\n",
    "plt.xlabel(\"Przychód [$]\")\n",
    "plt.show()"
   ]
  },
  {
   "cell_type": "markdown",
   "metadata": {},
   "source": [
    "# Strzelaniny"
   ]
  },
  {
   "cell_type": "code",
   "execution_count": 6,
   "metadata": {},
   "outputs": [],
   "source": [
    "results_faster_shootout, _ = run_simulation(n_simulations=n_simulations, p_lost_everything=0.1)\n",
    "results_shootout_normal, _ = run_simulation(n_simulations=n_simulations)\n",
    "results_slower_shootout, _ = run_simulation(n_simulations=n_simulations, p_lost_everything=0.02)"
   ]
  },
  {
   "cell_type": "code",
   "execution_count": 7,
   "metadata": {},
   "outputs": [
    {
     "name": "stdout",
     "output_type": "stream",
     "text": [
      "średnia:\n",
      "szybciej strzelaniny: 682.3632748799012\n",
      "normalne strzelaniny: 826.4251844514239\n",
      "wolniejsze strzelaniny: 898.0621814644488\n"
     ]
    }
   ],
   "source": [
    "print(\"średnia:\")\n",
    "print(\"szybciej strzelaniny: \" + str(results_faster_shootout.mean()))\n",
    "print(\"normalne strzelaniny: \" + str(results_shootout_normal.mean()))\n",
    "print(\"wolniejsze strzelaniny: \" + str(results_slower_shootout.mean()))"
   ]
  },
  {
   "cell_type": "markdown",
   "metadata": {},
   "source": [
    "## Ile barmanów zatrudnić"
   ]
  },
  {
   "cell_type": "code",
   "execution_count": 8,
   "metadata": {},
   "outputs": [],
   "source": [
    "max_male = 10\n",
    "max_female = 10\n",
    "\n",
    "male_bartenders = np.arange(0, max_male+1)\n",
    "female_bartenders = np.arange(0, max_female+1)\n",
    "bartender_results = np.zeros((max_male+1, max_female+1))\n",
    "\n",
    "for i in range(bartender_results.shape[0]):\n",
    "    for j in range(bartender_results.shape[1]):\n",
    "        # creating unique combination of male and female bartenders\n",
    "        barternders = [False] * male_bartenders[i] + [True] * female_bartenders[j]\n",
    "        #running simulation\n",
    "        results, _ = run_simulation(n_simulations=n_simulations, bartenders=barternders)\n",
    "        \n",
    "        #appending results\n",
    "        bartender_results[i, j] = results.mean()"
   ]
  },
  {
   "cell_type": "code",
   "execution_count": 9,
   "metadata": {},
   "outputs": [
    {
     "data": {
      "image/png": "[encoded data removed]",
      "text/plain": [
       "<matplotlib.figure.Figure at 0x15df7d20860>"
      ]
     },
     "metadata": {
      "needs_background": "light"
     },
     "output_type": "display_data"
    }
   ],
   "source": [
    "ax = sns.heatmap(bartender_results)\n",
    "plt.ylabel(\"Liczba zatrudnionych barmanów płci męskiej\")\n",
    "plt.xlabel(\"Liczba zatrudnionych barmanów płci żeńskiej\")\n",
    "plt.show()"
   ]
  },
  {
   "cell_type": "code",
   "execution_count": 18,
   "metadata": {},
   "outputs": [
    {
     "data": {
      "text/plain": [
       "(11, 11)"
      ]
     },
     "execution_count": 18,
     "metadata": {},
     "output_type": "execute_result"
    }
   ],
   "source": [
    "bartender_results.shape"
   ]
  },
  {
   "cell_type": "code",
   "execution_count": 20,
   "metadata": {},
   "outputs": [
    {
     "data": {
      "text/plain": [
       "244.53029121419101"
      ]
     },
     "execution_count": 20,
     "metadata": {},
     "output_type": "execute_result"
    }
   ],
   "source": [
    "bartender_results[10,10]"
   ]
  },
  {
   "cell_type": "code",
   "execution_count": 22,
   "metadata": {},
   "outputs": [
    {
     "data": {
      "text/plain": [
       "array([ 1,  2,  3,  4,  5,  6,  7,  8,  9, 10, 11, 12, 13, 14, 15, 16, 17,\n",
       "       18, 19, 20])"
      ]
     },
     "execution_count": 22,
     "metadata": {},
     "output_type": "execute_result"
    }
   ],
   "source": [
    "np.arange(1, max_male + max_female + 1)"
   ]
  },
  {
   "cell_type": "code",
   "execution_count": 27,
   "metadata": {},
   "outputs": [
    {
     "name": "stdout",
     "output_type": "stream",
     "text": [
      "[[-2], [9, 5], [3, -6, 3], [-1, 2, 5, 2], [8, 7, 1], [-4, 3], [8], [2], [3, 1], [5, 5, 3], [-2, -6, 7, 8], [9, 2, -4], [3, 8], [-1]]\n"
     ]
    }
   ],
   "source": [
    "matrix = np.array(\n",
    "         [[-2,  5,  3,  2],\n",
    "          [ 9, -6,  5,  1],\n",
    "          [ 3,  2,  7,  3],\n",
    "          [-1,  8, -4,  8]])\n",
    "\n",
    "diags = [matrix[::-1,:].diagonal(i) for i in range(-3,4)]\n",
    "diags.extend(matrix.diagonal(i) for i in range(3,-4,-1))\n",
    "print([n.tolist() for n in diags])"
   ]
  },
  {
   "cell_type": "code",
   "execution_count": 64,
   "metadata": {},
   "outputs": [],
   "source": [
    "path_matrix = np.zeros((max_male + 1, max_female + 1))\n",
    "optimum = 0\n",
    "diags = [bartender_results[::-1,:].diagonal(i) for i in range(1-bartender_results.shape[0], bartender_results.shape[1])]\n",
    "for i, x in enumerate(diags):\n",
    "    i0 = min(i, path_matrix.shape[0]-1) - x.argmax()\n",
    "    i1 = i-i0\n",
    "    path_matrix[i0, i1] = x.max() - optimum\n",
    "    optimum = x.max()"
   ]
  },
  {
   "cell_type": "code",
   "execution_count": 69,
   "metadata": {},
   "outputs": [
    {
     "data": {
      "text/plain": [
       "<matplotlib.axes._subplots.AxesSubplot at 0x15df6fab9e8>"
      ]
     },
     "execution_count": 69,
     "metadata": {},
     "output_type": "execute_result"
    },
    {
     "data": {
      "image/png": "[encoded data removed]",
      "text/plain": [
       "<matplotlib.figure.Figure at 0x15df6e43cc0>"
      ]
     },
     "metadata": {
      "needs_background": "light"
     },
     "output_type": "display_data"
    }
   ],
   "source": [
    "sns.heatmap(path_matrix, cmap = 'seismic_r', center = 0)"
   ]
  },
  {
   "cell_type": "code",
   "execution_count": 61,
   "metadata": {},
   "outputs": [
    {
     "data": {
      "text/plain": [
       "[array([-122.14341158]),\n",
       " array([ 85.00040097,   5.63419213]),\n",
       " array([ 179.15095588,  168.02999183,  134.83113701]),\n",
       " array([ 189.16280002,  204.99986632,  210.81219984,  219.72654787]),\n",
       " array([ 187.28154867,  211.37008342,  209.90408987,  230.84967484,\n",
       "         250.26548858]),\n",
       " array([ 190.41953736,  209.68946244,  219.27176216,  226.54530727,\n",
       "         258.26943754,  272.19005366]),\n",
       " array([ 187.22363151,  199.8793499 ,  219.43264918,  228.68030024,\n",
       "         242.37720346,  252.74328886,  265.21231233]),\n",
       " array([ 193.39558805,  201.81046049,  210.25874845,  224.40840313,\n",
       "         239.82810529,  242.58835334,  267.20805539,  256.31682091]),\n",
       " array([ 191.49332064,  206.38611075,  216.90271853,  222.19707819,\n",
       "         233.5705607 ,  251.58927955,  256.38299245,  259.96762456,\n",
       "         280.12881836]),\n",
       " array([ 189.10837052,  196.92366052,  207.9349866 ,  225.09877694,\n",
       "         222.25944199,  231.96685845,  238.49456514,  244.24585996,\n",
       "         263.92666773,  258.59988982]),\n",
       " array([ 193.3268923 ,  191.86450993,  208.83320824,  206.13985464,\n",
       "         229.82856049,  230.87719215,  245.07044006,  241.51683789,\n",
       "         257.63255943,  261.45515143,  267.98842153]),\n",
       " array([ 198.97817805,  205.31921768,  219.5236629 ,  214.11514869,\n",
       "         222.11593075,  237.64046688,  236.89051813,  237.0676733 ,\n",
       "         255.95460889,  259.78900513]),\n",
       " array([ 193.23819188,  204.88323888,  222.42031532,  225.83411225,\n",
       "         227.97540608,  224.25916372,  254.93343143,  250.61478826,\n",
       "         255.94773436]),\n",
       " array([ 219.10893061,  219.20642552,  208.2784711 ,  228.80407697,\n",
       "         244.84806576,  236.73763849,  242.95534472,  251.93205607]),\n",
       " array([ 211.51563487,  226.96121113,  227.44075239,  224.61483711,\n",
       "         236.23807098,  235.10737581,  255.86670076]),\n",
       " array([ 227.86833861,  222.04242399,  232.04693499,  238.34841779,\n",
       "         227.53242526,  244.27745472]),\n",
       " array([ 211.86346832,  220.25836627,  215.42998138,  227.17010162,\n",
       "         242.30818424]),\n",
       " array([ 226.22015013,  228.89674895,  235.43264012,  229.29891796]),\n",
       " array([ 230.45206343,  238.86501195,  233.00731727]),\n",
       " array([ 228.52493379,  250.41022669]),\n",
       " array([ 244.53029121])]"
      ]
     },
     "execution_count": 61,
     "metadata": {},
     "output_type": "execute_result"
    }
   ],
   "source": [
    "diags"
   ]
  },
  {
   "cell_type": "code",
   "execution_count": 60,
   "metadata": {},
   "outputs": [
    {
     "data": {
      "text/plain": [
       "array([[-122.14341158,    0.        ,    0.        ,  219.72654787,\n",
       "         250.26548858,  272.19005366,  265.21231233,    0.        ,\n",
       "         280.12881836,    0.        ,  267.98842153],\n",
       "       [  85.00040097,    0.        ,    0.        ,    0.        ,\n",
       "           0.        ,    0.        ,  267.20805539,    0.        ,\n",
       "         263.92666773,    0.        ,    0.        ],\n",
       "       [ 179.15095588,    0.        ,    0.        ,    0.        ,\n",
       "           0.        ,    0.        ,    0.        ,    0.        ,\n",
       "           0.        ,  259.78900513,    0.        ],\n",
       "       [   0.        ,    0.        ,    0.        ,    0.        ,\n",
       "           0.        ,    0.        ,    0.        ,    0.        ,\n",
       "           0.        ,    0.        ,    0.        ],\n",
       "       [   0.        ,    0.        ,    0.        ,    0.        ,\n",
       "           0.        ,    0.        ,    0.        ,    0.        ,\n",
       "         255.94773436,    0.        ,    0.        ],\n",
       "       [   0.        ,    0.        ,    0.        ,    0.        ,\n",
       "           0.        ,    0.        ,    0.        ,    0.        ,\n",
       "           0.        ,    0.        ,    0.        ],\n",
       "       [   0.        ,    0.        ,    0.        ,    0.        ,\n",
       "           0.        ,    0.        ,    0.        ,  251.93205607,\n",
       "           0.        ,    0.        ,    0.        ],\n",
       "       [   0.        ,    0.        ,    0.        ,    0.        ,\n",
       "           0.        ,    0.        ,    0.        ,    0.        ,\n",
       "           0.        ,    0.        ,    0.        ],\n",
       "       [   0.        ,    0.        ,    0.        ,    0.        ,\n",
       "           0.        ,    0.        ,  255.86670076,    0.        ,\n",
       "           0.        ,    0.        ,    0.        ],\n",
       "       [   0.        ,    0.        ,    0.        ,    0.        ,\n",
       "           0.        ,    0.        ,    0.        ,    0.        ,\n",
       "           0.        ,    0.        ,    0.        ],\n",
       "       [   0.        ,    0.        ,    0.        ,    0.        ,\n",
       "           0.        ,  244.27745472,  242.30818424,  235.43264012,\n",
       "         238.86501195,  250.41022669,  244.53029121]])"
      ]
     },
     "execution_count": 60,
     "metadata": {},
     "output_type": "execute_result"
    }
   ],
   "source": [
    "path_matrix"
   ]
  },
  {
   "cell_type": "code",
   "execution_count": 53,
   "metadata": {},
   "outputs": [],
   "source": [
    "df = pd.DataFrame.from_dict(bartender_results).T"
   ]
  },
  {
   "cell_type": "code",
   "execution_count": 54,
   "metadata": {},
   "outputs": [
    {
     "data": {
      "text/html": [
       "<div>\n",
       "<style scoped>\n",
       "    .dataframe tbody tr th:only-of-type {\n",
       "        vertical-align: middle;\n",
       "    }\n",
       "\n",
       "    .dataframe tbody tr th {\n",
       "        vertical-align: top;\n",
       "    }\n",
       "\n",
       "    .dataframe thead th {\n",
       "        text-align: right;\n",
       "    }\n",
       "</style>\n",
       "<table border=\"1\" class=\"dataframe\">\n",
       "  <thead>\n",
       "    <tr style=\"text-align: right;\">\n",
       "      <th></th>\n",
       "      <th>0</th>\n",
       "      <th>1</th>\n",
       "      <th>2</th>\n",
       "      <th>3</th>\n",
       "      <th>4</th>\n",
       "      <th>5</th>\n",
       "      <th>6</th>\n",
       "      <th>7</th>\n",
       "      <th>8</th>\n",
       "      <th>9</th>\n",
       "      <th>10</th>\n",
       "    </tr>\n",
       "  </thead>\n",
       "  <tbody>\n",
       "    <tr>\n",
       "      <th>0</th>\n",
       "      <td>-21.564000</td>\n",
       "      <td>407.176000</td>\n",
       "      <td>474.060000</td>\n",
       "      <td>477.502000</td>\n",
       "      <td>474.082000</td>\n",
       "      <td>472.290000</td>\n",
       "      <td>479.218000</td>\n",
       "      <td>472.204000</td>\n",
       "      <td>480.194000</td>\n",
       "      <td>464.272000</td>\n",
       "      <td>470.584000</td>\n",
       "    </tr>\n",
       "    <tr>\n",
       "      <th>1</th>\n",
       "      <td>530.112737</td>\n",
       "      <td>812.028881</td>\n",
       "      <td>734.754648</td>\n",
       "      <td>696.750296</td>\n",
       "      <td>651.085313</td>\n",
       "      <td>624.652690</td>\n",
       "      <td>615.485415</td>\n",
       "      <td>594.665751</td>\n",
       "      <td>582.897421</td>\n",
       "      <td>566.820094</td>\n",
       "      <td>554.669742</td>\n",
       "    </tr>\n",
       "    <tr>\n",
       "      <th>2</th>\n",
       "      <td>1141.732325</td>\n",
       "      <td>1066.120658</td>\n",
       "      <td>935.344542</td>\n",
       "      <td>848.573509</td>\n",
       "      <td>792.714193</td>\n",
       "      <td>763.167856</td>\n",
       "      <td>720.172881</td>\n",
       "      <td>699.008224</td>\n",
       "      <td>682.372875</td>\n",
       "      <td>679.756843</td>\n",
       "      <td>652.598999</td>\n",
       "    </tr>\n",
       "    <tr>\n",
       "      <th>3</th>\n",
       "      <td>1535.234648</td>\n",
       "      <td>1215.188870</td>\n",
       "      <td>1080.771005</td>\n",
       "      <td>985.632810</td>\n",
       "      <td>927.524617</td>\n",
       "      <td>873.327236</td>\n",
       "      <td>821.905328</td>\n",
       "      <td>770.441813</td>\n",
       "      <td>765.244724</td>\n",
       "      <td>752.984017</td>\n",
       "      <td>708.097578</td>\n",
       "    </tr>\n",
       "    <tr>\n",
       "      <th>4</th>\n",
       "      <td>1603.864242</td>\n",
       "      <td>1312.015815</td>\n",
       "      <td>1169.072743</td>\n",
       "      <td>1084.762843</td>\n",
       "      <td>983.868234</td>\n",
       "      <td>956.404940</td>\n",
       "      <td>909.275863</td>\n",
       "      <td>867.056808</td>\n",
       "      <td>841.094263</td>\n",
       "      <td>799.983601</td>\n",
       "      <td>788.292056</td>\n",
       "    </tr>\n",
       "    <tr>\n",
       "      <th>5</th>\n",
       "      <td>1637.525949</td>\n",
       "      <td>1377.632646</td>\n",
       "      <td>1248.989102</td>\n",
       "      <td>1161.476300</td>\n",
       "      <td>1090.699024</td>\n",
       "      <td>1000.369705</td>\n",
       "      <td>960.501132</td>\n",
       "      <td>929.104864</td>\n",
       "      <td>896.194498</td>\n",
       "      <td>861.502095</td>\n",
       "      <td>827.601847</td>\n",
       "    </tr>\n",
       "    <tr>\n",
       "      <th>6</th>\n",
       "      <td>1642.386367</td>\n",
       "      <td>1421.231955</td>\n",
       "      <td>1299.475692</td>\n",
       "      <td>1198.657955</td>\n",
       "      <td>1109.312908</td>\n",
       "      <td>1048.433641</td>\n",
       "      <td>1032.185024</td>\n",
       "      <td>975.914018</td>\n",
       "      <td>938.654048</td>\n",
       "      <td>933.730774</td>\n",
       "      <td>884.186220</td>\n",
       "    </tr>\n",
       "    <tr>\n",
       "      <th>7</th>\n",
       "      <td>1630.730361</td>\n",
       "      <td>1446.588642</td>\n",
       "      <td>1332.971210</td>\n",
       "      <td>1242.761484</td>\n",
       "      <td>1166.475216</td>\n",
       "      <td>1090.713092</td>\n",
       "      <td>1072.536146</td>\n",
       "      <td>1020.097568</td>\n",
       "      <td>1007.786149</td>\n",
       "      <td>957.620048</td>\n",
       "      <td>930.269203</td>\n",
       "    </tr>\n",
       "    <tr>\n",
       "      <th>8</th>\n",
       "      <td>1635.011429</td>\n",
       "      <td>1478.339743</td>\n",
       "      <td>1357.838486</td>\n",
       "      <td>1279.655674</td>\n",
       "      <td>1207.667651</td>\n",
       "      <td>1168.739423</td>\n",
       "      <td>1102.556250</td>\n",
       "      <td>1056.803360</td>\n",
       "      <td>1036.593382</td>\n",
       "      <td>990.871852</td>\n",
       "      <td>972.898049</td>\n",
       "    </tr>\n",
       "    <tr>\n",
       "      <th>9</th>\n",
       "      <td>1616.871189</td>\n",
       "      <td>1490.772754</td>\n",
       "      <td>1382.844488</td>\n",
       "      <td>1295.182748</td>\n",
       "      <td>1247.560271</td>\n",
       "      <td>1192.504128</td>\n",
       "      <td>1160.124299</td>\n",
       "      <td>1103.126052</td>\n",
       "      <td>1081.556007</td>\n",
       "      <td>1048.594334</td>\n",
       "      <td>1014.478961</td>\n",
       "    </tr>\n",
       "    <tr>\n",
       "      <th>10</th>\n",
       "      <td>1630.804072</td>\n",
       "      <td>1505.773193</td>\n",
       "      <td>1419.198201</td>\n",
       "      <td>1321.979325</td>\n",
       "      <td>1264.426065</td>\n",
       "      <td>1214.385709</td>\n",
       "      <td>1170.039908</td>\n",
       "      <td>1139.284363</td>\n",
       "      <td>1085.074536</td>\n",
       "      <td>1065.017197</td>\n",
       "      <td>1015.774173</td>\n",
       "    </tr>\n",
       "  </tbody>\n",
       "</table>\n",
       "</div>"
      ],
      "text/plain": [
       "             0            1            2            3            4   \\\n",
       "0    -21.564000   407.176000   474.060000   477.502000   474.082000   \n",
       "1    530.112737   812.028881   734.754648   696.750296   651.085313   \n",
       "2   1141.732325  1066.120658   935.344542   848.573509   792.714193   \n",
       "3   1535.234648  1215.188870  1080.771005   985.632810   927.524617   \n",
       "4   1603.864242  1312.015815  1169.072743  1084.762843   983.868234   \n",
       "5   1637.525949  1377.632646  1248.989102  1161.476300  1090.699024   \n",
       "6   1642.386367  1421.231955  1299.475692  1198.657955  1109.312908   \n",
       "7   1630.730361  1446.588642  1332.971210  1242.761484  1166.475216   \n",
       "8   1635.011429  1478.339743  1357.838486  1279.655674  1207.667651   \n",
       "9   1616.871189  1490.772754  1382.844488  1295.182748  1247.560271   \n",
       "10  1630.804072  1505.773193  1419.198201  1321.979325  1264.426065   \n",
       "\n",
       "             5            6            7            8            9   \\\n",
       "0    472.290000   479.218000   472.204000   480.194000   464.272000   \n",
       "1    624.652690   615.485415   594.665751   582.897421   566.820094   \n",
       "2    763.167856   720.172881   699.008224   682.372875   679.756843   \n",
       "3    873.327236   821.905328   770.441813   765.244724   752.984017   \n",
       "4    956.404940   909.275863   867.056808   841.094263   799.983601   \n",
       "5   1000.369705   960.501132   929.104864   896.194498   861.502095   \n",
       "6   1048.433641  1032.185024   975.914018   938.654048   933.730774   \n",
       "7   1090.713092  1072.536146  1020.097568  1007.786149   957.620048   \n",
       "8   1168.739423  1102.556250  1056.803360  1036.593382   990.871852   \n",
       "9   1192.504128  1160.124299  1103.126052  1081.556007  1048.594334   \n",
       "10  1214.385709  1170.039908  1139.284363  1085.074536  1065.017197   \n",
       "\n",
       "             10  \n",
       "0    470.584000  \n",
       "1    554.669742  \n",
       "2    652.598999  \n",
       "3    708.097578  \n",
       "4    788.292056  \n",
       "5    827.601847  \n",
       "6    884.186220  \n",
       "7    930.269203  \n",
       "8    972.898049  \n",
       "9   1014.478961  \n",
       "10  1015.774173  "
      ]
     },
     "execution_count": 54,
     "metadata": {},
     "output_type": "execute_result"
    }
   ],
   "source": [
    "df"
   ]
  },
  {
   "cell_type": "code",
   "execution_count": 56,
   "metadata": {},
   "outputs": [
    {
     "data": {
      "text/plain": [
       "0    -0.045488\n",
       "1     0.721483\n",
       "2     1.220654\n",
       "3     1.420499\n",
       "4     1.371911\n",
       "5     1.311081\n",
       "6     1.263884\n",
       "7     1.223380\n",
       "8     1.204128\n",
       "9     1.169236\n",
       "10    1.149102\n",
       "dtype: float64"
      ]
     },
     "execution_count": 56,
     "metadata": {},
     "output_type": "execute_result"
    }
   ],
   "source": [
    "df.loc[:,0] / df.loc[:,2]"
   ]
  },
  {
   "cell_type": "markdown",
   "metadata": {},
   "source": [
    "## Jaka strategia cenowa"
   ]
  },
  {
   "cell_type": "code",
   "execution_count": 15,
   "metadata": {},
   "outputs": [],
   "source": [
    "results_expensive, _ = run_simulation(n_simulations=n_simulations, drink_price=4, patience_threshold=10)\n",
    "results_cheap, _ = run_simulation(n_simulations=n_simulations)\n",
    "results_super_cheap, _ = run_simulation(\n",
    "    n_simulations=n_simulations,\n",
    "    drink_price=1,\n",
    "    patience_threshold=20,\n",
    "    customer_lambda=10)"
   ]
  },
  {
   "cell_type": "code",
   "execution_count": 16,
   "metadata": {},
   "outputs": [
    {
     "name": "stdout",
     "output_type": "stream",
     "text": [
      "średnia:\n",
      "droższe drinki: 1296.2453976240242\n",
      "tańsze drinki: 815.181824982579\n",
      "super tanie drinki: 739.9352499782015\n",
      "\n",
      "odchylenie:\n",
      "droższe drinki: 450.5902907357908\n",
      "tańsze drinki: 291.86513282198035\n",
      "super tanie drinki: 324.1916995683491\n"
     ]
    }
   ],
   "source": [
    "print(\"średnia:\")\n",
    "print(\"droższe drinki: \" + str(results_expensive.mean()))\n",
    "print(\"tańsze drinki: \" + str(results_cheap.mean()))\n",
    "print(\"super tanie drinki: \" + str(results_super_cheap.mean()))\n",
    "\n",
    "print(\"\\nodchylenie:\")\n",
    "print(\"droższe drinki: \" + str(results_expensive.std()))\n",
    "print(\"tańsze drinki: \" + str(results_cheap.std()))\n",
    "print(\"super tanie drinki: \" + str(results_super_cheap.std()))"
   ]
  },
  {
   "cell_type": "code",
   "execution_count": 60,
   "metadata": {},
   "outputs": [
    {
     "data": {
      "text/plain": [
       "<Figure size 1440x720 with 0 Axes>"
      ]
     },
     "metadata": {},
     "output_type": "display_data"
    },
    {
     "data": {
      "image/png": "[encoded data removed]",
      "text/plain": [
       "<Figure size 432x288 with 2 Axes>"
      ]
     },
     "metadata": {},
     "output_type": "display_data"
    }
   ],
   "source": [
    "plt.figure(figsize=(20,10))\n",
    "f, axes = plt.subplots(2, 1)\n",
    "sns.set(style=\"whitegrid\")\n",
    "df_to_plot = pd.DataFrame(\n",
    "    {\n",
    "        \"pricing strategy\": \n",
    "            [\"normalne ceny\"] * n_simulations + \n",
    "            [\"niskie ceny\"] * n_simulations + \n",
    "            [\"wysokie ceny\"] * n_simulations,\n",
    "        \"Przychód [$]\": np.concatenate((results_cheap, results_super_cheap, results_expensive), axis=0)\n",
    "    }\n",
    ")\n",
    "ax = sns.barplot(x=\"pricing strategy\", y=\"Przychód [$]\", data=df_to_plot, ci=\"sd\", ax=axes[0]) # standard diviation\n",
    "ax = sns.barplot(x=\"pricing strategy\", y=\"Przychód [$]\", data=df_to_plot, ci=95, ax=axes[1]) # some bootstrap :D"
   ]
  },
  {
   "cell_type": "code",
   "execution_count": 71,
   "metadata": {},
   "outputs": [
    {
     "data": {
      "text/plain": [
       "<Figure size 1440x720 with 0 Axes>"
      ]
     },
     "metadata": {},
     "output_type": "display_data"
    },
    {
     "data": {
      "image/png": "[encoded data removed]",
      "text/plain": [
       "<Figure size 432x288 with 1 Axes>"
      ]
     },
     "metadata": {},
     "output_type": "display_data"
    }
   ],
   "source": [
    "plt.figure(figsize=(20,10))\n",
    "f, axes = plt.subplots(1, 1)\n",
    "sns.set(style=\"whitegrid\")\n",
    "df_to_plot = pd.DataFrame(\n",
    "    {\n",
    "        \"Strategia cenowa salonu\": \n",
    "            [\"normalne ceny\"] * n_simulations + \n",
    "            [\"niskie ceny\"] * n_simulations + \n",
    "            [\"wysokie ceny\"] * n_simulations,\n",
    "        \"Przychód [$]\": np.concatenate((results_cheap, results_super_cheap, results_expensive), axis=0)\n",
    "    }\n",
    ")\n",
    "ax = sns.barplot(x=\"Strategia cenowa salonu\", y=\"Przychód [$]\", data=df_to_plot, ci=\"sd\")\n",
    "plt.show()\n"
   ]
  },
  {
   "cell_type": "markdown",
   "metadata": {},
   "source": [
    "## Zatrudnianie ładniejszych kelnerek"
   ]
  },
  {
   "cell_type": "code",
   "execution_count": 13,
   "metadata": {},
   "outputs": [],
   "source": [
    "results_normal, _ = run_simulation(n_simulations=n_simulations)\n",
    "results_beautiful, _ = run_simulation(n_simulations=n_simulations, flirt_time=25, avg_tip=10)"
   ]
  },
  {
   "cell_type": "code",
   "execution_count": 59,
   "metadata": {},
   "outputs": [
    {
     "data": {
      "text/plain": [
       "<Figure size 1440x720 with 0 Axes>"
      ]
     },
     "metadata": {},
     "output_type": "display_data"
    },
    {
     "data": {
      "image/png": "[encoded data removed]",
      "text/plain": [
       "<Figure size 432x288 with 2 Axes>"
      ]
     },
     "metadata": {},
     "output_type": "display_data"
    }
   ],
   "source": [
    "plt.figure(figsize=(20,10))\n",
    "f, axes = plt.subplots(2, 1)\n",
    "sns.set(style=\"whitegrid\")\n",
    "df_to_plot = pd.DataFrame(\n",
    "    {\n",
    "        \"Kelnerki\": \n",
    "            [\"ładne\"] * n_simulations + [\"ładniejsze\"] * n_simulations,\n",
    "        \"Przychód [$]\": np.concatenate((results_normal, results_beautiful), axis=0)\n",
    "    }\n",
    ")\n",
    "ax = sns.barplot(x=\"Kelnerki\", y=\"Przychód [$]\", data=df_to_plot, ci=\"sd\", ax=axes[0]) # standard diviation\n",
    "ax = sns.barplot(x=\"Kelnerki\", y=\"Przychód [$]\", data=df_to_plot, ci=95, ax=axes[1]) # some bootstrap :D"
   ]
  },
  {
   "cell_type": "code",
   "execution_count": 61,
   "metadata": {},
   "outputs": [
    {
     "name": "stdout",
     "output_type": "stream",
     "text": [
      "średni przychód ładna: 822.5380950364438\n",
      "średni przychód ładniejsza: 1020.4776838776445\n",
      "odchylenie ładna: 293.08143631290835\n",
      "odchylenie ładniejsza: 353.74086946152806\n"
     ]
    }
   ],
   "source": [
    "print(\"średni przychód ładna: \" + str(results_normal.mean()))\n",
    "print(\"średni przychód ładniejsza: \" + str(results_beautiful.mean()))\n",
    "\n",
    "print(\"odchylenie ładna: \" + str(results_normal.std()))\n",
    "print(\"odchylenie ładniejsza: \" + str(results_beautiful.std()))"
   ]
  },
  {
   "cell_type": "markdown",
   "metadata": {},
   "source": [
    "## Zajęcie w kolejce"
   ]
  },
  {
   "cell_type": "code",
   "execution_count": 8,
   "metadata": {},
   "outputs": [
    {
     "name": "stderr",
     "output_type": "stream",
     "text": [
      "100%|██████████████████████████████████████████| 11/11 [01:23<00:00,  9.58s/it]\n"
     ]
    }
   ],
   "source": [
    "import tqdm\n",
    "patience_results = np.zeros(11)\n",
    "\n",
    "for patience in tqdm.tqdm(range(len(patience_results))):\n",
    "    results, _ = run_simulation(n_simulations=int(n_simulations), patience_threshold=patience)\n",
    "    patience_results[patience] = results.mean()"
   ]
  },
  {
   "cell_type": "code",
   "execution_count": 9,
   "metadata": {},
   "outputs": [
    {
     "data": {
      "text/plain": [
       "array([435.6016491 , 475.89328599, 504.7563149 , 546.02563837,\n",
       "       593.28752243, 815.7701825 , 826.60477956, 809.80233008,\n",
       "       822.65255175, 833.8924749 , 820.31587068])"
      ]
     },
     "execution_count": 9,
     "metadata": {},
     "output_type": "execute_result"
    }
   ],
   "source": [
    "patience_results"
   ]
  },
  {
   "cell_type": "code",
   "execution_count": 10,
   "metadata": {},
   "outputs": [
    {
     "data": {
      "image/png": "[encoded data removed]",
      "text/plain": [
       "<Figure size 432x288 with 1 Axes>"
      ]
     },
     "metadata": {},
     "output_type": "display_data"
    }
   ],
   "source": [
    "sns.set(style=\"whitegrid\")\n",
    "plt.plot(patience_results)\n",
    "plt.show()"
   ]
  },
  {
   "cell_type": "markdown",
   "metadata": {},
   "source": [
    "## Lepszy wystrój, więcej klientów, wyższa strata"
   ]
  },
  {
   "cell_type": "code",
   "execution_count": 11,
   "metadata": {},
   "outputs": [
    {
     "name": "stderr",
     "output_type": "stream",
     "text": [
      "100%|██████████████████████████████████████████| 19/19 [01:04<00:00,  1.59it/s]\n"
     ]
    }
   ],
   "source": [
    "import tqdm\n",
    "decor_results = np.zeros(20)\n",
    "\n",
    "for decor in tqdm.tqdm(range(1, len(decor_results))):\n",
    "    results, _ = run_simulation(\n",
    "        n_simulations=int(n_simulations/10), \n",
    "        shootout_loss=5*decor, \n",
    "        customer_lambda=(2*decor+5))\n",
    "    decor_results[decor] = results.mean()"
   ]
  },
  {
   "cell_type": "code",
   "execution_count": 12,
   "metadata": {},
   "outputs": [
    {
     "data": {
      "image/png": "[encoded data removed]",
      "text/plain": [
       "<Figure size 432x288 with 1 Axes>"
      ]
     },
     "metadata": {},
     "output_type": "display_data"
    }
   ],
   "source": [
    "sns.set(style=\"whitegrid\")\n",
    "plt.plot(decor_results)\n",
    "plt.show()"
   ]
  },
  {
   "cell_type": "markdown",
   "metadata": {},
   "source": [
    "# Większe stoły do pokera"
   ]
  },
  {
   "cell_type": "code",
   "execution_count": 67,
   "metadata": {},
   "outputs": [],
   "source": [
    "results_normal, _ = run_simulation(n_simulations=n_simulations)\n",
    "results_1, _ = run_simulation(n_simulations=n_simulations, poker_table_size=6, poker_length=15)\n",
    "results_2, _ = run_simulation(n_simulations=n_simulations, poker_table_size=7, poker_length=20)\n",
    "results_3, _ = run_simulation(n_simulations=n_simulations, poker_table_size=8, poker_length=25)"
   ]
  },
  {
   "cell_type": "code",
   "execution_count": 68,
   "metadata": {},
   "outputs": [
    {
     "data": {
      "text/plain": [
       "<Figure size 1440x720 with 0 Axes>"
      ]
     },
     "metadata": {},
     "output_type": "display_data"
    },
    {
     "data": {
      "image/png": "[encoded data removed]",
      "text/plain": [
       "<Figure size 432x288 with 1 Axes>"
      ]
     },
     "metadata": {},
     "output_type": "display_data"
    }
   ],
   "source": [
    "plt.figure(figsize=(20,10))\n",
    "f, axes = plt.subplots(1, 1)\n",
    "sns.set(style=\"whitegrid\")\n",
    "df_to_plot = pd.DataFrame(\n",
    "    {\n",
    "        \"Stół do pokera\": \n",
    "            [\"na 5 graczy\"] * n_simulations + [\"na 6 graczy\"] * n_simulations + [\"na 7 graczy\"] * n_simulations + [\"na 8 graczy\"] * n_simulations,\n",
    "        \"Przychód [$]\": np.concatenate((results_normal, results_1, results_2, results_3), axis=0)\n",
    "    }\n",
    ")\n",
    "ax = sns.barplot(x=\"Stół do pokera\", y=\"Przychód [$]\", data=df_to_plot, ci=\"sd\") \n",
    "plt.show()"
   ]
  },
  {
   "cell_type": "code",
   "execution_count": 69,
   "metadata": {},
   "outputs": [
    {
     "name": "stdout",
     "output_type": "stream",
     "text": [
      "średni przychód normal: 814.2297915075026\n",
      "średni przychód 1: 844.9545849162033\n",
      "średni przychód 2: 836.1973763444387\n",
      "średni przychód 3: 848.9268616365201\n",
      "odchylenie normal: 303.81926733468526\n",
      "odchylenie przychód 1: 260.0646345569441\n",
      "odchylenie przychód 2: 260.6094148670927\n",
      "odchylenie przychód 3: 241.09387100192473\n"
     ]
    }
   ],
   "source": [
    "print(\"średni przychód normal: \" + str(results_normal.mean()))\n",
    "print(\"średni przychód 1: \" + str(results_1.mean()))\n",
    "print(\"średni przychód 2: \" + str(results_2.mean()))\n",
    "print(\"średni przychód 3: \" + str(results_3.mean()))\n",
    "\n",
    "print(\"odchylenie normal: \" + str(results_normal.std()))\n",
    "print(\"odchylenie przychód 1: \" + str(results_1.std()))\n",
    "print(\"odchylenie przychód 2: \" + str(results_2.std()))\n",
    "print(\"odchylenie przychód 3: \" + str(results_3.std()))"
   ]
  }
 ],
 "metadata": {
  "kernelspec": {
   "display_name": "Python 3",
   "language": "python",
   "name": "python3"
  },
  "language_info": {
   "codemirror_mode": {
    "name": "ipython",
    "version": 3
   },
   "file_extension": ".py",
   "mimetype": "text/x-python",
   "name": "python",
   "nbconvert_exporter": "python",
   "pygments_lexer": "ipython3",
   "version": "3.6.6"
  }
 },
 "nbformat": 4,
 "nbformat_minor": 2
}
